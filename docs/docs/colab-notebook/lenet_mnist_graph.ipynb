{
  "nbformat": 4,
  "nbformat_minor": 0,
  "metadata": {
    "colab": {
      "name": "lenet_mnist_graph.ipynb",
      "provenance": [],
      "authorship_tag": "ABX9TyN1HaIumY12p/MDyGx9rdIM",
      "include_colab_link": true
    },
    "kernelspec": {
      "name": "python3",
      "display_name": "Python 3"
    }
  },
  "cells": [
    {
      "cell_type": "markdown",
      "metadata": {
        "id": "view-in-github",
        "colab_type": "text"
      },
      "source": [
        "<a href=\"https://colab.research.google.com/github/Le-Zheng/analytics-zoo/blob/lenet_mnist_graph/docs/docs/colab-notebook/lenet_mnist_graph.ipynb\" target=\"_parent\"><img src=\"https://colab.research.google.com/assets/colab-badge.svg\" alt=\"Open In Colab\"/></a>"
      ]
    },
    {
      "cell_type": "markdown",
      "metadata": {
        "id": "voMBntim9bMf"
      },
      "source": [
        "### Environment Preparation"
      ]
    },
    {
      "cell_type": "markdown",
      "metadata": {
        "id": "ccXnsv_pMCHQ"
      },
      "source": [
        "**Install Java 8**\r\n",
        "\r\n",
        "Run the command on the colaboratory file to install jdk 1.8:"
      ]
    },
    {
      "cell_type": "code",
      "metadata": {
        "colab": {
          "base_uri": "https://localhost:8080/"
        },
        "id": "HWx_0DSnXVhz",
        "outputId": "cda5217f-eafd-4dd3-c65c-db50913c7234"
      },
      "source": [
        "# Install jdk8\r\n",
        "!apt-get install openjdk-8-jdk-headless -qq > /dev/null\r\n",
        "import os\r\n",
        "# Set jdk environment path which enables you to run Pyspark in your Colab environment.\r\n",
        "os.environ[\"JAVA_HOME\"] = \"/usr/lib/jvm/java-8-openjdk-amd64\"\r\n",
        "!update-alternatives --set java /usr/lib/jvm/java-8-openjdk-amd64/jre/bin/java\r\n",
        "!java -version"
      ],
      "execution_count": null,
      "outputs": [
        {
          "output_type": "stream",
          "text": [
            "update-alternatives: using /usr/lib/jvm/java-8-openjdk-amd64/jre/bin/java to provide /usr/bin/java (java) in manual mode\n",
            "openjdk version \"1.8.0_275\"\n",
            "OpenJDK Runtime Environment (build 1.8.0_275-8u275-b01-0ubuntu1~18.04-b01)\n",
            "OpenJDK 64-Bit Server VM (build 25.275-b01, mixed mode)\n"
          ],
          "name": "stdout"
        }
      ]
    },
    {
      "cell_type": "markdown",
      "metadata": {
        "id": "I_OS4HKJMNpv"
      },
      "source": [
        "**Install Analytics Zoo from pip**\r\n",
        "\r\n",
        "You can also install the pre-release build version through `!pip install --pre  analytics-zoo`. Or install a nigthtly-build [wheels](https://sourceforge.net/projects/analytics-zoo/files/zoo-py/) by `!pip install analytics_zoo-*-py2.py3-none-*_x86_64.whl`"
      ]
    },
    {
      "cell_type": "code",
      "metadata": {
        "id": "YTIZo2OT85-j"
      },
      "source": [
        "# Install latest release version of analytics-zoo \r\n",
        "# Installing analytics-zoo from pip will automatically install pyspark, bigdl, and their dependencies.\r\n",
        "!pip install analytics-zoo"
      ],
      "execution_count": null,
      "outputs": []
    },
    {
      "cell_type": "code",
      "metadata": {
        "id": "d-XxRbeZ902c"
      },
      "source": [
        "# Install required dependencies\r\n",
        "!pip install tensorflow==1.15.0 tensorflow-probability==0.7.0 tensorflow-datasets==2.1.0"
      ],
      "execution_count": null,
      "outputs": []
    },
    {
      "cell_type": "markdown",
      "metadata": {
        "id": "l-l4vel5N3qP"
      },
      "source": [
        "## **lenet_mnist_graph example**\r\n",
        "\r\n",
        "This is an example to demonstrate how to use Analytics-Zoo's Orca TF Estimator API to run distributed Tensorflow and Keras on Spark. In this example we will describe how to scale out TensorFlow (v1.15) programs using Orca in 4 simple steps."
      ]
    },
    {
      "cell_type": "markdown",
      "metadata": {
        "id": "uNe-UFnRSM_C"
      },
      "source": [
        "import necesary libraries and modules\r\n",
        "\r\n",
        "\r\n"
      ]
    },
    {
      "cell_type": "code",
      "metadata": {
        "id": "RDPt2XTsT-Gv",
        "colab": {
          "base_uri": "https://localhost:8080/"
        },
        "outputId": "e28a1bbd-2283-4f3d-9486-3f237f878206"
      },
      "source": [
        "import argparse\r\n",
        "\r\n",
        "import tensorflow as tf\r\n",
        "import tensorflow_datasets as tfds\r\n",
        "from zoo.orca.learn.tf.estimator import Estimator\r\n",
        "from zoo.orca import init_orca_context, stop_orca_context\r\n",
        "from zoo.orca import OrcaContext"
      ],
      "execution_count": null,
      "outputs": [
        {
          "output_type": "stream",
          "text": [
            "Prepending /usr/local/lib/python3.6/dist-packages/bigdl/share/conf/spark-bigdl.conf to sys.path\n",
            "Adding /usr/local/lib/python3.6/dist-packages/zoo/share/lib/analytics-zoo-bigdl_0.12.1-spark_2.4.3-0.9.0-jar-with-dependencies.jar to BIGDL_JARS\n",
            "Prepending /usr/local/lib/python3.6/dist-packages/zoo/share/conf/spark-analytics-zoo.conf to sys.path\n",
            "WARNING:tensorflow:From /usr/local/lib/python3.6/dist-packages/zoo/tfpark/zoo_optimizer.py:73: The name tf.train.Optimizer is deprecated. Please use tf.compat.v1.train.Optimizer instead.\n",
            "\n"
          ],
          "name": "stdout"
        }
      ]
    },
    {
      "cell_type": "markdown",
      "metadata": {
        "id": "zBdeoZzLWWlY"
      },
      "source": [
        "### **Step 1: Init Orca Context**"
      ]
    },
    {
      "cell_type": "code",
      "metadata": {
        "id": "QAQp0FcUWaH3",
        "colab": {
          "base_uri": "https://localhost:8080/"
        },
        "outputId": "76bf5e2d-c303-4dbe-ce6f-f78044891dbe"
      },
      "source": [
        "OrcaContext.log_output = True # Whether to redirect Spark driver JVM's stdout and stderr to the current python process. This is useful when running Analytics Zoo in jupyter notebook. \r\n",
        "init_orca_context(cluster_mode=\"local\", cores=4)\r\n",
        "dataset_dir = \"~/tensorflow_datasets\""
      ],
      "execution_count": null,
      "outputs": [
        {
          "output_type": "stream",
          "text": [
            "Initializing orca context\n",
            "Current pyspark location is : /usr/local/lib/python3.6/dist-packages/pyspark/__init__.py\n",
            "Start to getOrCreate SparkContext\n",
            "pyspark_submit_args is:  --driver-class-path /usr/local/lib/python3.6/dist-packages/zoo/share/lib/analytics-zoo-bigdl_0.12.1-spark_2.4.3-0.9.0-jar-with-dependencies.jar:/usr/local/lib/python3.6/dist-packages/bigdl/share/lib/bigdl-0.12.1-jar-with-dependencies.jar pyspark-shell \n",
            "2020-12-29 07:16:58 WARN  NativeCodeLoader:62 - Unable to load native-hadoop library for your platform... using builtin-java classes where applicable\n"
          ],
          "name": "stdout"
        },
        {
          "output_type": "stream",
          "text": [
            "SLF4J: Class path contains multiple SLF4J bindings.\n",
            "SLF4J: Found binding in [jar:file:/usr/local/lib/python3.6/dist-packages/zoo/share/lib/analytics-zoo-bigdl_0.12.1-spark_2.4.3-0.9.0-jar-with-dependencies.jar!/org/slf4j/impl/StaticLoggerBinder.class]\n",
            "SLF4J: Found binding in [jar:file:/usr/local/lib/python3.6/dist-packages/pyspark/jars/slf4j-log4j12-1.7.16.jar!/org/slf4j/impl/StaticLoggerBinder.class]\n",
            "SLF4J: See http://www.slf4j.org/codes.html#multiple_bindings for an explanation.\n",
            "SLF4J: Actual binding is of type [org.slf4j.impl.Log4jLoggerFactory]\n",
            "Setting default log level to \"WARN\".\n",
            "To adjust logging level use sc.setLogLevel(newLevel). For SparkR, use setLogLevel(newLevel).\n"
          ],
          "name": "stderr"
        },
        {
          "output_type": "stream",
          "text": [
            "Successfully got a SparkContext\n",
            "cls.getname: com.intel.analytics.bigdl.python.api.Sample\n",
            "BigDLBasePickler registering: bigdl.util.common  Sample\n",
            "cls.getname: com.intel.analytics.bigdl.python.api.EvaluatedResult\n",
            "BigDLBasePickler registering: bigdl.util.common  EvaluatedResult\n",
            "cls.getname: com.intel.analytics.bigdl.python.api.JTensor\n",
            "BigDLBasePickler registering: bigdl.util.common  JTensor\n",
            "cls.getname: com.intel.analytics.bigdl.python.api.JActivity\n",
            "BigDLBasePickler registering: bigdl.util.common  JActivity\n"
          ],
          "name": "stdout"
        },
        {
          "output_type": "stream",
          "text": [
            "\n",
            "User settings:\n",
            "\n",
            "   KMP_AFFINITY=granularity=fine,compact,1,0\n",
            "   KMP_BLOCKTIME=0\n",
            "   KMP_DUPLICATE_LIB_OK=True\n",
            "   KMP_INIT_AT_FORK=FALSE\n",
            "   KMP_SETTINGS=1\n",
            "   OMP_NUM_THREADS=1\n",
            "\n",
            "Effective settings:\n",
            "\n",
            "   KMP_ABORT_DELAY=0\n",
            "   KMP_ADAPTIVE_LOCK_PROPS='1,1024'\n",
            "   KMP_ALIGN_ALLOC=64\n",
            "   KMP_ALL_THREADPRIVATE=128\n",
            "   KMP_ATOMIC_MODE=2\n",
            "   KMP_BLOCKTIME=0\n",
            "   KMP_CPUINFO_FILE: value is not defined\n",
            "   KMP_DETERMINISTIC_REDUCTION=false\n",
            "   KMP_DEVICE_THREAD_LIMIT=2147483647\n",
            "   KMP_DISP_HAND_THREAD=false\n",
            "   KMP_DISP_NUM_BUFFERS=7\n",
            "   KMP_DUPLICATE_LIB_OK=true\n",
            "   KMP_FORCE_REDUCTION: value is not defined\n",
            "   KMP_FOREIGN_THREADS_THREADPRIVATE=true\n",
            "   KMP_FORKJOIN_BARRIER='2,2'\n",
            "   KMP_FORKJOIN_BARRIER_PATTERN='hyper,hyper'\n",
            "   KMP_FORKJOIN_FRAMES=true\n",
            "   KMP_FORKJOIN_FRAMES_MODE=3\n",
            "   KMP_GTID_MODE=3\n",
            "   KMP_HANDLE_SIGNALS=false\n",
            "   KMP_HOT_TEAMS_MAX_LEVEL=1\n",
            "   KMP_HOT_TEAMS_MODE=0\n",
            "   KMP_INIT_AT_FORK=true\n",
            "   KMP_ITT_PREPARE_DELAY=0\n",
            "   KMP_LIBRARY=throughput\n",
            "   KMP_LOCK_KIND=queuing\n",
            "   KMP_MALLOC_POOL_INCR=1M\n",
            "   KMP_MWAIT_HINTS=0\n",
            "   KMP_NUM_LOCKS_IN_BLOCK=1\n",
            "   KMP_PLAIN_BARRIER='2,2'\n",
            "   KMP_PLAIN_BARRIER_PATTERN='hyper,hyper'\n",
            "   KMP_REDUCTION_BARRIER='1,1'\n",
            "   KMP_REDUCTION_BARRIER_PATTERN='hyper,hyper'\n",
            "   KMP_SCHEDULE='static,balanced;guided,iterative'\n",
            "   KMP_SETTINGS=true\n",
            "   KMP_SPIN_BACKOFF_PARAMS='4096,100'\n",
            "   KMP_STACKOFFSET=64\n",
            "   KMP_STACKPAD=0\n",
            "   KMP_STACKSIZE=8M\n",
            "   KMP_STORAGE_MAP=false\n",
            "   KMP_TASKING=2\n",
            "   KMP_TASKLOOP_MIN_TASKS=0\n",
            "   KMP_TASK_STEALING_CONSTRAINT=1\n",
            "   KMP_TEAMS_THREAD_LIMIT=2\n",
            "   KMP_TOPOLOGY_METHOD=all\n",
            "   KMP_USER_LEVEL_MWAIT=false\n",
            "   KMP_USE_YIELD=1\n",
            "   KMP_VERSION=false\n",
            "   KMP_WARNINGS=true\n",
            "   OMP_AFFINITY_FORMAT='OMP: pid %P tid %i thread %n bound to OS proc set {%A}'\n",
            "   OMP_ALLOCATOR=omp_default_mem_alloc\n",
            "   OMP_CANCELLATION=false\n",
            "   OMP_DEBUG=disabled\n",
            "   OMP_DEFAULT_DEVICE=0\n",
            "   OMP_DISPLAY_AFFINITY=false\n",
            "   OMP_DISPLAY_ENV=false\n",
            "   OMP_DYNAMIC=false\n",
            "   OMP_MAX_ACTIVE_LEVELS=2147483647\n",
            "   OMP_MAX_TASK_PRIORITY=0\n",
            "   OMP_NESTED=false\n",
            "   OMP_NUM_THREADS='1'\n",
            "   OMP_PLACES: value is not defined\n",
            "   OMP_PROC_BIND='intel'\n",
            "   OMP_SCHEDULE='static'\n",
            "   OMP_STACKSIZE=8M\n",
            "   OMP_TARGET_OFFLOAD=DEFAULT\n",
            "   OMP_THREAD_LIMIT=2147483647\n",
            "   OMP_TOOL=enabled\n",
            "   OMP_TOOL_LIBRARIES: value is not defined\n",
            "   OMP_WAIT_POLICY=PASSIVE\n",
            "   KMP_AFFINITY='noverbose,warnings,respect,granularity=fine,compact,1,0'\n",
            "\n"
          ],
          "name": "stderr"
        }
      ]
    },
    {
      "cell_type": "markdown",
      "metadata": {
        "id": "ld-pV8e-Vb7D"
      },
      "source": [
        "### **Step 2: Define the Model**"
      ]
    },
    {
      "cell_type": "code",
      "metadata": {
        "colab": {
          "base_uri": "https://localhost:8080/"
        },
        "id": "DC1P7_gP9FKm",
        "outputId": "a0fdb5db-00e2-477d-eee7-4ebdafe7e5c3"
      },
      "source": [
        "def accuracy(logits, labels):\r\n",
        "    predictions = tf.argmax(logits, axis=1, output_type=labels.dtype)\r\n",
        "    is_correct = tf.cast(tf.equal(predictions, labels), dtype=tf.float32)\r\n",
        "    return tf.reduce_mean(is_correct)\r\n",
        "\r\n",
        "\r\n",
        "def lenet(images):\r\n",
        "    with tf.variable_scope('LeNet', [images]):\r\n",
        "        net = tf.layers.conv2d(images, 32, (5, 5), activation=tf.nn.relu, name='conv1')\r\n",
        "        net = tf.layers.max_pooling2d(net, (2, 2), 2, name='pool1')\r\n",
        "        net = tf.layers.conv2d(net, 64, (5, 5), activation=tf.nn.relu, name='conv2')\r\n",
        "        net = tf.layers.max_pooling2d(net, (2, 2), 2, name='pool2')\r\n",
        "        net = tf.layers.flatten(net)\r\n",
        "        net = tf.layers.dense(net, 1024, activation=tf.nn.relu, name='fc3')\r\n",
        "        logits = tf.layers.dense(net, 10)\r\n",
        "        return logits\r\n",
        "\r\n",
        "# tensorflow inputs\r\n",
        "images = tf.placeholder(dtype=tf.float32, shape=(None, 28, 28, 1))\r\n",
        "# tensorflow labels\r\n",
        "labels = tf.placeholder(dtype=tf.int32, shape=(None,))\r\n",
        "\r\n",
        "logits = lenet(images)\r\n",
        "\r\n",
        "loss = tf.reduce_mean(tf.losses.sparse_softmax_cross_entropy(logits=logits, labels=labels))\r\n",
        "\r\n",
        "acc = accuracy(logits, labels)"
      ],
      "execution_count": null,
      "outputs": [
        {
          "output_type": "stream",
          "text": [
            "WARNING:tensorflow:From <ipython-input-6-52bf1feb3fe7>:9: conv2d (from tensorflow.python.layers.convolutional) is deprecated and will be removed in a future version.\n",
            "Instructions for updating:\n",
            "Use `tf.keras.layers.Conv2D` instead.\n"
          ],
          "name": "stdout"
        },
        {
          "output_type": "stream",
          "text": [
            "WARNING:tensorflow:From <ipython-input-6-52bf1feb3fe7>:9: conv2d (from tensorflow.python.layers.convolutional) is deprecated and will be removed in a future version.\n",
            "Instructions for updating:\n",
            "Use `tf.keras.layers.Conv2D` instead.\n"
          ],
          "name": "stderr"
        },
        {
          "output_type": "stream",
          "text": [
            "WARNING:tensorflow:From /usr/local/lib/python3.6/dist-packages/tensorflow_core/python/layers/convolutional.py:424: Layer.apply (from tensorflow.python.keras.engine.base_layer) is deprecated and will be removed in a future version.\n",
            "Instructions for updating:\n",
            "Please use `layer.__call__` method instead.\n"
          ],
          "name": "stdout"
        },
        {
          "output_type": "stream",
          "text": [
            "WARNING:tensorflow:From /usr/local/lib/python3.6/dist-packages/tensorflow_core/python/layers/convolutional.py:424: Layer.apply (from tensorflow.python.keras.engine.base_layer) is deprecated and will be removed in a future version.\n",
            "Instructions for updating:\n",
            "Please use `layer.__call__` method instead.\n"
          ],
          "name": "stderr"
        },
        {
          "output_type": "stream",
          "text": [
            "WARNING:tensorflow:From <ipython-input-6-52bf1feb3fe7>:10: max_pooling2d (from tensorflow.python.layers.pooling) is deprecated and will be removed in a future version.\n",
            "Instructions for updating:\n",
            "Use keras.layers.MaxPooling2D instead.\n"
          ],
          "name": "stdout"
        },
        {
          "output_type": "stream",
          "text": [
            "WARNING:tensorflow:From <ipython-input-6-52bf1feb3fe7>:10: max_pooling2d (from tensorflow.python.layers.pooling) is deprecated and will be removed in a future version.\n",
            "Instructions for updating:\n",
            "Use keras.layers.MaxPooling2D instead.\n"
          ],
          "name": "stderr"
        },
        {
          "output_type": "stream",
          "text": [
            "WARNING:tensorflow:From <ipython-input-6-52bf1feb3fe7>:13: flatten (from tensorflow.python.layers.core) is deprecated and will be removed in a future version.\n",
            "Instructions for updating:\n",
            "Use keras.layers.flatten instead.\n"
          ],
          "name": "stdout"
        },
        {
          "output_type": "stream",
          "text": [
            "WARNING:tensorflow:From <ipython-input-6-52bf1feb3fe7>:13: flatten (from tensorflow.python.layers.core) is deprecated and will be removed in a future version.\n",
            "Instructions for updating:\n",
            "Use keras.layers.flatten instead.\n"
          ],
          "name": "stderr"
        },
        {
          "output_type": "stream",
          "text": [
            "WARNING:tensorflow:From <ipython-input-6-52bf1feb3fe7>:14: dense (from tensorflow.python.layers.core) is deprecated and will be removed in a future version.\n",
            "Instructions for updating:\n",
            "Use keras.layers.Dense instead.\n"
          ],
          "name": "stdout"
        },
        {
          "output_type": "stream",
          "text": [
            "WARNING:tensorflow:From <ipython-input-6-52bf1feb3fe7>:14: dense (from tensorflow.python.layers.core) is deprecated and will be removed in a future version.\n",
            "Instructions for updating:\n",
            "Use keras.layers.Dense instead.\n"
          ],
          "name": "stderr"
        },
        {
          "output_type": "stream",
          "text": [
            "WARNING:tensorflow:From /usr/local/lib/python3.6/dist-packages/tensorflow_core/python/ops/losses/losses_impl.py:121: where (from tensorflow.python.ops.array_ops) is deprecated and will be removed in a future version.\n",
            "Instructions for updating:\n",
            "Use tf.where in 2.0, which has the same broadcast rule as np.where\n"
          ],
          "name": "stdout"
        },
        {
          "output_type": "stream",
          "text": [
            "WARNING:tensorflow:From /usr/local/lib/python3.6/dist-packages/tensorflow_core/python/ops/losses/losses_impl.py:121: where (from tensorflow.python.ops.array_ops) is deprecated and will be removed in a future version.\n",
            "Instructions for updating:\n",
            "Use tf.where in 2.0, which has the same broadcast rule as np.where\n"
          ],
          "name": "stderr"
        }
      ]
    },
    {
      "cell_type": "markdown",
      "metadata": {
        "id": "CiTnHATGYn_f"
      },
      "source": [
        "### **Step 3: Define Train Dataset**"
      ]
    },
    {
      "cell_type": "code",
      "metadata": {
        "id": "-YHW93myYykE"
      },
      "source": [
        "# get DataSet\r\n",
        "mnist_train = tfds.load(name=\"mnist\", split=\"train\", data_dir=dataset_dir)\r\n",
        "mnist_test = tfds.load(name=\"mnist\", split=\"test\", data_dir=dataset_dir)"
      ],
      "execution_count": null,
      "outputs": []
    },
    {
      "cell_type": "code",
      "metadata": {
        "id": "yMyUkr0HYzNV"
      },
      "source": [
        "# preprocess data\r\n",
        "def preprocess(data):\r\n",
        "    data['image'] = tf.cast(data[\"image\"], tf.float32) / 255.\r\n",
        "    return data['image'], data['label']\r\n",
        "\r\n",
        "mnist_train = mnist_train.map(preprocess)\r\n",
        "mnist_test = mnist_test.map(preprocess)"
      ],
      "execution_count": null,
      "outputs": []
    },
    {
      "cell_type": "markdown",
      "metadata": {
        "id": "CnbOmWHsXOmg"
      },
      "source": [
        "### **Step 4: Fit with Orca Estimator**\r\n",
        "\r\n",
        "*   First, create an Estimator\r\n",
        "\r\n"
      ]
    },
    {
      "cell_type": "code",
      "metadata": {
        "id": "bsNbQROFXNgU",
        "colab": {
          "base_uri": "https://localhost:8080/"
        },
        "outputId": "6c67b9e9-2a24-4559-ab0e-2b9c59182d3e"
      },
      "source": [
        "est = Estimator.from_graph(inputs=images,\r\n",
        "                               outputs=logits,\r\n",
        "                               labels=labels,\r\n",
        "                               loss=loss,\r\n",
        "                               optimizer=tf.train.AdamOptimizer(),\r\n",
        "                               metrics={\"acc\": acc})"
      ],
      "execution_count": null,
      "outputs": [
        {
          "output_type": "stream",
          "text": [
            "WARNING:tensorflow:From /usr/local/lib/python3.6/dist-packages/zoo/orca/learn/tf/estimator.py:354: The name tf.Session is deprecated. Please use tf.compat.v1.Session instead.\n",
            "\n"
          ],
          "name": "stdout"
        },
        {
          "output_type": "stream",
          "text": [
            "WARNING:tensorflow:From /usr/local/lib/python3.6/dist-packages/zoo/orca/learn/tf/estimator.py:354: The name tf.Session is deprecated. Please use tf.compat.v1.Session instead.\n",
            "\n"
          ],
          "name": "stderr"
        },
        {
          "output_type": "stream",
          "text": [
            "WARNING:tensorflow:From /usr/local/lib/python3.6/dist-packages/zoo/orca/learn/tf/estimator.py:355: The name tf.global_variables_initializer is deprecated. Please use tf.compat.v1.global_variables_initializer instead.\n",
            "\n"
          ],
          "name": "stdout"
        },
        {
          "output_type": "stream",
          "text": [
            "WARNING:tensorflow:From /usr/local/lib/python3.6/dist-packages/zoo/orca/learn/tf/estimator.py:355: The name tf.global_variables_initializer is deprecated. Please use tf.compat.v1.global_variables_initializer instead.\n",
            "\n"
          ],
          "name": "stderr"
        }
      ]
    },
    {
      "cell_type": "markdown",
      "metadata": {
        "id": "7bNtls5WXnzU"
      },
      "source": [
        "*   Next, fit and evaluate using the Estimator"
      ]
    },
    {
      "cell_type": "code",
      "metadata": {
        "id": "imhbbDNXXsXR",
        "colab": {
          "base_uri": "https://localhost:8080/"
        },
        "outputId": "8943d28e-7664-4cea-ced0-fd67e5732b12"
      },
      "source": [
        "max_epoch = 5\r\n",
        "est.fit(data=mnist_train,\r\n",
        "            batch_size=320,\r\n",
        "            epochs=max_epoch,\r\n",
        "            validation_data=mnist_test,\r\n",
        "            # tfds mnist only has one file and cannot be sharded on files,\r\n",
        "            # falling back on sharding on records.\r\n",
        "            auto_shard_files=False)\r\n",
        "\r\n",
        "result = est.evaluate(mnist_test, auto_shard_files=False)\r\n",
        "print(result)\r\n",
        "\r\n",
        "est.save_tf_checkpoint(\"/tmp/lenet/model\")"
      ],
      "execution_count": null,
      "outputs": [
        {
          "output_type": "stream",
          "text": [
            "WARNING:tensorflow:From /usr/local/lib/python3.6/dist-packages/zoo/tfpark/tf_dataset.py:743: The name tf.get_default_graph is deprecated. Please use tf.compat.v1.get_default_graph instead.\n",
            "\n"
          ],
          "name": "stdout"
        },
        {
          "output_type": "stream",
          "text": [
            "WARNING:tensorflow:From /usr/local/lib/python3.6/dist-packages/zoo/tfpark/tf_dataset.py:743: The name tf.get_default_graph is deprecated. Please use tf.compat.v1.get_default_graph instead.\n",
            "\n"
          ],
          "name": "stderr"
        },
        {
          "output_type": "stream",
          "text": [
            "WARNING:tensorflow:From /usr/local/lib/python3.6/dist-packages/zoo/tfpark/tf_dataset.py:843: The name tf.tables_initializer is deprecated. Please use tf.compat.v1.tables_initializer instead.\n",
            "\n"
          ],
          "name": "stdout"
        },
        {
          "output_type": "stream",
          "text": [
            "WARNING:tensorflow:From /usr/local/lib/python3.6/dist-packages/zoo/tfpark/tf_dataset.py:843: The name tf.tables_initializer is deprecated. Please use tf.compat.v1.tables_initializer instead.\n",
            "\n"
          ],
          "name": "stderr"
        },
        {
          "output_type": "stream",
          "text": [
            "WARNING:tensorflow:From /usr/local/lib/python3.6/dist-packages/zoo/tfpark/tf_dataset.py:210: The name tf.add_to_collection is deprecated. Please use tf.compat.v1.add_to_collection instead.\n",
            "\n"
          ],
          "name": "stdout"
        },
        {
          "output_type": "stream",
          "text": [
            "WARNING:tensorflow:From /usr/local/lib/python3.6/dist-packages/zoo/tfpark/tf_dataset.py:210: The name tf.add_to_collection is deprecated. Please use tf.compat.v1.add_to_collection instead.\n",
            "\n"
          ],
          "name": "stderr"
        },
        {
          "output_type": "stream",
          "text": [
            "creating: createFakeOptimMethod\n",
            "WARNING:tensorflow:From /usr/local/lib/python3.6/dist-packages/zoo/tfpark/tf_optimizer.py:295: to_float (from tensorflow.python.ops.math_ops) is deprecated and will be removed in a future version.\n",
            "Instructions for updating:\n",
            "Use `tf.cast` instead.\n"
          ],
          "name": "stdout"
        },
        {
          "output_type": "stream",
          "text": [
            "WARNING:tensorflow:From /usr/local/lib/python3.6/dist-packages/zoo/tfpark/tf_optimizer.py:295: to_float (from tensorflow.python.ops.math_ops) is deprecated and will be removed in a future version.\n",
            "Instructions for updating:\n",
            "Use `tf.cast` instead.\n"
          ],
          "name": "stderr"
        },
        {
          "output_type": "stream",
          "text": [
            "WARNING:tensorflow:From /usr/local/lib/python3.6/dist-packages/zoo/tfpark/tf_optimizer.py:159: The name tf.is_numeric_tensor is deprecated. Please use tf.debugging.is_numeric_tensor instead.\n",
            "\n"
          ],
          "name": "stdout"
        },
        {
          "output_type": "stream",
          "text": [
            "WARNING:tensorflow:From /usr/local/lib/python3.6/dist-packages/zoo/tfpark/tf_optimizer.py:159: The name tf.is_numeric_tensor is deprecated. Please use tf.debugging.is_numeric_tensor instead.\n",
            "\n"
          ],
          "name": "stderr"
        },
        {
          "output_type": "stream",
          "text": [
            "creating: createStatelessMetric\n",
            "WARNING:tensorflow:From /usr/local/lib/python3.6/dist-packages/zoo/tfpark/tf_optimizer.py:187: The name tf.GraphKeys is deprecated. Please use tf.compat.v1.GraphKeys instead.\n",
            "\n"
          ],
          "name": "stdout"
        },
        {
          "output_type": "stream",
          "text": [
            "WARNING:tensorflow:From /usr/local/lib/python3.6/dist-packages/zoo/tfpark/tf_optimizer.py:187: The name tf.GraphKeys is deprecated. Please use tf.compat.v1.GraphKeys instead.\n",
            "\n"
          ],
          "name": "stderr"
        },
        {
          "output_type": "stream",
          "text": [
            "WARNING:tensorflow:From /usr/local/lib/python3.6/dist-packages/zoo/tfpark/tf_optimizer.py:202: The name tf.assign is deprecated. Please use tf.compat.v1.assign instead.\n",
            "\n"
          ],
          "name": "stdout"
        },
        {
          "output_type": "stream",
          "text": [
            "WARNING:tensorflow:From /usr/local/lib/python3.6/dist-packages/zoo/tfpark/tf_optimizer.py:202: The name tf.assign is deprecated. Please use tf.compat.v1.assign instead.\n",
            "\n"
          ],
          "name": "stderr"
        },
        {
          "output_type": "stream",
          "text": [
            "WARNING:tensorflow:From /usr/local/lib/python3.6/dist-packages/zoo/tfpark/tf_optimizer.py:243: The name tf.train.Saver is deprecated. Please use tf.compat.v1.train.Saver instead.\n",
            "\n"
          ],
          "name": "stdout"
        },
        {
          "output_type": "stream",
          "text": [
            "WARNING:tensorflow:From /usr/local/lib/python3.6/dist-packages/zoo/tfpark/tf_optimizer.py:243: The name tf.train.Saver is deprecated. Please use tf.compat.v1.train.Saver instead.\n",
            "\n"
          ],
          "name": "stderr"
        },
        {
          "output_type": "stream",
          "text": [
            "WARNING:tensorflow:From /usr/local/lib/python3.6/dist-packages/zoo/tfpark/tf_optimizer.py:285: The name tf.gfile.GFile is deprecated. Please use tf.io.gfile.GFile instead.\n",
            "\n"
          ],
          "name": "stdout"
        },
        {
          "output_type": "stream",
          "text": [
            "WARNING:tensorflow:From /usr/local/lib/python3.6/dist-packages/zoo/tfpark/tf_optimizer.py:285: The name tf.gfile.GFile is deprecated. Please use tf.io.gfile.GFile instead.\n",
            "\n"
          ],
          "name": "stderr"
        },
        {
          "output_type": "stream",
          "text": [
            "creating: createTFTrainingHelper\n",
            "linux-x86_64/libiomp5.so\n",
            "linux-x86_64/libmklml_intel.so\n",
            "linux-x86_64/libtensorflow_framework-zoo.so\n",
            "linux-x86_64/libtensorflow_jni.so\n"
          ],
          "name": "stdout"
        },
        {
          "output_type": "stream",
          "text": [
            "2020-12-29 07:29:08.906018: I tensorflow/core/platform/cpu_feature_guard.cc:145] This TensorFlow binary is optimized with Intel(R) MKL-DNN to use the following CPU instructions in performance critical operations:  AVX2 FMA\n",
            "To enable them in non-MKL-DNN operations, rebuild TensorFlow with the appropriate compiler flags.\n",
            "2020-12-29 07:29:08.910865: I tensorflow/core/platform/profile_utils/cpu_utils.cc:94] CPU Frequency: 2199995000 Hz\n",
            "2020-12-29 07:29:08.911058: I tensorflow/compiler/xla/service/service.cc:168] XLA service 0x56010bf159c0 initialized for platform Host (this does not guarantee that XLA will be used). Devices:\n",
            "2020-12-29 07:29:08.911092: I tensorflow/compiler/xla/service/service.cc:176]   StreamExecutor device (0): Host, Default Version\n"
          ],
          "name": "stderr"
        },
        {
          "output_type": "stream",
          "text": [
            "creating: createIdentityCriterion\n",
            "creating: createEstimator\n",
            "creating: createMaxEpoch\n",
            "creating: createEveryEpoch\n",
            "2020-12-29 07:29:10 INFO  DistriOptimizer$:818 - caching training rdd ...\n",
            "2020-12-29 07:29:11 INFO  DistriOptimizer$:649 - Cache thread models...\n",
            "2020-12-29 07:29:11 INFO  DistriOptimizer$:632 - model thread pool size is 1\n",
            "2020-12-29 07:29:11 INFO  DistriOptimizer$:651 - Cache thread models... done\n",
            "2020-12-29 07:29:11 INFO  DistriOptimizer$:161 - Count dataset\n"
          ],
          "name": "stdout"
        },
        {
          "output_type": "stream",
          "text": [
            ""
          ],
          "name": "stderr"
        },
        {
          "output_type": "stream",
          "text": [
            "2020-12-29 07:29:25 INFO  DistriOptimizer$:165 - Count dataset complete. Time elapsed: 13.952856865s\n",
            "2020-12-29 07:29:25 WARN  DistriOptimizer$:167 - If the dataset is built directly from RDD[Minibatch], the data in each minibatch is fixed, and a single minibatch is randomly selected in each partition. If the dataset is transformed from RDD[Sample], each minibatch will be constructed on the fly from random samples, which is better for convergence.\n",
            "2020-12-29 07:29:25 INFO  DistriOptimizer$:173 - config  {\n",
            "\tcomputeThresholdbatchSize: 100\n",
            "\tmaxDropPercentage: 0.0\n",
            "\twarmupIterationNum: 200\n",
            "\tisLayerwiseScaled: false\n",
            "\tdropPercentage: 0.0\n",
            " }\n",
            "2020-12-29 07:29:25 INFO  DistriOptimizer$:177 - Shuffle data\n",
            "2020-12-29 07:29:25 INFO  DistriOptimizer$:180 - Shuffle data complete. Takes 3.57356E-4s\n"
          ],
          "name": "stdout"
        },
        {
          "output_type": "stream",
          "text": [
            ""
          ],
          "name": "stderr"
        },
        {
          "output_type": "stream",
          "text": [
            "2020-12-29 07:29:27 INFO  DistriOptimizer$:427 - [Epoch 1 320/59840][Iteration 1][Wall Clock 1.994962515s] Trained 320.0 records in 1.994962515 seconds. Throughput is 160.404 records/second. Loss is 2.3133864. \n",
            "2020-12-29 07:29:28 INFO  DistriOptimizer$:427 - [Epoch 1 640/59840][Iteration 2][Wall Clock 2.574725668s] Trained 320.0 records in 0.579763153 seconds. Throughput is 551.9495 records/second. Loss is 2.2094712. \n"
          ],
          "name": "stdout"
        },
        {
          "output_type": "stream",
          "text": [
            "\r[Stage 12:>                                                         (0 + 1) / 1]\r                                                                                \r"
          ],
          "name": "stderr"
        },
        {
          "output_type": "stream",
          "text": [
            "2020-12-29 07:29:29 INFO  DistriOptimizer$:427 - [Epoch 1 960/59840][Iteration 3][Wall Clock 3.435067748s] Trained 320.0 records in 0.86034208 seconds. Throughput is 371.94507 records/second. Loss is 2.0914617. \n",
            "2020-12-29 07:29:29 INFO  DistriOptimizer$:427 - [Epoch 1 1280/59840][Iteration 4][Wall Clock 3.973975582s] Trained 320.0 records in 0.538907834 seconds. Throughput is 593.7936 records/second. Loss is 1.9248683. \n",
            "2020-12-29 07:29:29 INFO  DistriOptimizer$:427 - [Epoch 1 1600/59840][Iteration 5][Wall Clock 4.422168976s] Trained 320.0 records in 0.448193394 seconds. Throughput is 713.9775 records/second. Loss is 1.6669126. \n",
            "2020-12-29 07:29:30 INFO  DistriOptimizer$:427 - [Epoch 1 1920/59840][Iteration 6][Wall Clock 4.913825285s] Trained 320.0 records in 0.491656309 seconds. Throughput is 650.8612 records/second. Loss is 1.4545443. \n",
            "2020-12-29 07:29:30 INFO  DistriOptimizer$:427 - [Epoch 1 2240/59840][Iteration 7][Wall Clock 5.4092189s] Trained 320.0 records in 0.495393615 seconds. Throughput is 645.951 records/second. Loss is 1.1919975. \n",
            "2020-12-29 07:29:31 INFO  DistriOptimizer$:427 - [Epoch 1 2560/59840][Iteration 8][Wall Clock 5.864763545s] Trained 320.0 records in 0.455544645 seconds. Throughput is 702.4558 records/second. Loss is 1.0861282. \n",
            "2020-12-29 07:29:31 INFO  DistriOptimizer$:427 - [Epoch 1 2880/59840][Iteration 9][Wall Clock 6.34793855s] Trained 320.0 records in 0.483175005 seconds. Throughput is 662.2859 records/second. Loss is 0.8877123. \n",
            "2020-12-29 07:29:32 INFO  DistriOptimizer$:427 - [Epoch 1 3200/59840][Iteration 10][Wall Clock 6.78569057s] Trained 320.0 records in 0.43775202 seconds. Throughput is 731.0075 records/second. Loss is 0.847828. \n",
            "2020-12-29 07:29:32 INFO  DistriOptimizer$:427 - [Epoch 1 3520/59840][Iteration 11][Wall Clock 7.254666098s] Trained 320.0 records in 0.468975528 seconds. Throughput is 682.3384 records/second. Loss is 0.6964123. \n",
            "2020-12-29 07:29:33 INFO  DistriOptimizer$:427 - [Epoch 1 3840/59840][Iteration 12][Wall Clock 7.723371564s] Trained 320.0 records in 0.468705466 seconds. Throughput is 682.7315 records/second. Loss is 0.615944. \n",
            "2020-12-29 07:29:33 INFO  DistriOptimizer$:427 - [Epoch 1 4160/59840][Iteration 13][Wall Clock 8.196507021s] Trained 320.0 records in 0.473135457 seconds. Throughput is 676.33905 records/second. Loss is 0.55007035. \n",
            "2020-12-29 07:29:34 INFO  DistriOptimizer$:427 - [Epoch 1 4480/59840][Iteration 14][Wall Clock 8.625007966s] Trained 320.0 records in 0.428500945 seconds. Throughput is 746.7895 records/second. Loss is 0.4250294. \n",
            "2020-12-29 07:29:34 INFO  DistriOptimizer$:427 - [Epoch 1 4800/59840][Iteration 15][Wall Clock 9.037003032s] Trained 320.0 records in 0.411995066 seconds. Throughput is 776.7084 records/second. Loss is 0.5135759. \n",
            "2020-12-29 07:29:35 INFO  DistriOptimizer$:427 - [Epoch 1 5120/59840][Iteration 16][Wall Clock 9.468527768s] Trained 320.0 records in 0.431524736 seconds. Throughput is 741.5566 records/second. Loss is 0.68395627. \n",
            "2020-12-29 07:29:35 INFO  DistriOptimizer$:427 - [Epoch 1 5440/59840][Iteration 17][Wall Clock 9.900180572s] Trained 320.0 records in 0.431652804 seconds. Throughput is 741.33655 records/second. Loss is 0.38741702. \n",
            "2020-12-29 07:29:35 INFO  DistriOptimizer$:427 - [Epoch 1 5760/59840][Iteration 18][Wall Clock 10.398068103s] Trained 320.0 records in 0.497887531 seconds. Throughput is 642.71545 records/second. Loss is 0.41896784. \n",
            "2020-12-29 07:29:36 INFO  DistriOptimizer$:427 - [Epoch 1 6080/59840][Iteration 19][Wall Clock 10.805505579s] Trained 320.0 records in 0.407437476 seconds. Throughput is 785.3966 records/second. Loss is 0.5143573. \n",
            "2020-12-29 07:29:36 INFO  DistriOptimizer$:427 - [Epoch 1 6400/59840][Iteration 20][Wall Clock 11.250833645s] Trained 320.0 records in 0.445328066 seconds. Throughput is 718.5714 records/second. Loss is 0.41902333. \n",
            "2020-12-29 07:29:37 INFO  DistriOptimizer$:427 - [Epoch 1 6720/59840][Iteration 21][Wall Clock 11.668086977s] Trained 320.0 records in 0.417253332 seconds. Throughput is 766.92017 records/second. Loss is 0.45686173. \n",
            "2020-12-29 07:29:37 INFO  DistriOptimizer$:427 - [Epoch 1 7040/59840][Iteration 22][Wall Clock 12.059220061s] Trained 320.0 records in 0.391133084 seconds. Throughput is 818.13586 records/second. Loss is 0.36763486. \n",
            "2020-12-29 07:29:38 INFO  DistriOptimizer$:427 - [Epoch 1 7360/59840][Iteration 23][Wall Clock 12.439172861s] Trained 320.0 records in 0.3799528 seconds. Throughput is 842.2099 records/second. Loss is 0.38676536. \n",
            "2020-12-29 07:29:38 INFO  DistriOptimizer$:427 - [Epoch 1 7680/59840][Iteration 24][Wall Clock 12.837892552s] Trained 320.0 records in 0.398719691 seconds. Throughput is 802.56885 records/second. Loss is 0.31030396. \n",
            "2020-12-29 07:29:38 INFO  DistriOptimizer$:427 - [Epoch 1 8000/59840][Iteration 25][Wall Clock 13.292808952s] Trained 320.0 records in 0.4549164 seconds. Throughput is 703.42596 records/second. Loss is 0.4403381. \n",
            "2020-12-29 07:29:39 INFO  DistriOptimizer$:427 - [Epoch 1 8320/59840][Iteration 26][Wall Clock 13.680178475s] Trained 320.0 records in 0.387369523 seconds. Throughput is 826.08466 records/second. Loss is 0.2852974. \n",
            "2020-12-29 07:29:39 INFO  DistriOptimizer$:427 - [Epoch 1 8640/59840][Iteration 27][Wall Clock 14.091962196s] Trained 320.0 records in 0.411783721 seconds. Throughput is 777.10693 records/second. Loss is 0.28662217. \n",
            "2020-12-29 07:29:40 INFO  DistriOptimizer$:427 - [Epoch 1 8960/59840][Iteration 28][Wall Clock 14.466614766s] Trained 320.0 records in 0.37465257 seconds. Throughput is 854.1247 records/second. Loss is 0.31129003. \n",
            "2020-12-29 07:29:40 INFO  DistriOptimizer$:427 - [Epoch 1 9280/59840][Iteration 29][Wall Clock 14.859306971s] Trained 320.0 records in 0.392692205 seconds. Throughput is 814.8876 records/second. Loss is 0.2925582. \n",
            "2020-12-29 07:29:40 INFO  DistriOptimizer$:427 - [Epoch 1 9600/59840][Iteration 30][Wall Clock 15.239015887s] Trained 320.0 records in 0.379708916 seconds. Throughput is 842.7508 records/second. Loss is 0.27963072. \n",
            "2020-12-29 07:29:41 INFO  DistriOptimizer$:427 - [Epoch 1 9920/59840][Iteration 31][Wall Clock 15.699147879s] Trained 320.0 records in 0.460131992 seconds. Throughput is 695.4526 records/second. Loss is 0.26015618. \n",
            "2020-12-29 07:29:41 INFO  DistriOptimizer$:427 - [Epoch 1 10240/59840][Iteration 32][Wall Clock 16.129405962s] Trained 320.0 records in 0.430258083 seconds. Throughput is 743.7396 records/second. Loss is 0.2390134. \n",
            "2020-12-29 07:29:42 INFO  DistriOptimizer$:427 - [Epoch 1 10560/59840][Iteration 33][Wall Clock 16.559688479s] Trained 320.0 records in 0.430282517 seconds. Throughput is 743.69745 records/second. Loss is 0.23433696. \n",
            "2020-12-29 07:29:42 INFO  DistriOptimizer$:427 - [Epoch 1 10880/59840][Iteration 34][Wall Clock 17.005000429s] Trained 320.0 records in 0.44531195 seconds. Throughput is 718.59735 records/second. Loss is 0.2476078. \n",
            "2020-12-29 07:29:43 INFO  DistriOptimizer$:427 - [Epoch 1 11200/59840][Iteration 35][Wall Clock 17.412173026s] Trained 320.0 records in 0.407172597 seconds. Throughput is 785.90753 records/second. Loss is 0.30658585. \n",
            "2020-12-29 07:29:43 INFO  DistriOptimizer$:427 - [Epoch 1 11520/59840][Iteration 36][Wall Clock 17.803973048s] Trained 320.0 records in 0.391800022 seconds. Throughput is 816.7432 records/second. Loss is 0.19012886. \n",
            "2020-12-29 07:29:43 INFO  DistriOptimizer$:427 - [Epoch 1 11840/59840][Iteration 37][Wall Clock 18.213412987s] Trained 320.0 records in 0.409439939 seconds. Throughput is 781.55536 records/second. Loss is 0.21204412. \n",
            "2020-12-29 07:29:44 INFO  DistriOptimizer$:427 - [Epoch 1 12160/59840][Iteration 38][Wall Clock 18.690832988s] Trained 320.0 records in 0.477420001 seconds. Throughput is 670.26935 records/second. Loss is 0.24068439. \n",
            "2020-12-29 07:29:44 INFO  DistriOptimizer$:427 - [Epoch 1 12480/59840][Iteration 39][Wall Clock 19.113589532s] Trained 320.0 records in 0.422756544 seconds. Throughput is 756.9368 records/second. Loss is 0.2536554. \n",
            "2020-12-29 07:29:45 INFO  DistriOptimizer$:427 - [Epoch 1 12800/59840][Iteration 40][Wall Clock 19.544502618s] Trained 320.0 records in 0.430913086 seconds. Throughput is 742.60913 records/second. Loss is 0.17982416. \n",
            "2020-12-29 07:29:45 INFO  DistriOptimizer$:427 - [Epoch 1 13120/59840][Iteration 41][Wall Clock 19.963667404s] Trained 320.0 records in 0.419164786 seconds. Throughput is 763.4229 records/second. Loss is 0.18025678. \n",
            "2020-12-29 07:29:45 INFO  DistriOptimizer$:427 - [Epoch 1 13440/59840][Iteration 42][Wall Clock 20.370939998s] Trained 320.0 records in 0.407272594 seconds. Throughput is 785.71454 records/second. Loss is 0.19704568. \n",
            "2020-12-29 07:29:46 INFO  DistriOptimizer$:427 - [Epoch 1 13760/59840][Iteration 43][Wall Clock 20.750534325s] Trained 320.0 records in 0.379594327 seconds. Throughput is 843.00525 records/second. Loss is 0.2509898. \n",
            "2020-12-29 07:29:46 INFO  DistriOptimizer$:427 - [Epoch 1 14080/59840][Iteration 44][Wall Clock 21.149123091s] Trained 320.0 records in 0.398588766 seconds. Throughput is 802.83246 records/second. Loss is 0.24138299. \n",
            "2020-12-29 07:29:47 INFO  DistriOptimizer$:427 - [Epoch 1 14400/59840][Iteration 45][Wall Clock 21.5153903s] Trained 320.0 records in 0.366267209 seconds. Throughput is 873.6791 records/second. Loss is 0.18629643. \n",
            "2020-12-29 07:29:47 INFO  DistriOptimizer$:427 - [Epoch 1 14720/59840][Iteration 46][Wall Clock 21.933831118s] Trained 320.0 records in 0.418440818 seconds. Throughput is 764.7438 records/second. Loss is 0.23013872. \n",
            "2020-12-29 07:29:47 INFO  DistriOptimizer$:427 - [Epoch 1 15040/59840][Iteration 47][Wall Clock 22.320808422s] Trained 320.0 records in 0.386977304 seconds. Throughput is 826.9219 records/second. Loss is 0.12974371. \n",
            "2020-12-29 07:29:48 INFO  DistriOptimizer$:427 - [Epoch 1 15360/59840][Iteration 48][Wall Clock 22.773068382s] Trained 320.0 records in 0.45225996 seconds. Throughput is 707.5577 records/second. Loss is 0.20301709. \n",
            "2020-12-29 07:29:48 INFO  DistriOptimizer$:427 - [Epoch 1 15680/59840][Iteration 49][Wall Clock 23.208261601s] Trained 320.0 records in 0.435193219 seconds. Throughput is 735.3056 records/second. Loss is 0.18734194. \n",
            "2020-12-29 07:29:49 INFO  DistriOptimizer$:427 - [Epoch 1 16000/59840][Iteration 50][Wall Clock 23.622771704s] Trained 320.0 records in 0.414510103 seconds. Throughput is 771.99567 records/second. Loss is 0.16956635. \n",
            "2020-12-29 07:29:49 INFO  DistriOptimizer$:427 - [Epoch 1 16320/59840][Iteration 51][Wall Clock 24.057567982s] Trained 320.0 records in 0.434796278 seconds. Throughput is 735.97687 records/second. Loss is 0.18987063. \n",
            "2020-12-29 07:29:50 INFO  DistriOptimizer$:427 - [Epoch 1 16640/59840][Iteration 52][Wall Clock 24.416206918s] Trained 320.0 records in 0.358638936 seconds. Throughput is 892.26227 records/second. Loss is 0.19537875. \n",
            "2020-12-29 07:29:50 INFO  DistriOptimizer$:427 - [Epoch 1 16960/59840][Iteration 53][Wall Clock 24.793052693s] Trained 320.0 records in 0.376845775 seconds. Throughput is 849.15375 records/second. Loss is 0.17984222. \n",
            "2020-12-29 07:29:50 INFO  DistriOptimizer$:427 - [Epoch 1 17280/59840][Iteration 54][Wall Clock 25.217504445s] Trained 320.0 records in 0.424451752 seconds. Throughput is 753.91376 records/second. Loss is 0.17141455. \n",
            "2020-12-29 07:29:51 INFO  DistriOptimizer$:427 - [Epoch 1 17600/59840][Iteration 55][Wall Clock 25.591774939s] Trained 320.0 records in 0.374270494 seconds. Throughput is 854.9966 records/second. Loss is 0.18511765. \n",
            "2020-12-29 07:29:51 INFO  DistriOptimizer$:427 - [Epoch 1 17920/59840][Iteration 56][Wall Clock 25.958585186s] Trained 320.0 records in 0.366810247 seconds. Throughput is 872.3857 records/second. Loss is 0.15888658. \n",
            "2020-12-29 07:29:51 INFO  DistriOptimizer$:427 - [Epoch 1 18240/59840][Iteration 57][Wall Clock 26.32640734s] Trained 320.0 records in 0.367822154 seconds. Throughput is 869.9857 records/second. Loss is 0.14862412. \n",
            "2020-12-29 07:29:52 INFO  DistriOptimizer$:427 - [Epoch 1 18560/59840][Iteration 58][Wall Clock 26.732304498s] Trained 320.0 records in 0.405897158 seconds. Throughput is 788.377 records/second. Loss is 0.1962574. \n",
            "2020-12-29 07:29:52 INFO  DistriOptimizer$:427 - [Epoch 1 18880/59840][Iteration 59][Wall Clock 27.132480843s] Trained 320.0 records in 0.400176345 seconds. Throughput is 799.64746 records/second. Loss is 0.118854396. \n",
            "2020-12-29 07:29:53 INFO  DistriOptimizer$:427 - [Epoch 1 19200/59840][Iteration 60][Wall Clock 27.555411918s] Trained 320.0 records in 0.422931075 seconds. Throughput is 756.62445 records/second. Loss is 0.12655507. \n",
            "2020-12-29 07:29:53 INFO  DistriOptimizer$:427 - [Epoch 1 19520/59840][Iteration 61][Wall Clock 27.918566667s] Trained 320.0 records in 0.363154749 seconds. Throughput is 881.16705 records/second. Loss is 0.09374239. \n",
            "2020-12-29 07:29:53 INFO  DistriOptimizer$:427 - [Epoch 1 19840/59840][Iteration 62][Wall Clock 28.284886511s] Trained 320.0 records in 0.366319844 seconds. Throughput is 873.5536 records/second. Loss is 0.12495856. \n",
            "2020-12-29 07:29:54 INFO  DistriOptimizer$:427 - [Epoch 1 20160/59840][Iteration 63][Wall Clock 28.656409376s] Trained 320.0 records in 0.371522865 seconds. Throughput is 861.31976 records/second. Loss is 0.119488105. \n",
            "2020-12-29 07:29:54 INFO  DistriOptimizer$:427 - [Epoch 1 20480/59840][Iteration 64][Wall Clock 29.082548291s] Trained 320.0 records in 0.426138915 seconds. Throughput is 750.92883 records/second. Loss is 0.10605269. \n",
            "2020-12-29 07:29:55 INFO  DistriOptimizer$:427 - [Epoch 1 20800/59840][Iteration 65][Wall Clock 29.523522518s] Trained 320.0 records in 0.440974227 seconds. Throughput is 725.66595 records/second. Loss is 0.15220538. \n",
            "2020-12-29 07:29:55 INFO  DistriOptimizer$:427 - [Epoch 1 21120/59840][Iteration 66][Wall Clock 29.892661876s] Trained 320.0 records in 0.369139358 seconds. Throughput is 866.8813 records/second. Loss is 0.1373202. \n",
            "2020-12-29 07:29:55 INFO  DistriOptimizer$:427 - [Epoch 1 21440/59840][Iteration 67][Wall Clock 30.276322895s] Trained 320.0 records in 0.383661019 seconds. Throughput is 834.0696 records/second. Loss is 0.12477478. \n",
            "2020-12-29 07:29:56 INFO  DistriOptimizer$:427 - [Epoch 1 21760/59840][Iteration 68][Wall Clock 30.686892597s] Trained 320.0 records in 0.410569702 seconds. Throughput is 779.40485 records/second. Loss is 0.104844764. \n",
            "2020-12-29 07:29:56 INFO  DistriOptimizer$:427 - [Epoch 1 22080/59840][Iteration 69][Wall Clock 31.074570045s] Trained 320.0 records in 0.387677448 seconds. Throughput is 825.4284 records/second. Loss is 0.09397691. \n",
            "2020-12-29 07:29:57 INFO  DistriOptimizer$:427 - [Epoch 1 22400/59840][Iteration 70][Wall Clock 31.441547252s] Trained 320.0 records in 0.366977207 seconds. Throughput is 871.9888 records/second. Loss is 0.13165684. \n",
            "2020-12-29 07:29:57 INFO  DistriOptimizer$:427 - [Epoch 1 22720/59840][Iteration 71][Wall Clock 31.800162829s] Trained 320.0 records in 0.358615577 seconds. Throughput is 892.32043 records/second. Loss is 0.12374132. \n",
            "2020-12-29 07:29:57 INFO  DistriOptimizer$:427 - [Epoch 1 23040/59840][Iteration 72][Wall Clock 32.214483202s] Trained 320.0 records in 0.414320373 seconds. Throughput is 772.3492 records/second. Loss is 0.15273693. \n",
            "2020-12-29 07:29:58 INFO  DistriOptimizer$:427 - [Epoch 1 23360/59840][Iteration 73][Wall Clock 32.585815277s] Trained 320.0 records in 0.371332075 seconds. Throughput is 861.7623 records/second. Loss is 0.132177. \n",
            "2020-12-29 07:29:58 INFO  DistriOptimizer$:427 - [Epoch 1 23680/59840][Iteration 74][Wall Clock 32.962380517s] Trained 320.0 records in 0.37656524 seconds. Throughput is 849.7863 records/second. Loss is 0.100354165. \n",
            "2020-12-29 07:29:59 INFO  DistriOptimizer$:427 - [Epoch 1 24000/59840][Iteration 75][Wall Clock 33.384757382s] Trained 320.0 records in 0.422376865 seconds. Throughput is 757.61725 records/second. Loss is 0.13954765. \n",
            "2020-12-29 07:29:59 INFO  DistriOptimizer$:427 - [Epoch 1 24320/59840][Iteration 76][Wall Clock 33.737686946s] Trained 320.0 records in 0.352929564 seconds. Throughput is 906.69653 records/second. Loss is 0.12508252. \n",
            "2020-12-29 07:29:59 INFO  DistriOptimizer$:427 - [Epoch 1 24640/59840][Iteration 77][Wall Clock 34.103699309s] Trained 320.0 records in 0.366012363 seconds. Throughput is 874.2874 records/second. Loss is 0.13094978. \n",
            "2020-12-29 07:30:00 INFO  DistriOptimizer$:427 - [Epoch 1 24960/59840][Iteration 78][Wall Clock 34.474287152s] Trained 320.0 records in 0.370587843 seconds. Throughput is 863.4929 records/second. Loss is 0.14350419. \n",
            "2020-12-29 07:30:00 INFO  DistriOptimizer$:427 - [Epoch 1 25280/59840][Iteration 79][Wall Clock 34.876083661s] Trained 320.0 records in 0.401796509 seconds. Throughput is 796.42303 records/second. Loss is 0.10116575. \n",
            "2020-12-29 07:30:00 INFO  DistriOptimizer$:427 - [Epoch 1 25600/59840][Iteration 80][Wall Clock 35.254755929s] Trained 320.0 records in 0.378672268 seconds. Throughput is 845.0579 records/second. Loss is 0.09969932. \n",
            "2020-12-29 07:30:01 INFO  DistriOptimizer$:427 - [Epoch 1 25920/59840][Iteration 81][Wall Clock 35.621717124s] Trained 320.0 records in 0.366961195 seconds. Throughput is 872.02686 records/second. Loss is 0.099359386. \n",
            "2020-12-29 07:30:01 INFO  DistriOptimizer$:427 - [Epoch 1 26240/59840][Iteration 82][Wall Clock 35.987498927s] Trained 320.0 records in 0.365781803 seconds. Throughput is 874.83844 records/second. Loss is 0.11506313. \n",
            "2020-12-29 07:30:01 INFO  DistriOptimizer$:427 - [Epoch 1 26560/59840][Iteration 83][Wall Clock 36.344835754s] Trained 320.0 records in 0.357336827 seconds. Throughput is 895.5137 records/second. Loss is 0.119631216. \n",
            "2020-12-29 07:30:02 INFO  DistriOptimizer$:427 - [Epoch 1 26880/59840][Iteration 84][Wall Clock 36.725827189s] Trained 320.0 records in 0.380991435 seconds. Throughput is 839.9139 records/second. Loss is 0.14924064. \n",
            "2020-12-29 07:30:02 INFO  DistriOptimizer$:427 - [Epoch 1 27200/59840][Iteration 85][Wall Clock 37.100998492s] Trained 320.0 records in 0.375171303 seconds. Throughput is 852.9437 records/second. Loss is 0.1270441. \n",
            "2020-12-29 07:30:03 INFO  DistriOptimizer$:427 - [Epoch 1 27520/59840][Iteration 86][Wall Clock 37.459066061s] Trained 320.0 records in 0.358067569 seconds. Throughput is 893.6861 records/second. Loss is 0.1902139. \n",
            "2020-12-29 07:30:03 INFO  DistriOptimizer$:427 - [Epoch 1 27840/59840][Iteration 87][Wall Clock 37.826515578s] Trained 320.0 records in 0.367449517 seconds. Throughput is 870.8679 records/second. Loss is 0.14419222. \n",
            "2020-12-29 07:30:03 INFO  DistriOptimizer$:427 - [Epoch 1 28160/59840][Iteration 88][Wall Clock 38.190055752s] Trained 320.0 records in 0.363540174 seconds. Throughput is 880.23285 records/second. Loss is 0.08917259. \n",
            "2020-12-29 07:30:04 INFO  DistriOptimizer$:427 - [Epoch 1 28480/59840][Iteration 89][Wall Clock 38.590198339s] Trained 320.0 records in 0.400142587 seconds. Throughput is 799.71497 records/second. Loss is 0.13615471. \n",
            "2020-12-29 07:30:04 INFO  DistriOptimizer$:427 - [Epoch 1 28800/59840][Iteration 90][Wall Clock 38.956083743s] Trained 320.0 records in 0.365885404 seconds. Throughput is 874.59076 records/second. Loss is 0.077063456. \n",
            "2020-12-29 07:30:05 INFO  DistriOptimizer$:427 - [Epoch 1 29120/59840][Iteration 91][Wall Clock 39.359489637s] Trained 320.0 records in 0.403405894 seconds. Throughput is 793.2457 records/second. Loss is 0.16356412. \n",
            "2020-12-29 07:30:05 INFO  DistriOptimizer$:427 - [Epoch 1 29440/59840][Iteration 92][Wall Clock 39.816001787s] Trained 320.0 records in 0.45651215 seconds. Throughput is 700.9671 records/second. Loss is 0.13888332. \n",
            "2020-12-29 07:30:05 INFO  DistriOptimizer$:427 - [Epoch 1 29760/59840][Iteration 93][Wall Clock 40.195130277s] Trained 320.0 records in 0.37912849 seconds. Throughput is 844.041 records/second. Loss is 0.068928614. \n",
            "2020-12-29 07:30:06 INFO  DistriOptimizer$:427 - [Epoch 1 30080/59840][Iteration 94][Wall Clock 40.547535692s] Trained 320.0 records in 0.352405415 seconds. Throughput is 908.04504 records/second. Loss is 0.21279088. \n",
            "2020-12-29 07:30:06 INFO  DistriOptimizer$:427 - [Epoch 1 30400/59840][Iteration 95][Wall Clock 40.916230613s] Trained 320.0 records in 0.368694921 seconds. Throughput is 867.9262 records/second. Loss is 0.17193279. \n",
            "2020-12-29 07:30:07 INFO  DistriOptimizer$:427 - [Epoch 1 30720/59840][Iteration 96][Wall Clock 41.378254067s] Trained 320.0 records in 0.462023454 seconds. Throughput is 692.6055 records/second. Loss is 0.08273772. \n",
            "2020-12-29 07:30:07 INFO  DistriOptimizer$:427 - [Epoch 1 31040/59840][Iteration 97][Wall Clock 41.763338091s] Trained 320.0 records in 0.385084024 seconds. Throughput is 830.9874 records/second. Loss is 0.12108865. \n",
            "2020-12-29 07:30:07 INFO  DistriOptimizer$:427 - [Epoch 1 31360/59840][Iteration 98][Wall Clock 42.13520329s] Trained 320.0 records in 0.371865199 seconds. Throughput is 860.52686 records/second. Loss is 0.22793671. \n",
            "2020-12-29 07:30:08 INFO  DistriOptimizer$:427 - [Epoch 1 31680/59840][Iteration 99][Wall Clock 42.50744918s] Trained 320.0 records in 0.37224589 seconds. Throughput is 859.64685 records/second. Loss is 0.07805079. \n",
            "2020-12-29 07:30:08 INFO  DistriOptimizer$:427 - [Epoch 1 32000/59840][Iteration 100][Wall Clock 42.860850759s] Trained 320.0 records in 0.353401579 seconds. Throughput is 905.4855 records/second. Loss is 0.11734077. \n",
            "2020-12-29 07:30:08 INFO  DistriOptimizer$:427 - [Epoch 1 32320/59840][Iteration 101][Wall Clock 43.22709249s] Trained 320.0 records in 0.366241731 seconds. Throughput is 873.73987 records/second. Loss is 0.0993568. \n",
            "2020-12-29 07:30:09 INFO  DistriOptimizer$:427 - [Epoch 1 32640/59840][Iteration 102][Wall Clock 43.58350278s] Trained 320.0 records in 0.35641029 seconds. Throughput is 897.8416 records/second. Loss is 0.08952311. \n",
            "2020-12-29 07:30:09 INFO  DistriOptimizer$:427 - [Epoch 1 32960/59840][Iteration 103][Wall Clock 43.937719554s] Trained 320.0 records in 0.354216774 seconds. Throughput is 903.40155 records/second. Loss is 0.07560845. \n",
            "2020-12-29 07:30:09 INFO  DistriOptimizer$:427 - [Epoch 1 33280/59840][Iteration 104][Wall Clock 44.298522422s] Trained 320.0 records in 0.360802868 seconds. Throughput is 886.91095 records/second. Loss is 0.10209443. \n",
            "2020-12-29 07:30:10 INFO  DistriOptimizer$:427 - [Epoch 1 33600/59840][Iteration 105][Wall Clock 44.673192497s] Trained 320.0 records in 0.374670075 seconds. Throughput is 854.0847 records/second. Loss is 0.18197212. \n",
            "2020-12-29 07:30:10 INFO  DistriOptimizer$:427 - [Epoch 1 33920/59840][Iteration 106][Wall Clock 45.039378756s] Trained 320.0 records in 0.366186259 seconds. Throughput is 873.8722 records/second. Loss is 0.12067122. \n",
            "2020-12-29 07:30:11 INFO  DistriOptimizer$:427 - [Epoch 1 34240/59840][Iteration 107][Wall Clock 45.445069992s] Trained 320.0 records in 0.405691236 seconds. Throughput is 788.7772 records/second. Loss is 0.08602591. \n",
            "2020-12-29 07:30:11 INFO  DistriOptimizer$:427 - [Epoch 1 34560/59840][Iteration 108][Wall Clock 45.816139059s] Trained 320.0 records in 0.371069067 seconds. Throughput is 862.3731 records/second. Loss is 0.067886785. \n",
            "2020-12-29 07:30:11 INFO  DistriOptimizer$:427 - [Epoch 1 34880/59840][Iteration 109][Wall Clock 46.179670478s] Trained 320.0 records in 0.363531419 seconds. Throughput is 880.2541 records/second. Loss is 0.102184646. \n",
            "2020-12-29 07:30:12 INFO  DistriOptimizer$:427 - [Epoch 1 35200/59840][Iteration 110][Wall Clock 46.60064064s] Trained 320.0 records in 0.420970162 seconds. Throughput is 760.14886 records/second. Loss is 0.0692375. \n",
            "2020-12-29 07:30:12 INFO  DistriOptimizer$:427 - [Epoch 1 35520/59840][Iteration 111][Wall Clock 47.00959388s] Trained 320.0 records in 0.40895324 seconds. Throughput is 782.48553 records/second. Loss is 0.106155045. \n",
            "2020-12-29 07:30:13 INFO  DistriOptimizer$:427 - [Epoch 1 35840/59840][Iteration 112][Wall Clock 47.442869078s] Trained 320.0 records in 0.433275198 seconds. Throughput is 738.5606 records/second. Loss is 0.14300805. \n",
            "2020-12-29 07:30:13 INFO  DistriOptimizer$:427 - [Epoch 1 36160/59840][Iteration 113][Wall Clock 47.86872395s] Trained 320.0 records in 0.425854872 seconds. Throughput is 751.42975 records/second. Loss is 0.09612427. \n",
            "2020-12-29 07:30:13 INFO  DistriOptimizer$:427 - [Epoch 1 36480/59840][Iteration 114][Wall Clock 48.265152188s] Trained 320.0 records in 0.396428238 seconds. Throughput is 807.2079 records/second. Loss is 0.1239772. \n",
            "2020-12-29 07:30:14 INFO  DistriOptimizer$:427 - [Epoch 1 36800/59840][Iteration 115][Wall Clock 48.624104071s] Trained 320.0 records in 0.358951883 seconds. Throughput is 891.4844 records/second. Loss is 0.060563736. \n",
            "2020-12-29 07:30:14 INFO  DistriOptimizer$:427 - [Epoch 1 37120/59840][Iteration 116][Wall Clock 49.01506528s] Trained 320.0 records in 0.390961209 seconds. Throughput is 818.49554 records/second. Loss is 0.12600017. \n",
            "2020-12-29 07:30:15 INFO  DistriOptimizer$:427 - [Epoch 1 37440/59840][Iteration 117][Wall Clock 49.416803284s] Trained 320.0 records in 0.401738004 seconds. Throughput is 796.539 records/second. Loss is 0.1242729. \n",
            "2020-12-29 07:30:15 INFO  DistriOptimizer$:427 - [Epoch 1 37760/59840][Iteration 118][Wall Clock 49.823548681s] Trained 320.0 records in 0.406745397 seconds. Throughput is 786.7329 records/second. Loss is 0.11560647. \n",
            "2020-12-29 07:30:15 INFO  DistriOptimizer$:427 - [Epoch 1 38080/59840][Iteration 119][Wall Clock 50.211512093s] Trained 320.0 records in 0.387963412 seconds. Throughput is 824.82007 records/second. Loss is 0.11903277. \n",
            "2020-12-29 07:30:16 INFO  DistriOptimizer$:427 - [Epoch 1 38400/59840][Iteration 120][Wall Clock 50.639356919s] Trained 320.0 records in 0.427844826 seconds. Throughput is 747.93475 records/second. Loss is 0.09634413. \n",
            "2020-12-29 07:30:16 INFO  DistriOptimizer$:427 - [Epoch 1 38720/59840][Iteration 121][Wall Clock 50.990982416s] Trained 320.0 records in 0.351625497 seconds. Throughput is 910.05914 records/second. Loss is 0.087227374. \n",
            "2020-12-29 07:30:17 INFO  DistriOptimizer$:427 - [Epoch 1 39040/59840][Iteration 122][Wall Clock 51.370761488s] Trained 320.0 records in 0.379779072 seconds. Throughput is 842.59515 records/second. Loss is 0.12647516. \n",
            "2020-12-29 07:30:17 INFO  DistriOptimizer$:427 - [Epoch 1 39360/59840][Iteration 123][Wall Clock 51.73058805s] Trained 320.0 records in 0.359826562 seconds. Throughput is 889.3173 records/second. Loss is 0.109095536. \n",
            "2020-12-29 07:30:17 INFO  DistriOptimizer$:427 - [Epoch 1 39680/59840][Iteration 124][Wall Clock 52.116216479s] Trained 320.0 records in 0.385628429 seconds. Throughput is 829.81433 records/second. Loss is 0.09139504. \n",
            "2020-12-29 07:30:18 INFO  DistriOptimizer$:427 - [Epoch 1 40000/59840][Iteration 125][Wall Clock 52.487556026s] Trained 320.0 records in 0.371339547 seconds. Throughput is 861.745 records/second. Loss is 0.09674434. \n",
            "2020-12-29 07:30:18 INFO  DistriOptimizer$:427 - [Epoch 1 40320/59840][Iteration 126][Wall Clock 52.849133774s] Trained 320.0 records in 0.361577748 seconds. Throughput is 885.0102 records/second. Loss is 0.11487211. \n",
            "2020-12-29 07:30:18 INFO  DistriOptimizer$:427 - [Epoch 1 40640/59840][Iteration 127][Wall Clock 53.219807891s] Trained 320.0 records in 0.370674117 seconds. Throughput is 863.29205 records/second. Loss is 0.07236582. \n",
            "2020-12-29 07:30:19 INFO  DistriOptimizer$:427 - [Epoch 1 40960/59840][Iteration 128][Wall Clock 53.611708437s] Trained 320.0 records in 0.391900546 seconds. Throughput is 816.5337 records/second. Loss is 0.06313777. \n",
            "2020-12-29 07:30:19 INFO  DistriOptimizer$:427 - [Epoch 1 41280/59840][Iteration 129][Wall Clock 53.979865751s] Trained 320.0 records in 0.368157314 seconds. Throughput is 869.1936 records/second. Loss is 0.1108871. \n",
            "2020-12-29 07:30:20 INFO  DistriOptimizer$:427 - [Epoch 1 41600/59840][Iteration 130][Wall Clock 54.344957251s] Trained 320.0 records in 0.3650915 seconds. Throughput is 876.4926 records/second. Loss is 0.083748035. \n",
            "2020-12-29 07:30:20 INFO  DistriOptimizer$:427 - [Epoch 1 41920/59840][Iteration 131][Wall Clock 54.714045838s] Trained 320.0 records in 0.369088587 seconds. Throughput is 867.00055 records/second. Loss is 0.08270968. \n",
            "2020-12-29 07:30:20 INFO  DistriOptimizer$:427 - [Epoch 1 42240/59840][Iteration 132][Wall Clock 55.132410267s] Trained 320.0 records in 0.418364429 seconds. Throughput is 764.88336 records/second. Loss is 0.087326005. \n",
            "2020-12-29 07:30:21 INFO  DistriOptimizer$:427 - [Epoch 1 42560/59840][Iteration 133][Wall Clock 55.489335597s] Trained 320.0 records in 0.35692533 seconds. Throughput is 896.546 records/second. Loss is 0.07237944. \n",
            "2020-12-29 07:30:21 INFO  DistriOptimizer$:427 - [Epoch 1 42880/59840][Iteration 134][Wall Clock 55.919622623s] Trained 320.0 records in 0.430287026 seconds. Throughput is 743.68964 records/second. Loss is 0.088015735. \n",
            "2020-12-29 07:30:21 INFO  DistriOptimizer$:427 - [Epoch 1 43200/59840][Iteration 135][Wall Clock 56.288812378s] Trained 320.0 records in 0.369189755 seconds. Throughput is 866.76294 records/second. Loss is 0.07534967. \n",
            "2020-12-29 07:30:22 INFO  DistriOptimizer$:427 - [Epoch 1 43520/59840][Iteration 136][Wall Clock 56.668665904s] Trained 320.0 records in 0.379853526 seconds. Throughput is 842.43 records/second. Loss is 0.079255015. \n",
            "2020-12-29 07:30:22 INFO  DistriOptimizer$:427 - [Epoch 1 43840/59840][Iteration 137][Wall Clock 57.01494234s] Trained 320.0 records in 0.346276436 seconds. Throughput is 924.1172 records/second. Loss is 0.05214949. \n",
            "2020-12-29 07:30:23 INFO  DistriOptimizer$:427 - [Epoch 1 44160/59840][Iteration 138][Wall Clock 57.377374301s] Trained 320.0 records in 0.362431961 seconds. Throughput is 882.9243 records/second. Loss is 0.058893286. \n",
            "2020-12-29 07:30:23 INFO  DistriOptimizer$:427 - [Epoch 1 44480/59840][Iteration 139][Wall Clock 57.742564545s] Trained 320.0 records in 0.365190244 seconds. Throughput is 876.2556 records/second. Loss is 0.071158074. \n",
            "2020-12-29 07:30:23 INFO  DistriOptimizer$:427 - [Epoch 1 44800/59840][Iteration 140][Wall Clock 58.110485973s] Trained 320.0 records in 0.367921428 seconds. Throughput is 869.7509 records/second. Loss is 0.05006867. \n",
            "2020-12-29 07:30:24 INFO  DistriOptimizer$:427 - [Epoch 1 45120/59840][Iteration 141][Wall Clock 58.473748402s] Trained 320.0 records in 0.363262429 seconds. Throughput is 880.9059 records/second. Loss is 0.081015415. \n",
            "2020-12-29 07:30:24 INFO  DistriOptimizer$:427 - [Epoch 1 45440/59840][Iteration 142][Wall Clock 58.826171539s] Trained 320.0 records in 0.352423137 seconds. Throughput is 907.99945 records/second. Loss is 0.1365172. \n",
            "2020-12-29 07:30:24 INFO  DistriOptimizer$:427 - [Epoch 1 45760/59840][Iteration 143][Wall Clock 59.198778268s] Trained 320.0 records in 0.372606729 seconds. Throughput is 858.81433 records/second. Loss is 0.121467285. \n",
            "2020-12-29 07:30:25 INFO  DistriOptimizer$:427 - [Epoch 1 46080/59840][Iteration 144][Wall Clock 59.56054585s] Trained 320.0 records in 0.361767582 seconds. Throughput is 884.5458 records/second. Loss is 0.05588769. \n",
            "2020-12-29 07:30:25 INFO  DistriOptimizer$:427 - [Epoch 1 46400/59840][Iteration 145][Wall Clock 59.943211505s] Trained 320.0 records in 0.382665655 seconds. Throughput is 836.23914 records/second. Loss is 0.11207686. \n",
            "2020-12-29 07:30:26 INFO  DistriOptimizer$:427 - [Epoch 1 46720/59840][Iteration 146][Wall Clock 60.298634127s] Trained 320.0 records in 0.355422622 seconds. Throughput is 900.3366 records/second. Loss is 0.08120073. \n",
            "2020-12-29 07:30:26 INFO  DistriOptimizer$:427 - [Epoch 1 47040/59840][Iteration 147][Wall Clock 60.668584313s] Trained 320.0 records in 0.369950186 seconds. Throughput is 864.9813 records/second. Loss is 0.051507503. \n",
            "2020-12-29 07:30:26 INFO  DistriOptimizer$:427 - [Epoch 1 47360/59840][Iteration 148][Wall Clock 61.077771411s] Trained 320.0 records in 0.409187098 seconds. Throughput is 782.0383 records/second. Loss is 0.13578674. \n",
            "2020-12-29 07:30:27 INFO  DistriOptimizer$:427 - [Epoch 1 47680/59840][Iteration 149][Wall Clock 61.443705133s] Trained 320.0 records in 0.365933722 seconds. Throughput is 874.4753 records/second. Loss is 0.104142494. \n",
            "2020-12-29 07:30:27 INFO  DistriOptimizer$:427 - [Epoch 1 48000/59840][Iteration 150][Wall Clock 61.793846983s] Trained 320.0 records in 0.35014185 seconds. Throughput is 913.9153 records/second. Loss is 0.072311126. \n",
            "2020-12-29 07:30:27 INFO  DistriOptimizer$:427 - [Epoch 1 48320/59840][Iteration 151][Wall Clock 62.144426644s] Trained 320.0 records in 0.350579661 seconds. Throughput is 912.77405 records/second. Loss is 0.074424595. \n",
            "2020-12-29 07:30:28 INFO  DistriOptimizer$:427 - [Epoch 1 48640/59840][Iteration 152][Wall Clock 62.499044925s] Trained 320.0 records in 0.354618281 seconds. Throughput is 902.3787 records/second. Loss is 0.07258199. \n",
            "2020-12-29 07:30:28 INFO  DistriOptimizer$:427 - [Epoch 1 48960/59840][Iteration 153][Wall Clock 62.842293611s] Trained 320.0 records in 0.343248686 seconds. Throughput is 932.2687 records/second. Loss is 0.045522556. \n",
            "2020-12-29 07:30:28 INFO  DistriOptimizer$:427 - [Epoch 1 49280/59840][Iteration 154][Wall Clock 63.191723425s] Trained 320.0 records in 0.349429814 seconds. Throughput is 915.7776 records/second. Loss is 0.043421496. \n",
            "2020-12-29 07:30:29 INFO  DistriOptimizer$:427 - [Epoch 1 49600/59840][Iteration 155][Wall Clock 63.549979702s] Trained 320.0 records in 0.358256277 seconds. Throughput is 893.21533 records/second. Loss is 0.08232889. \n",
            "2020-12-29 07:30:29 INFO  DistriOptimizer$:427 - [Epoch 1 49920/59840][Iteration 156][Wall Clock 63.926700672s] Trained 320.0 records in 0.37672097 seconds. Throughput is 849.43506 records/second. Loss is 0.049911108. \n",
            "2020-12-29 07:30:30 INFO  DistriOptimizer$:427 - [Epoch 1 50240/59840][Iteration 157][Wall Clock 64.28069368s] Trained 320.0 records in 0.353993008 seconds. Throughput is 903.97266 records/second. Loss is 0.06785509. \n",
            "2020-12-29 07:30:30 INFO  DistriOptimizer$:427 - [Epoch 1 50560/59840][Iteration 158][Wall Clock 64.643630255s] Trained 320.0 records in 0.362936575 seconds. Throughput is 881.6967 records/second. Loss is 0.061720733. \n",
            "2020-12-29 07:30:30 INFO  DistriOptimizer$:427 - [Epoch 1 50880/59840][Iteration 159][Wall Clock 65.014015291s] Trained 320.0 records in 0.370385036 seconds. Throughput is 863.96576 records/second. Loss is 0.08574249. \n",
            "2020-12-29 07:30:31 INFO  DistriOptimizer$:427 - [Epoch 1 51200/59840][Iteration 160][Wall Clock 65.360437721s] Trained 320.0 records in 0.34642243 seconds. Throughput is 923.7277 records/second. Loss is 0.06258179. \n",
            "2020-12-29 07:30:31 INFO  DistriOptimizer$:427 - [Epoch 1 51520/59840][Iteration 161][Wall Clock 65.710093887s] Trained 320.0 records in 0.349656166 seconds. Throughput is 915.18475 records/second. Loss is 0.106902495. \n",
            "2020-12-29 07:30:31 INFO  DistriOptimizer$:427 - [Epoch 1 51840/59840][Iteration 162][Wall Clock 66.066506885s] Trained 320.0 records in 0.356412998 seconds. Throughput is 897.8348 records/second. Loss is 0.0925653. \n",
            "2020-12-29 07:30:32 INFO  DistriOptimizer$:427 - [Epoch 1 52160/59840][Iteration 163][Wall Clock 66.420846222s] Trained 320.0 records in 0.354339337 seconds. Throughput is 903.0891 records/second. Loss is 0.03229117. \n",
            "2020-12-29 07:30:32 INFO  DistriOptimizer$:427 - [Epoch 1 52480/59840][Iteration 164][Wall Clock 66.774893031s] Trained 320.0 records in 0.354046809 seconds. Throughput is 903.83527 records/second. Loss is 0.07769643. \n",
            "2020-12-29 07:30:32 INFO  DistriOptimizer$:427 - [Epoch 1 52800/59840][Iteration 165][Wall Clock 67.141840318s] Trained 320.0 records in 0.366947287 seconds. Throughput is 872.0599 records/second. Loss is 0.12903413. \n",
            "2020-12-29 07:30:33 INFO  DistriOptimizer$:427 - [Epoch 1 53120/59840][Iteration 166][Wall Clock 67.508381794s] Trained 320.0 records in 0.366541476 seconds. Throughput is 873.0253 records/second. Loss is 0.06921619. \n",
            "2020-12-29 07:30:33 INFO  DistriOptimizer$:427 - [Epoch 1 53440/59840][Iteration 167][Wall Clock 67.871233424s] Trained 320.0 records in 0.36285163 seconds. Throughput is 881.9032 records/second. Loss is 0.109745085. \n",
            "2020-12-29 07:30:33 INFO  DistriOptimizer$:427 - [Epoch 1 53760/59840][Iteration 168][Wall Clock 68.229593953s] Trained 320.0 records in 0.358360529 seconds. Throughput is 892.9555 records/second. Loss is 0.06406732. \n",
            "2020-12-29 07:30:34 INFO  DistriOptimizer$:427 - [Epoch 1 54080/59840][Iteration 169][Wall Clock 68.578963302s] Trained 320.0 records in 0.349369349 seconds. Throughput is 915.9361 records/second. Loss is 0.0438278. \n",
            "2020-12-29 07:30:34 INFO  DistriOptimizer$:427 - [Epoch 1 54400/59840][Iteration 170][Wall Clock 68.933437413s] Trained 320.0 records in 0.354474111 seconds. Throughput is 902.7458 records/second. Loss is 0.032099646. \n",
            "2020-12-29 07:30:35 INFO  DistriOptimizer$:427 - [Epoch 1 54720/59840][Iteration 171][Wall Clock 69.283199023s] Trained 320.0 records in 0.34976161 seconds. Throughput is 914.9089 records/second. Loss is 0.11274677. \n",
            "2020-12-29 07:30:35 INFO  DistriOptimizer$:427 - [Epoch 1 55040/59840][Iteration 172][Wall Clock 69.631209795s] Trained 320.0 records in 0.348010772 seconds. Throughput is 919.5118 records/second. Loss is 0.103297025. \n",
            "2020-12-29 07:30:35 INFO  DistriOptimizer$:427 - [Epoch 1 55360/59840][Iteration 173][Wall Clock 70.063823906s] Trained 320.0 records in 0.432614111 seconds. Throughput is 739.6892 records/second. Loss is 0.07087313. \n",
            "2020-12-29 07:30:36 INFO  DistriOptimizer$:427 - [Epoch 1 55680/59840][Iteration 174][Wall Clock 70.478656138s] Trained 320.0 records in 0.414832232 seconds. Throughput is 771.3962 records/second. Loss is 0.038791202. \n",
            "2020-12-29 07:30:36 INFO  DistriOptimizer$:427 - [Epoch 1 56000/59840][Iteration 175][Wall Clock 70.835792176s] Trained 320.0 records in 0.357136038 seconds. Throughput is 896.0171 records/second. Loss is 0.048439756. \n",
            "2020-12-29 07:30:36 INFO  DistriOptimizer$:427 - [Epoch 1 56320/59840][Iteration 176][Wall Clock 71.229548454s] Trained 320.0 records in 0.393756278 seconds. Throughput is 812.6855 records/second. Loss is 0.060979236. \n",
            "2020-12-29 07:30:37 INFO  DistriOptimizer$:427 - [Epoch 1 56640/59840][Iteration 177][Wall Clock 71.647761429s] Trained 320.0 records in 0.418212975 seconds. Throughput is 765.1604 records/second. Loss is 0.053308256. \n",
            "2020-12-29 07:30:37 INFO  DistriOptimizer$:427 - [Epoch 1 56960/59840][Iteration 178][Wall Clock 72.057056516s] Trained 320.0 records in 0.409295087 seconds. Throughput is 781.83203 records/second. Loss is 0.05173062. \n",
            "2020-12-29 07:30:38 INFO  DistriOptimizer$:427 - [Epoch 1 57280/59840][Iteration 179][Wall Clock 72.451623446s] Trained 320.0 records in 0.39456693 seconds. Throughput is 811.01575 records/second. Loss is 0.04541694. \n",
            "2020-12-29 07:30:38 INFO  DistriOptimizer$:427 - [Epoch 1 57600/59840][Iteration 180][Wall Clock 72.807778218s] Trained 320.0 records in 0.356154772 seconds. Throughput is 898.4858 records/second. Loss is 0.0684137. \n",
            "2020-12-29 07:30:38 INFO  DistriOptimizer$:427 - [Epoch 1 57920/59840][Iteration 181][Wall Clock 73.149045252s] Trained 320.0 records in 0.341267034 seconds. Throughput is 937.6822 records/second. Loss is 0.083067395. \n",
            "2020-12-29 07:30:39 INFO  DistriOptimizer$:427 - [Epoch 1 58240/59840][Iteration 182][Wall Clock 73.575070556s] Trained 320.0 records in 0.426025304 seconds. Throughput is 751.1291 records/second. Loss is 0.08701407. \n",
            "2020-12-29 07:30:39 INFO  DistriOptimizer$:427 - [Epoch 1 58560/59840][Iteration 183][Wall Clock 73.955669897s] Trained 320.0 records in 0.380599341 seconds. Throughput is 840.7792 records/second. Loss is 0.086767636. \n",
            "2020-12-29 07:30:40 INFO  DistriOptimizer$:427 - [Epoch 1 58880/59840][Iteration 184][Wall Clock 74.302571536s] Trained 320.0 records in 0.346901639 seconds. Throughput is 922.4517 records/second. Loss is 0.099355854. \n",
            "2020-12-29 07:30:40 INFO  DistriOptimizer$:427 - [Epoch 1 59200/59840][Iteration 185][Wall Clock 74.648060727s] Trained 320.0 records in 0.345489191 seconds. Throughput is 926.22284 records/second. Loss is 0.038677037. \n",
            "2020-12-29 07:30:40 INFO  DistriOptimizer$:427 - [Epoch 1 59520/59840][Iteration 186][Wall Clock 74.953052995s] Trained 320.0 records in 0.304992268 seconds. Throughput is 1049.2069 records/second. Loss is 0.0719835. \n",
            "2020-12-29 07:30:40 INFO  DistriOptimizer$:427 - [Epoch 1 59840/59840][Iteration 187][Wall Clock 75.238532854s] Trained 320.0 records in 0.285479859 seconds. Throughput is 1120.9197 records/second. Loss is 0.102618724. \n",
            "2020-12-29 07:30:40 INFO  DistriOptimizer$:472 - [Epoch 1 59840/59840][Iteration 187][Wall Clock 75.238532854s] Epoch finished. Wall clock time is 75436.074082 ms\n",
            "2020-12-29 07:30:40 INFO  DistriOptimizer$:111 - [Epoch 1 59840/59840][Iteration 187][Wall Clock 75.238532854s] Validate model...\n"
          ],
          "name": "stdout"
        },
        {
          "output_type": "stream",
          "text": [
            ""
          ],
          "name": "stderr"
        },
        {
          "output_type": "stream",
          "text": [
            "2020-12-29 07:30:45 INFO  DistriOptimizer$:177 - [Epoch 1 59840/59840][Iteration 187][Wall Clock 75.238532854s] validate model throughput is 2136.7686 records/second\n",
            "2020-12-29 07:30:45 INFO  DistriOptimizer$:180 - [Epoch 1 59840/59840][Iteration 187][Wall Clock 75.238532854s] acc is (acc: 9818.0, count: 10000, Average acc: 0.9818)\n"
          ],
          "name": "stdout"
        },
        {
          "output_type": "stream",
          "text": [
            "\r[Stage 383:>                                                        (0 + 1) / 1]\r                                                                                \r"
          ],
          "name": "stderr"
        },
        {
          "output_type": "stream",
          "text": [
            "2020-12-29 07:30:46 INFO  DistriOptimizer$:427 - [Epoch 2 320/59840][Iteration 188][Wall Clock 76.03372763s] Trained 320.0 records in 0.597653548 seconds. Throughput is 535.42725 records/second. Loss is 0.047152407. \n",
            "2020-12-29 07:30:46 INFO  DistriOptimizer$:427 - [Epoch 2 640/59840][Iteration 189][Wall Clock 76.401764706s] Trained 320.0 records in 0.368037076 seconds. Throughput is 869.4776 records/second. Loss is 0.07155983. \n",
            "2020-12-29 07:30:47 INFO  DistriOptimizer$:427 - [Epoch 2 960/59840][Iteration 190][Wall Clock 76.758618636s] Trained 320.0 records in 0.35685393 seconds. Throughput is 896.72546 records/second. Loss is 0.05944336. \n",
            "2020-12-29 07:30:47 INFO  DistriOptimizer$:427 - [Epoch 2 1280/59840][Iteration 191][Wall Clock 77.151133173s] Trained 320.0 records in 0.392514537 seconds. Throughput is 815.2565 records/second. Loss is 0.03373489. \n",
            "2020-12-29 07:30:47 INFO  DistriOptimizer$:427 - [Epoch 2 1600/59840][Iteration 192][Wall Clock 77.605165122s] Trained 320.0 records in 0.454031949 seconds. Throughput is 704.7962 records/second. Loss is 0.053245954. \n",
            "2020-12-29 07:30:48 INFO  DistriOptimizer$:427 - [Epoch 2 1920/59840][Iteration 193][Wall Clock 78.036590437s] Trained 320.0 records in 0.431425315 seconds. Throughput is 741.7275 records/second. Loss is 0.08012769. \n",
            "2020-12-29 07:30:48 INFO  DistriOptimizer$:427 - [Epoch 2 2240/59840][Iteration 194][Wall Clock 78.410549469s] Trained 320.0 records in 0.373959032 seconds. Throughput is 855.7087 records/second. Loss is 0.06320898. \n",
            "2020-12-29 07:30:49 INFO  DistriOptimizer$:427 - [Epoch 2 2560/59840][Iteration 195][Wall Clock 78.756392376s] Trained 320.0 records in 0.345842907 seconds. Throughput is 925.27563 records/second. Loss is 0.09286158. \n",
            "2020-12-29 07:30:49 INFO  DistriOptimizer$:427 - [Epoch 2 2880/59840][Iteration 196][Wall Clock 79.108302562s] Trained 320.0 records in 0.351910186 seconds. Throughput is 909.32294 records/second. Loss is 0.090384066. \n",
            "2020-12-29 07:30:49 INFO  DistriOptimizer$:427 - [Epoch 2 3200/59840][Iteration 197][Wall Clock 79.464218758s] Trained 320.0 records in 0.355916196 seconds. Throughput is 899.088 records/second. Loss is 0.10691365. \n",
            "2020-12-29 07:30:50 INFO  DistriOptimizer$:427 - [Epoch 2 3520/59840][Iteration 198][Wall Clock 79.81811134s] Trained 320.0 records in 0.353892582 seconds. Throughput is 904.2291 records/second. Loss is 0.05756749. \n",
            "2020-12-29 07:30:50 INFO  DistriOptimizer$:427 - [Epoch 2 3840/59840][Iteration 199][Wall Clock 80.180130781s] Trained 320.0 records in 0.362019441 seconds. Throughput is 883.9304 records/second. Loss is 0.07219882. \n",
            "2020-12-29 07:30:50 INFO  DistriOptimizer$:427 - [Epoch 2 4160/59840][Iteration 200][Wall Clock 80.561438121s] Trained 320.0 records in 0.38130734 seconds. Throughput is 839.2181 records/second. Loss is 0.06277932. \n",
            "2020-12-29 07:30:51 INFO  DistriOptimizer$:427 - [Epoch 2 4480/59840][Iteration 201][Wall Clock 80.899621661s] Trained 320.0 records in 0.33818354 seconds. Throughput is 946.2317 records/second. Loss is 0.063617945. \n",
            "2020-12-29 07:30:51 INFO  DistriOptimizer$:427 - [Epoch 2 4800/59840][Iteration 202][Wall Clock 81.270777558s] Trained 320.0 records in 0.371155897 seconds. Throughput is 862.17145 records/second. Loss is 0.042189304. \n",
            "2020-12-29 07:30:51 INFO  DistriOptimizer$:427 - [Epoch 2 5120/59840][Iteration 203][Wall Clock 81.626204162s] Trained 320.0 records in 0.355426604 seconds. Throughput is 900.32654 records/second. Loss is 0.07259763. \n",
            "2020-12-29 07:30:52 INFO  DistriOptimizer$:427 - [Epoch 2 5440/59840][Iteration 204][Wall Clock 82.078479592s] Trained 320.0 records in 0.45227543 seconds. Throughput is 707.53345 records/second. Loss is 0.05796446. \n",
            "2020-12-29 07:30:52 INFO  DistriOptimizer$:427 - [Epoch 2 5760/59840][Iteration 205][Wall Clock 82.434146824s] Trained 320.0 records in 0.355667232 seconds. Throughput is 899.7174 records/second. Loss is 0.09084432. \n",
            "2020-12-29 07:30:53 INFO  DistriOptimizer$:427 - [Epoch 2 6080/59840][Iteration 206][Wall Clock 82.776554196s] Trained 320.0 records in 0.342407372 seconds. Throughput is 934.5593 records/second. Loss is 0.04498579. \n",
            "2020-12-29 07:30:53 INFO  DistriOptimizer$:427 - [Epoch 2 6400/59840][Iteration 207][Wall Clock 83.124215039s] Trained 320.0 records in 0.347660843 seconds. Throughput is 920.4373 records/second. Loss is 0.09431124. \n",
            "2020-12-29 07:30:53 INFO  DistriOptimizer$:427 - [Epoch 2 6720/59840][Iteration 208][Wall Clock 83.476600177s] Trained 320.0 records in 0.352385138 seconds. Throughput is 908.09735 records/second. Loss is 0.08428678. \n",
            "2020-12-29 07:30:54 INFO  DistriOptimizer$:427 - [Epoch 2 7040/59840][Iteration 209][Wall Clock 83.829544214s] Trained 320.0 records in 0.352944037 seconds. Throughput is 906.6593 records/second. Loss is 0.054767057. \n",
            "2020-12-29 07:30:54 INFO  DistriOptimizer$:427 - [Epoch 2 7360/59840][Iteration 210][Wall Clock 84.172934755s] Trained 320.0 records in 0.343390541 seconds. Throughput is 931.88354 records/second. Loss is 0.06567515. \n",
            "2020-12-29 07:30:54 INFO  DistriOptimizer$:427 - [Epoch 2 7680/59840][Iteration 211][Wall Clock 84.529157457s] Trained 320.0 records in 0.356222702 seconds. Throughput is 898.31445 records/second. Loss is 0.056838877. \n",
            "2020-12-29 07:30:55 INFO  DistriOptimizer$:427 - [Epoch 2 8000/59840][Iteration 212][Wall Clock 84.890023745s] Trained 320.0 records in 0.360866288 seconds. Throughput is 886.75507 records/second. Loss is 0.11468308. \n",
            "2020-12-29 07:30:55 INFO  DistriOptimizer$:427 - [Epoch 2 8320/59840][Iteration 213][Wall Clock 85.250683277s] Trained 320.0 records in 0.360659532 seconds. Throughput is 887.26337 records/second. Loss is 0.0679846. \n",
            "2020-12-29 07:30:55 INFO  DistriOptimizer$:427 - [Epoch 2 8640/59840][Iteration 214][Wall Clock 85.611472442s] Trained 320.0 records in 0.360789165 seconds. Throughput is 886.9446 records/second. Loss is 0.0558886. \n",
            "2020-12-29 07:30:56 INFO  DistriOptimizer$:427 - [Epoch 2 8960/59840][Iteration 215][Wall Clock 85.969171403s] Trained 320.0 records in 0.357698961 seconds. Throughput is 894.60706 records/second. Loss is 0.04453313. \n",
            "2020-12-29 07:30:56 INFO  DistriOptimizer$:427 - [Epoch 2 9280/59840][Iteration 216][Wall Clock 86.334744791s] Trained 320.0 records in 0.365573388 seconds. Throughput is 875.3373 records/second. Loss is 0.05719149. \n",
            "2020-12-29 07:30:56 INFO  DistriOptimizer$:427 - [Epoch 2 9600/59840][Iteration 217][Wall Clock 86.7082668s] Trained 320.0 records in 0.373522009 seconds. Throughput is 856.7099 records/second. Loss is 0.054048494. \n",
            "2020-12-29 07:30:57 INFO  DistriOptimizer$:427 - [Epoch 2 9920/59840][Iteration 218][Wall Clock 87.094952655s] Trained 320.0 records in 0.386685855 seconds. Throughput is 827.54517 records/second. Loss is 0.055072747. \n",
            "2020-12-29 07:30:57 INFO  DistriOptimizer$:427 - [Epoch 2 10240/59840][Iteration 219][Wall Clock 87.515026617s] Trained 320.0 records in 0.420073962 seconds. Throughput is 761.7706 records/second. Loss is 0.04935088. \n",
            "2020-12-29 07:30:58 INFO  DistriOptimizer$:427 - [Epoch 2 10560/59840][Iteration 220][Wall Clock 87.888215269s] Trained 320.0 records in 0.373188652 seconds. Throughput is 857.47516 records/second. Loss is 0.0601539. \n",
            "2020-12-29 07:30:58 INFO  DistriOptimizer$:427 - [Epoch 2 10880/59840][Iteration 221][Wall Clock 88.238206004s] Trained 320.0 records in 0.349990735 seconds. Throughput is 914.30994 records/second. Loss is 0.06562589. \n",
            "2020-12-29 07:30:58 INFO  DistriOptimizer$:427 - [Epoch 2 11200/59840][Iteration 222][Wall Clock 88.625180528s] Trained 320.0 records in 0.386974524 seconds. Throughput is 826.92786 records/second. Loss is 0.06206448. \n",
            "2020-12-29 07:30:59 INFO  DistriOptimizer$:427 - [Epoch 2 11520/59840][Iteration 223][Wall Clock 89.055114436s] Trained 320.0 records in 0.429933908 seconds. Throughput is 744.3005 records/second. Loss is 0.038697213. \n",
            "2020-12-29 07:30:59 INFO  DistriOptimizer$:427 - [Epoch 2 11840/59840][Iteration 224][Wall Clock 89.454951424s] Trained 320.0 records in 0.399836988 seconds. Throughput is 800.3262 records/second. Loss is 0.07020098. \n",
            "2020-12-29 07:31:00 INFO  DistriOptimizer$:427 - [Epoch 2 12160/59840][Iteration 225][Wall Clock 89.889248357s] Trained 320.0 records in 0.434296933 seconds. Throughput is 736.82306 records/second. Loss is 0.11122445. \n",
            "2020-12-29 07:31:00 INFO  DistriOptimizer$:427 - [Epoch 2 12480/59840][Iteration 226][Wall Clock 90.279666273s] Trained 320.0 records in 0.390417916 seconds. Throughput is 819.6345 records/second. Loss is 0.059527736. \n",
            "2020-12-29 07:31:00 INFO  DistriOptimizer$:427 - [Epoch 2 12800/59840][Iteration 227][Wall Clock 90.643376071s] Trained 320.0 records in 0.363709798 seconds. Throughput is 879.8223 records/second. Loss is 0.04056873. \n",
            "2020-12-29 07:31:01 INFO  DistriOptimizer$:427 - [Epoch 2 13120/59840][Iteration 228][Wall Clock 90.991375782s] Trained 320.0 records in 0.347999711 seconds. Throughput is 919.54095 records/second. Loss is 0.06701452. \n",
            "2020-12-29 07:31:01 INFO  DistriOptimizer$:427 - [Epoch 2 13440/59840][Iteration 229][Wall Clock 91.341674575s] Trained 320.0 records in 0.350298793 seconds. Throughput is 913.50586 records/second. Loss is 0.0661152. \n",
            "2020-12-29 07:31:01 INFO  DistriOptimizer$:427 - [Epoch 2 13760/59840][Iteration 230][Wall Clock 91.698547032s] Trained 320.0 records in 0.356872457 seconds. Throughput is 896.67883 records/second. Loss is 0.075515464. \n",
            "2020-12-29 07:31:02 INFO  DistriOptimizer$:427 - [Epoch 2 14080/59840][Iteration 231][Wall Clock 92.060279652s] Trained 320.0 records in 0.36173262 seconds. Throughput is 884.6313 records/second. Loss is 0.071467124. \n",
            "2020-12-29 07:31:02 INFO  DistriOptimizer$:427 - [Epoch 2 14400/59840][Iteration 232][Wall Clock 92.426796059s] Trained 320.0 records in 0.366516407 seconds. Throughput is 873.085 records/second. Loss is 0.045193. \n",
            "2020-12-29 07:31:03 INFO  DistriOptimizer$:427 - [Epoch 2 14720/59840][Iteration 233][Wall Clock 92.832023372s] Trained 320.0 records in 0.405227313 seconds. Throughput is 789.68024 records/second. Loss is 0.06380051. \n",
            "2020-12-29 07:31:03 INFO  DistriOptimizer$:427 - [Epoch 2 15040/59840][Iteration 234][Wall Clock 93.174403428s] Trained 320.0 records in 0.342380056 seconds. Throughput is 934.6339 records/second. Loss is 0.04563665. \n",
            "2020-12-29 07:31:03 INFO  DistriOptimizer$:427 - [Epoch 2 15360/59840][Iteration 235][Wall Clock 93.528675331s] Trained 320.0 records in 0.354271903 seconds. Throughput is 903.26105 records/second. Loss is 0.044071283. \n",
            "2020-12-29 07:31:04 INFO  DistriOptimizer$:427 - [Epoch 2 15680/59840][Iteration 236][Wall Clock 93.88012138s] Trained 320.0 records in 0.351446049 seconds. Throughput is 910.5238 records/second. Loss is 0.082830705. \n",
            "2020-12-29 07:31:04 INFO  DistriOptimizer$:427 - [Epoch 2 16000/59840][Iteration 237][Wall Clock 94.223119055s] Trained 320.0 records in 0.342997675 seconds. Throughput is 932.9509 records/second. Loss is 0.040673904. \n",
            "2020-12-29 07:31:04 INFO  DistriOptimizer$:427 - [Epoch 2 16320/59840][Iteration 238][Wall Clock 94.5781296s] Trained 320.0 records in 0.355010545 seconds. Throughput is 901.3817 records/second. Loss is 0.04775876. \n",
            "2020-12-29 07:31:05 INFO  DistriOptimizer$:427 - [Epoch 2 16640/59840][Iteration 239][Wall Clock 94.93224177s] Trained 320.0 records in 0.35411217 seconds. Throughput is 903.66846 records/second. Loss is 0.08903677. \n",
            "2020-12-29 07:31:05 INFO  DistriOptimizer$:427 - [Epoch 2 16960/59840][Iteration 240][Wall Clock 95.277914911s] Trained 320.0 records in 0.345673141 seconds. Throughput is 925.73 records/second. Loss is 0.06801616. \n",
            "2020-12-29 07:31:05 INFO  DistriOptimizer$:427 - [Epoch 2 17280/59840][Iteration 241][Wall Clock 95.639947038s] Trained 320.0 records in 0.362032127 seconds. Throughput is 883.8995 records/second. Loss is 0.07748893. \n",
            "2020-12-29 07:31:06 INFO  DistriOptimizer$:427 - [Epoch 2 17600/59840][Iteration 242][Wall Clock 95.991770921s] Trained 320.0 records in 0.351823883 seconds. Throughput is 909.54596 records/second. Loss is 0.076123185. \n",
            "2020-12-29 07:31:06 INFO  DistriOptimizer$:427 - [Epoch 2 17920/59840][Iteration 243][Wall Clock 96.341629769s] Trained 320.0 records in 0.349858848 seconds. Throughput is 914.6546 records/second. Loss is 0.047268167. \n",
            "2020-12-29 07:31:06 INFO  DistriOptimizer$:427 - [Epoch 2 18240/59840][Iteration 244][Wall Clock 96.69891279s] Trained 320.0 records in 0.357283021 seconds. Throughput is 895.6485 records/second. Loss is 0.031066865. \n",
            "2020-12-29 07:31:07 INFO  DistriOptimizer$:427 - [Epoch 2 18560/59840][Iteration 245][Wall Clock 97.056268245s] Trained 320.0 records in 0.357355455 seconds. Throughput is 895.467 records/second. Loss is 0.05728893. \n",
            "2020-12-29 07:31:07 INFO  DistriOptimizer$:427 - [Epoch 2 18880/59840][Iteration 246][Wall Clock 97.405965644s] Trained 320.0 records in 0.349697399 seconds. Throughput is 915.07684 records/second. Loss is 0.046486333. \n",
            "2020-12-29 07:31:08 INFO  DistriOptimizer$:427 - [Epoch 2 19200/59840][Iteration 247][Wall Clock 97.758693104s] Trained 320.0 records in 0.35272746 seconds. Throughput is 907.216 records/second. Loss is 0.060110047. \n",
            "2020-12-29 07:31:08 INFO  DistriOptimizer$:427 - [Epoch 2 19520/59840][Iteration 248][Wall Clock 98.109364483s] Trained 320.0 records in 0.350671379 seconds. Throughput is 912.5353 records/second. Loss is 0.033780888. \n",
            "2020-12-29 07:31:08 INFO  DistriOptimizer$:427 - [Epoch 2 19840/59840][Iteration 249][Wall Clock 98.467808986s] Trained 320.0 records in 0.358444503 seconds. Throughput is 892.7463 records/second. Loss is 0.02680913. \n",
            "2020-12-29 07:31:09 INFO  DistriOptimizer$:427 - [Epoch 2 20160/59840][Iteration 250][Wall Clock 98.819952856s] Trained 320.0 records in 0.35214387 seconds. Throughput is 908.7195 records/second. Loss is 0.030579202. \n",
            "2020-12-29 07:31:09 INFO  DistriOptimizer$:427 - [Epoch 2 20480/59840][Iteration 251][Wall Clock 99.171066425s] Trained 320.0 records in 0.351113569 seconds. Throughput is 911.38605 records/second. Loss is 0.049502306. \n",
            "2020-12-29 07:31:09 INFO  DistriOptimizer$:427 - [Epoch 2 20800/59840][Iteration 252][Wall Clock 99.550827666s] Trained 320.0 records in 0.379761241 seconds. Throughput is 842.6347 records/second. Loss is 0.043069877. \n",
            "2020-12-29 07:31:10 INFO  DistriOptimizer$:427 - [Epoch 2 21120/59840][Iteration 253][Wall Clock 99.917236175s] Trained 320.0 records in 0.366408509 seconds. Throughput is 873.34216 records/second. Loss is 0.04760186. \n",
            "2020-12-29 07:31:10 INFO  DistriOptimizer$:427 - [Epoch 2 21440/59840][Iteration 254][Wall Clock 100.271334429s] Trained 320.0 records in 0.354098254 seconds. Throughput is 903.704 records/second. Loss is 0.04360952. \n",
            "2020-12-29 07:31:10 INFO  DistriOptimizer$:427 - [Epoch 2 21760/59840][Iteration 255][Wall Clock 100.633290966s] Trained 320.0 records in 0.361956537 seconds. Throughput is 884.08405 records/second. Loss is 0.049501464. \n",
            "2020-12-29 07:31:11 INFO  DistriOptimizer$:427 - [Epoch 2 22080/59840][Iteration 256][Wall Clock 100.997583621s] Trained 320.0 records in 0.364292655 seconds. Throughput is 878.4147 records/second. Loss is 0.04013362. \n",
            "2020-12-29 07:31:11 INFO  DistriOptimizer$:427 - [Epoch 2 22400/59840][Iteration 257][Wall Clock 101.34942039s] Trained 320.0 records in 0.351836769 seconds. Throughput is 909.5127 records/second. Loss is 0.04189427. \n",
            "2020-12-29 07:31:12 INFO  DistriOptimizer$:427 - [Epoch 2 22720/59840][Iteration 258][Wall Clock 101.706612037s] Trained 320.0 records in 0.357191647 seconds. Throughput is 895.8776 records/second. Loss is 0.06423196. \n",
            "2020-12-29 07:31:12 INFO  DistriOptimizer$:427 - [Epoch 2 23040/59840][Iteration 259][Wall Clock 102.054953753s] Trained 320.0 records in 0.348341716 seconds. Throughput is 918.6382 records/second. Loss is 0.0541508. \n",
            "2020-12-29 07:31:12 INFO  DistriOptimizer$:427 - [Epoch 2 23360/59840][Iteration 260][Wall Clock 102.407740949s] Trained 320.0 records in 0.352787196 seconds. Throughput is 907.0624 records/second. Loss is 0.055954393. \n",
            "2020-12-29 07:31:13 INFO  DistriOptimizer$:427 - [Epoch 2 23680/59840][Iteration 261][Wall Clock 102.764019294s] Trained 320.0 records in 0.356278345 seconds. Throughput is 898.17413 records/second. Loss is 0.026045058. \n",
            "2020-12-29 07:31:13 INFO  DistriOptimizer$:427 - [Epoch 2 24000/59840][Iteration 262][Wall Clock 103.106683306s] Trained 320.0 records in 0.342664012 seconds. Throughput is 933.8594 records/second. Loss is 0.049962148. \n",
            "2020-12-29 07:31:13 INFO  DistriOptimizer$:427 - [Epoch 2 24320/59840][Iteration 263][Wall Clock 103.498154168s] Trained 320.0 records in 0.391470862 seconds. Throughput is 817.42993 records/second. Loss is 0.045232594. \n",
            "2020-12-29 07:31:14 INFO  DistriOptimizer$:427 - [Epoch 2 24640/59840][Iteration 264][Wall Clock 103.857640531s] Trained 320.0 records in 0.359486363 seconds. Throughput is 890.15894 records/second. Loss is 0.07848064. \n",
            "2020-12-29 07:31:14 INFO  DistriOptimizer$:427 - [Epoch 2 24960/59840][Iteration 265][Wall Clock 104.212809962s] Trained 320.0 records in 0.355169431 seconds. Throughput is 900.9784 records/second. Loss is 0.048567425. \n",
            "2020-12-29 07:31:14 INFO  DistriOptimizer$:427 - [Epoch 2 25280/59840][Iteration 266][Wall Clock 104.561801138s] Trained 320.0 records in 0.348991176 seconds. Throughput is 916.9286 records/second. Loss is 0.039405745. \n",
            "2020-12-29 07:31:15 INFO  DistriOptimizer$:427 - [Epoch 2 25600/59840][Iteration 267][Wall Clock 104.915172827s] Trained 320.0 records in 0.353371689 seconds. Throughput is 905.5621 records/second. Loss is 0.052375697. \n",
            "2020-12-29 07:31:15 INFO  DistriOptimizer$:427 - [Epoch 2 25920/59840][Iteration 268][Wall Clock 105.257203565s] Trained 320.0 records in 0.342030738 seconds. Throughput is 935.58844 records/second. Loss is 0.044102907. \n",
            "2020-12-29 07:31:15 INFO  DistriOptimizer$:427 - [Epoch 2 26240/59840][Iteration 269][Wall Clock 105.626019753s] Trained 320.0 records in 0.368816188 seconds. Throughput is 867.64087 records/second. Loss is 0.030561613. \n",
            "2020-12-29 07:31:16 INFO  DistriOptimizer$:427 - [Epoch 2 26560/59840][Iteration 270][Wall Clock 105.992103341s] Trained 320.0 records in 0.366083588 seconds. Throughput is 874.1173 records/second. Loss is 0.040026683. \n",
            "2020-12-29 07:31:16 INFO  DistriOptimizer$:427 - [Epoch 2 26880/59840][Iteration 271][Wall Clock 106.392631704s] Trained 320.0 records in 0.400528363 seconds. Throughput is 798.94464 records/second. Loss is 0.05436567. \n",
            "2020-12-29 07:31:17 INFO  DistriOptimizer$:427 - [Epoch 2 27200/59840][Iteration 272][Wall Clock 106.735365274s] Trained 320.0 records in 0.34273357 seconds. Throughput is 933.66986 records/second. Loss is 0.03713939. \n",
            "2020-12-29 07:31:17 INFO  DistriOptimizer$:427 - [Epoch 2 27520/59840][Iteration 273][Wall Clock 107.089764022s] Trained 320.0 records in 0.354398748 seconds. Throughput is 902.9377 records/second. Loss is 0.0879827. \n",
            "2020-12-29 07:31:17 INFO  DistriOptimizer$:427 - [Epoch 2 27840/59840][Iteration 274][Wall Clock 107.442030773s] Trained 320.0 records in 0.352266751 seconds. Throughput is 908.40247 records/second. Loss is 0.031286538. \n",
            "2020-12-29 07:31:18 INFO  DistriOptimizer$:427 - [Epoch 2 28160/59840][Iteration 275][Wall Clock 107.785512473s] Trained 320.0 records in 0.3434817 seconds. Throughput is 931.6363 records/second. Loss is 0.03886663. \n",
            "2020-12-29 07:31:18 INFO  DistriOptimizer$:427 - [Epoch 2 28480/59840][Iteration 276][Wall Clock 108.136430767s] Trained 320.0 records in 0.350918294 seconds. Throughput is 911.8932 records/second. Loss is 0.046794347. \n",
            "2020-12-29 07:31:18 INFO  DistriOptimizer$:427 - [Epoch 2 28800/59840][Iteration 277][Wall Clock 108.493509533s] Trained 320.0 records in 0.357078766 seconds. Throughput is 896.1608 records/second. Loss is 0.03260333. \n",
            "2020-12-29 07:31:19 INFO  DistriOptimizer$:427 - [Epoch 2 29120/59840][Iteration 278][Wall Clock 108.847615969s] Trained 320.0 records in 0.354106436 seconds. Throughput is 903.6831 records/second. Loss is 0.039865684. \n",
            "2020-12-29 07:31:19 INFO  DistriOptimizer$:427 - [Epoch 2 29440/59840][Iteration 279][Wall Clock 109.199967554s] Trained 320.0 records in 0.352351585 seconds. Throughput is 908.18384 records/second. Loss is 0.053418167. \n",
            "2020-12-29 07:31:19 INFO  DistriOptimizer$:427 - [Epoch 2 29760/59840][Iteration 280][Wall Clock 109.607612031s] Trained 320.0 records in 0.407644477 seconds. Throughput is 784.99774 records/second. Loss is 0.01880945. \n",
            "2020-12-29 07:31:20 INFO  DistriOptimizer$:427 - [Epoch 2 30080/59840][Iteration 281][Wall Clock 110.040872205s] Trained 320.0 records in 0.433260174 seconds. Throughput is 738.58624 records/second. Loss is 0.09312119. \n",
            "2020-12-29 07:31:20 INFO  DistriOptimizer$:427 - [Epoch 2 30400/59840][Iteration 282][Wall Clock 110.463062998s] Trained 320.0 records in 0.422190793 seconds. Throughput is 757.9512 records/second. Loss is 0.0595648. \n",
            "2020-12-29 07:31:21 INFO  DistriOptimizer$:427 - [Epoch 2 30720/59840][Iteration 283][Wall Clock 110.83747147s] Trained 320.0 records in 0.374408472 seconds. Throughput is 854.6815 records/second. Loss is 0.023249703. \n",
            "2020-12-29 07:31:21 INFO  DistriOptimizer$:427 - [Epoch 2 31040/59840][Iteration 284][Wall Clock 111.191640247s] Trained 320.0 records in 0.354168777 seconds. Throughput is 903.52405 records/second. Loss is 0.06358047. \n",
            "2020-12-29 07:31:21 INFO  DistriOptimizer$:427 - [Epoch 2 31360/59840][Iteration 285][Wall Clock 111.545052462s] Trained 320.0 records in 0.353412215 seconds. Throughput is 905.45825 records/second. Loss is 0.0915284. \n",
            "2020-12-29 07:31:22 INFO  DistriOptimizer$:427 - [Epoch 2 31680/59840][Iteration 286][Wall Clock 111.947289259s] Trained 320.0 records in 0.402236797 seconds. Throughput is 795.5513 records/second. Loss is 0.020807061. \n",
            "2020-12-29 07:31:22 INFO  DistriOptimizer$:427 - [Epoch 2 32000/59840][Iteration 287][Wall Clock 112.300260915s] Trained 320.0 records in 0.352971656 seconds. Throughput is 906.5884 records/second. Loss is 0.08428556. \n",
            "2020-12-29 07:31:22 INFO  DistriOptimizer$:427 - [Epoch 2 32320/59840][Iteration 288][Wall Clock 112.666083119s] Trained 320.0 records in 0.365822204 seconds. Throughput is 874.7419 records/second. Loss is 0.032553926. \n",
            "2020-12-29 07:31:23 INFO  DistriOptimizer$:427 - [Epoch 2 32640/59840][Iteration 289][Wall Clock 113.069205266s] Trained 320.0 records in 0.403122147 seconds. Throughput is 793.8041 records/second. Loss is 0.028631616. \n",
            "2020-12-29 07:31:23 INFO  DistriOptimizer$:427 - [Epoch 2 32960/59840][Iteration 290][Wall Clock 113.424631293s] Trained 320.0 records in 0.355426027 seconds. Throughput is 900.328 records/second. Loss is 0.047655888. \n",
            "2020-12-29 07:31:24 INFO  DistriOptimizer$:427 - [Epoch 2 33280/59840][Iteration 291][Wall Clock 113.772176376s] Trained 320.0 records in 0.347545083 seconds. Throughput is 920.74384 records/second. Loss is 0.021288948. \n",
            "2020-12-29 07:31:24 INFO  DistriOptimizer$:427 - [Epoch 2 33600/59840][Iteration 292][Wall Clock 114.126098502s] Trained 320.0 records in 0.353922126 seconds. Throughput is 904.1537 records/second. Loss is 0.109574966. \n",
            "2020-12-29 07:31:24 INFO  DistriOptimizer$:427 - [Epoch 2 33920/59840][Iteration 293][Wall Clock 114.547003138s] Trained 320.0 records in 0.420904636 seconds. Throughput is 760.2672 records/second. Loss is 0.06360807. \n",
            "2020-12-29 07:31:25 INFO  DistriOptimizer$:427 - [Epoch 2 34240/59840][Iteration 294][Wall Clock 114.905499408s] Trained 320.0 records in 0.35849627 seconds. Throughput is 892.6174 records/second. Loss is 0.027412724. \n",
            "2020-12-29 07:31:25 INFO  DistriOptimizer$:427 - [Epoch 2 34560/59840][Iteration 295][Wall Clock 115.308851026s] Trained 320.0 records in 0.403351618 seconds. Throughput is 793.3525 records/second. Loss is 0.04751703. \n",
            "2020-12-29 07:31:25 INFO  DistriOptimizer$:427 - [Epoch 2 34880/59840][Iteration 296][Wall Clock 115.660753942s] Trained 320.0 records in 0.351902916 seconds. Throughput is 909.34174 records/second. Loss is 0.047816522. \n",
            "2020-12-29 07:31:26 INFO  DistriOptimizer$:427 - [Epoch 2 35200/59840][Iteration 297][Wall Clock 116.01392626s] Trained 320.0 records in 0.353172318 seconds. Throughput is 906.07324 records/second. Loss is 0.036831476. \n",
            "2020-12-29 07:31:26 INFO  DistriOptimizer$:427 - [Epoch 2 35520/59840][Iteration 298][Wall Clock 116.368071447s] Trained 320.0 records in 0.354145187 seconds. Throughput is 903.58417 records/second. Loss is 0.050595623. \n",
            "2020-12-29 07:31:27 INFO  DistriOptimizer$:427 - [Epoch 2 35840/59840][Iteration 299][Wall Clock 116.719163048s] Trained 320.0 records in 0.351091601 seconds. Throughput is 911.44305 records/second. Loss is 0.055055626. \n",
            "2020-12-29 07:31:27 INFO  DistriOptimizer$:427 - [Epoch 2 36160/59840][Iteration 300][Wall Clock 117.072561552s] Trained 320.0 records in 0.353398504 seconds. Throughput is 905.49335 records/second. Loss is 0.044423588. \n",
            "2020-12-29 07:31:27 INFO  DistriOptimizer$:427 - [Epoch 2 36480/59840][Iteration 301][Wall Clock 117.425442093s] Trained 320.0 records in 0.352880541 seconds. Throughput is 906.82245 records/second. Loss is 0.05150077. \n",
            "2020-12-29 07:31:28 INFO  DistriOptimizer$:427 - [Epoch 2 36800/59840][Iteration 302][Wall Clock 117.776577251s] Trained 320.0 records in 0.351135158 seconds. Throughput is 911.32996 records/second. Loss is 0.037405245. \n",
            "2020-12-29 07:31:28 INFO  DistriOptimizer$:427 - [Epoch 2 37120/59840][Iteration 303][Wall Clock 118.147711791s] Trained 320.0 records in 0.37113454 seconds. Throughput is 862.221 records/second. Loss is 0.06330853. \n",
            "2020-12-29 07:31:28 INFO  DistriOptimizer$:427 - [Epoch 2 37440/59840][Iteration 304][Wall Clock 118.502148705s] Trained 320.0 records in 0.354436914 seconds. Throughput is 902.8405 records/second. Loss is 0.044923164. \n",
            "2020-12-29 07:31:29 INFO  DistriOptimizer$:427 - [Epoch 2 37760/59840][Iteration 305][Wall Clock 118.853211125s] Trained 320.0 records in 0.35106242 seconds. Throughput is 911.5188 records/second. Loss is 0.04637613. \n",
            "2020-12-29 07:31:29 INFO  DistriOptimizer$:427 - [Epoch 2 38080/59840][Iteration 306][Wall Clock 119.219062942s] Trained 320.0 records in 0.365851817 seconds. Throughput is 874.6711 records/second. Loss is 0.05900154. \n",
            "2020-12-29 07:31:29 INFO  DistriOptimizer$:427 - [Epoch 2 38400/59840][Iteration 307][Wall Clock 119.578725685s] Trained 320.0 records in 0.359662743 seconds. Throughput is 889.7224 records/second. Loss is 0.044867307. \n",
            "2020-12-29 07:31:30 INFO  DistriOptimizer$:427 - [Epoch 2 38720/59840][Iteration 308][Wall Clock 119.938582861s] Trained 320.0 records in 0.359857176 seconds. Throughput is 889.2417 records/second. Loss is 0.04995422. \n",
            "2020-12-29 07:31:30 INFO  DistriOptimizer$:427 - [Epoch 2 39040/59840][Iteration 309][Wall Clock 120.311026454s] Trained 320.0 records in 0.372443593 seconds. Throughput is 859.19055 records/second. Loss is 0.06658771. \n",
            "2020-12-29 07:31:31 INFO  DistriOptimizer$:427 - [Epoch 2 39360/59840][Iteration 310][Wall Clock 120.742481268s] Trained 320.0 records in 0.431454814 seconds. Throughput is 741.67676 records/second. Loss is 0.06543026. \n",
            "2020-12-29 07:31:31 INFO  DistriOptimizer$:427 - [Epoch 2 39680/59840][Iteration 311][Wall Clock 121.162783329s] Trained 320.0 records in 0.420302061 seconds. Throughput is 761.3572 records/second. Loss is 0.058319513. \n",
            "2020-12-29 07:31:31 INFO  DistriOptimizer$:427 - [Epoch 2 40000/59840][Iteration 312][Wall Clock 121.508301207s] Trained 320.0 records in 0.345517878 seconds. Throughput is 926.146 records/second. Loss is 0.048301246. \n",
            "2020-12-29 07:31:32 INFO  DistriOptimizer$:427 - [Epoch 2 40320/59840][Iteration 313][Wall Clock 121.854549761s] Trained 320.0 records in 0.346248554 seconds. Throughput is 924.1915 records/second. Loss is 0.083030984. \n",
            "2020-12-29 07:31:32 INFO  DistriOptimizer$:427 - [Epoch 2 40640/59840][Iteration 314][Wall Clock 122.22621887s] Trained 320.0 records in 0.371669109 seconds. Throughput is 860.9809 records/second. Loss is 0.061396405. \n",
            "2020-12-29 07:31:32 INFO  DistriOptimizer$:427 - [Epoch 2 40960/59840][Iteration 315][Wall Clock 122.588484103s] Trained 320.0 records in 0.362265233 seconds. Throughput is 883.3307 records/second. Loss is 0.03392815. \n",
            "2020-12-29 07:31:33 INFO  DistriOptimizer$:427 - [Epoch 2 41280/59840][Iteration 316][Wall Clock 122.969961122s] Trained 320.0 records in 0.381477019 seconds. Throughput is 838.8447 records/second. Loss is 0.053131238. \n",
            "2020-12-29 07:31:33 INFO  DistriOptimizer$:427 - [Epoch 2 41600/59840][Iteration 317][Wall Clock 123.32054216s] Trained 320.0 records in 0.350581038 seconds. Throughput is 912.7704 records/second. Loss is 0.03208473. \n",
            "2020-12-29 07:31:34 INFO  DistriOptimizer$:427 - [Epoch 2 41920/59840][Iteration 318][Wall Clock 123.660416777s] Trained 320.0 records in 0.339874617 seconds. Throughput is 941.5237 records/second. Loss is 0.03429802. \n",
            "2020-12-29 07:31:34 INFO  DistriOptimizer$:427 - [Epoch 2 42240/59840][Iteration 319][Wall Clock 124.002280239s] Trained 320.0 records in 0.341863462 seconds. Throughput is 936.04626 records/second. Loss is 0.057007603. \n",
            "2020-12-29 07:31:34 INFO  DistriOptimizer$:427 - [Epoch 2 42560/59840][Iteration 320][Wall Clock 124.355001668s] Trained 320.0 records in 0.352721429 seconds. Throughput is 907.23157 records/second. Loss is 0.04586727. \n",
            "2020-12-29 07:31:35 INFO  DistriOptimizer$:427 - [Epoch 2 42880/59840][Iteration 321][Wall Clock 124.712266439s] Trained 320.0 records in 0.357264771 seconds. Throughput is 895.6943 records/second. Loss is 0.06756031. \n",
            "2020-12-29 07:31:35 INFO  DistriOptimizer$:427 - [Epoch 2 43200/59840][Iteration 322][Wall Clock 125.052290522s] Trained 320.0 records in 0.340024083 seconds. Throughput is 941.1098 records/second. Loss is 0.03330601. \n",
            "2020-12-29 07:31:35 INFO  DistriOptimizer$:427 - [Epoch 2 43520/59840][Iteration 323][Wall Clock 125.405345217s] Trained 320.0 records in 0.353054695 seconds. Throughput is 906.3751 records/second. Loss is 0.033991322. \n",
            "2020-12-29 07:31:36 INFO  DistriOptimizer$:427 - [Epoch 2 43840/59840][Iteration 324][Wall Clock 125.830617118s] Trained 320.0 records in 0.425271901 seconds. Throughput is 752.4598 records/second. Loss is 0.017264586. \n",
            "2020-12-29 07:31:36 INFO  DistriOptimizer$:427 - [Epoch 2 44160/59840][Iteration 325][Wall Clock 126.181422754s] Trained 320.0 records in 0.350805636 seconds. Throughput is 912.18604 records/second. Loss is 0.030479858. \n",
            "2020-12-29 07:31:36 INFO  DistriOptimizer$:427 - [Epoch 2 44480/59840][Iteration 326][Wall Clock 126.537450516s] Trained 320.0 records in 0.356027762 seconds. Throughput is 898.80634 records/second. Loss is 0.04585431. \n",
            "2020-12-29 07:31:37 INFO  DistriOptimizer$:427 - [Epoch 2 44800/59840][Iteration 327][Wall Clock 126.878910802s] Trained 320.0 records in 0.341460286 seconds. Throughput is 937.1514 records/second. Loss is 0.03217707. \n",
            "2020-12-29 07:31:37 INFO  DistriOptimizer$:427 - [Epoch 2 45120/59840][Iteration 328][Wall Clock 127.239584172s] Trained 320.0 records in 0.36067337 seconds. Throughput is 887.2294 records/second. Loss is 0.07134922. \n",
            "2020-12-29 07:31:37 INFO  DistriOptimizer$:427 - [Epoch 2 45440/59840][Iteration 329][Wall Clock 127.582230704s] Trained 320.0 records in 0.342646532 seconds. Throughput is 933.907 records/second. Loss is 0.054403476. \n",
            "2020-12-29 07:31:38 INFO  DistriOptimizer$:427 - [Epoch 2 45760/59840][Iteration 330][Wall Clock 127.928098652s] Trained 320.0 records in 0.345867948 seconds. Throughput is 925.20856 records/second. Loss is 0.05255615. \n",
            "2020-12-29 07:31:38 INFO  DistriOptimizer$:427 - [Epoch 2 46080/59840][Iteration 331][Wall Clock 128.304052476s] Trained 320.0 records in 0.375953824 seconds. Throughput is 851.16833 records/second. Loss is 0.027205681. \n",
            "2020-12-29 07:31:39 INFO  DistriOptimizer$:427 - [Epoch 2 46400/59840][Iteration 332][Wall Clock 128.654992454s] Trained 320.0 records in 0.350939978 seconds. Throughput is 911.8368 records/second. Loss is 0.06148782. \n",
            "2020-12-29 07:31:39 INFO  DistriOptimizer$:427 - [Epoch 2 46720/59840][Iteration 333][Wall Clock 128.998420927s] Trained 320.0 records in 0.343428473 seconds. Throughput is 931.78064 records/second. Loss is 0.04313379. \n",
            "2020-12-29 07:31:39 INFO  DistriOptimizer$:427 - [Epoch 2 47040/59840][Iteration 334][Wall Clock 129.347237579s] Trained 320.0 records in 0.348816652 seconds. Throughput is 917.3874 records/second. Loss is 0.029493555. \n",
            "2020-12-29 07:31:40 INFO  DistriOptimizer$:427 - [Epoch 2 47360/59840][Iteration 335][Wall Clock 129.690159815s] Trained 320.0 records in 0.342922236 seconds. Throughput is 933.1561 records/second. Loss is 0.08990853. \n",
            "2020-12-29 07:31:40 INFO  DistriOptimizer$:427 - [Epoch 2 47680/59840][Iteration 336][Wall Clock 130.041344747s] Trained 320.0 records in 0.351184932 seconds. Throughput is 911.2008 records/second. Loss is 0.052051865. \n",
            "2020-12-29 07:31:40 INFO  DistriOptimizer$:427 - [Epoch 2 48000/59840][Iteration 337][Wall Clock 130.410680937s] Trained 320.0 records in 0.36933619 seconds. Throughput is 866.4193 records/second. Loss is 0.04523925. \n",
            "2020-12-29 07:31:41 INFO  DistriOptimizer$:427 - [Epoch 2 48320/59840][Iteration 338][Wall Clock 130.752326647s] Trained 320.0 records in 0.34164571 seconds. Throughput is 936.6428 records/second. Loss is 0.031465128. \n",
            "2020-12-29 07:31:41 INFO  DistriOptimizer$:427 - [Epoch 2 48640/59840][Iteration 339][Wall Clock 131.105203578s] Trained 320.0 records in 0.352876931 seconds. Throughput is 906.8317 records/second. Loss is 0.04754943. \n",
            "2020-12-29 07:31:41 INFO  DistriOptimizer$:427 - [Epoch 2 48960/59840][Iteration 340][Wall Clock 131.460520753s] Trained 320.0 records in 0.355317175 seconds. Throughput is 900.6038 records/second. Loss is 0.024584403. \n",
            "2020-12-29 07:31:42 INFO  DistriOptimizer$:427 - [Epoch 2 49280/59840][Iteration 341][Wall Clock 131.834448728s] Trained 320.0 records in 0.373927975 seconds. Throughput is 855.7798 records/second. Loss is 0.026191872. \n",
            "2020-12-29 07:31:42 INFO  DistriOptimizer$:427 - [Epoch 2 49600/59840][Iteration 342][Wall Clock 132.178055445s] Trained 320.0 records in 0.343606717 seconds. Throughput is 931.2973 records/second. Loss is 0.038526732. \n",
            "2020-12-29 07:31:42 INFO  DistriOptimizer$:427 - [Epoch 2 49920/59840][Iteration 343][Wall Clock 132.535024303s] Trained 320.0 records in 0.356968858 seconds. Throughput is 896.43677 records/second. Loss is 0.027287882. \n",
            "2020-12-29 07:31:43 INFO  DistriOptimizer$:427 - [Epoch 2 50240/59840][Iteration 344][Wall Clock 132.905735079s] Trained 320.0 records in 0.370710776 seconds. Throughput is 863.2066 records/second. Loss is 0.03584582. \n",
            "2020-12-29 07:31:43 INFO  DistriOptimizer$:427 - [Epoch 2 50560/59840][Iteration 345][Wall Clock 133.31654688s] Trained 320.0 records in 0.410811801 seconds. Throughput is 778.9455 records/second. Loss is 0.02370382. \n",
            "2020-12-29 07:31:44 INFO  DistriOptimizer$:427 - [Epoch 2 50880/59840][Iteration 346][Wall Clock 133.658696375s] Trained 320.0 records in 0.342149495 seconds. Throughput is 935.2637 records/second. Loss is 0.06600456. \n",
            "2020-12-29 07:31:44 INFO  DistriOptimizer$:427 - [Epoch 2 51200/59840][Iteration 347][Wall Clock 134.012295251s] Trained 320.0 records in 0.353598876 seconds. Throughput is 904.9803 records/second. Loss is 0.036366493. \n",
            "2020-12-29 07:31:44 INFO  DistriOptimizer$:427 - [Epoch 2 51520/59840][Iteration 348][Wall Clock 134.376328558s] Trained 320.0 records in 0.364033307 seconds. Throughput is 879.0404 records/second. Loss is 0.07319473. \n",
            "2020-12-29 07:31:45 INFO  DistriOptimizer$:427 - [Epoch 2 51840/59840][Iteration 349][Wall Clock 134.727849488s] Trained 320.0 records in 0.35152093 seconds. Throughput is 910.3299 records/second. Loss is 0.06518858. \n",
            "2020-12-29 07:31:45 INFO  DistriOptimizer$:427 - [Epoch 2 52160/59840][Iteration 350][Wall Clock 135.067411675s] Trained 320.0 records in 0.339562187 seconds. Throughput is 942.39 records/second. Loss is 0.025959136. \n",
            "2020-12-29 07:31:45 INFO  DistriOptimizer$:427 - [Epoch 2 52480/59840][Iteration 351][Wall Clock 135.413973037s] Trained 320.0 records in 0.346561362 seconds. Throughput is 923.35736 records/second. Loss is 0.05855295. \n",
            "2020-12-29 07:31:46 INFO  DistriOptimizer$:427 - [Epoch 2 52800/59840][Iteration 352][Wall Clock 135.764842751s] Trained 320.0 records in 0.350869714 seconds. Throughput is 912.0194 records/second. Loss is 0.09071731. \n",
            "2020-12-29 07:31:46 INFO  DistriOptimizer$:427 - [Epoch 2 53120/59840][Iteration 353][Wall Clock 136.118565322s] Trained 320.0 records in 0.353722571 seconds. Throughput is 904.66376 records/second. Loss is 0.051187623. \n",
            "2020-12-29 07:31:46 INFO  DistriOptimizer$:427 - [Epoch 2 53440/59840][Iteration 354][Wall Clock 136.478949056s] Trained 320.0 records in 0.360383734 seconds. Throughput is 887.94244 records/second. Loss is 0.033649556. \n",
            "2020-12-29 07:31:47 INFO  DistriOptimizer$:427 - [Epoch 2 53760/59840][Iteration 355][Wall Clock 136.895842257s] Trained 320.0 records in 0.416893201 seconds. Throughput is 767.58264 records/second. Loss is 0.035222206. \n",
            "2020-12-29 07:31:47 INFO  DistriOptimizer$:427 - [Epoch 2 54080/59840][Iteration 356][Wall Clock 137.243613225s] Trained 320.0 records in 0.347770968 seconds. Throughput is 920.1458 records/second. Loss is 0.035690654. \n",
            "2020-12-29 07:31:47 INFO  DistriOptimizer$:427 - [Epoch 2 54400/59840][Iteration 357][Wall Clock 137.605211321s] Trained 320.0 records in 0.361598096 seconds. Throughput is 884.9604 records/second. Loss is 0.02435322. \n",
            "2020-12-29 07:31:48 INFO  DistriOptimizer$:427 - [Epoch 2 54720/59840][Iteration 358][Wall Clock 137.980002134s] Trained 320.0 records in 0.374790813 seconds. Throughput is 853.80963 records/second. Loss is 0.064422965. \n",
            "2020-12-29 07:31:48 INFO  DistriOptimizer$:427 - [Epoch 2 55040/59840][Iteration 359][Wall Clock 138.324271394s] Trained 320.0 records in 0.34426926 seconds. Throughput is 929.50507 records/second. Loss is 0.07443012. \n",
            "2020-12-29 07:31:49 INFO  DistriOptimizer$:427 - [Epoch 2 55360/59840][Iteration 360][Wall Clock 138.683398856s] Trained 320.0 records in 0.359127462 seconds. Throughput is 891.0485 records/second. Loss is 0.040525038. \n",
            "2020-12-29 07:31:49 INFO  DistriOptimizer$:427 - [Epoch 2 55680/59840][Iteration 361][Wall Clock 139.063832733s] Trained 320.0 records in 0.380433877 seconds. Throughput is 841.14484 records/second. Loss is 0.024919027. \n",
            "2020-12-29 07:31:49 INFO  DistriOptimizer$:427 - [Epoch 2 56000/59840][Iteration 362][Wall Clock 139.409246208s] Trained 320.0 records in 0.345413475 seconds. Throughput is 926.4259 records/second. Loss is 0.036635738. \n",
            "2020-12-29 07:31:50 INFO  DistriOptimizer$:427 - [Epoch 2 56320/59840][Iteration 363][Wall Clock 139.760248612s] Trained 320.0 records in 0.351002404 seconds. Throughput is 911.6747 records/second. Loss is 0.039432906. \n",
            "2020-12-29 07:31:50 INFO  DistriOptimizer$:427 - [Epoch 2 56640/59840][Iteration 364][Wall Clock 140.116519183s] Trained 320.0 records in 0.356270571 seconds. Throughput is 898.1937 records/second. Loss is 0.0429975. \n",
            "2020-12-29 07:31:50 INFO  DistriOptimizer$:427 - [Epoch 2 56960/59840][Iteration 365][Wall Clock 140.472359892s] Trained 320.0 records in 0.355840709 seconds. Throughput is 899.27875 records/second. Loss is 0.03521206. \n",
            "2020-12-29 07:31:51 INFO  DistriOptimizer$:427 - [Epoch 2 57280/59840][Iteration 366][Wall Clock 140.834891542s] Trained 320.0 records in 0.36253165 seconds. Throughput is 882.6815 records/second. Loss is 0.023036784. \n",
            "2020-12-29 07:31:51 INFO  DistriOptimizer$:427 - [Epoch 2 57600/59840][Iteration 367][Wall Clock 141.18447559s] Trained 320.0 records in 0.349584048 seconds. Throughput is 915.3736 records/second. Loss is 0.049842283. \n",
            "2020-12-29 07:31:51 INFO  DistriOptimizer$:427 - [Epoch 2 57920/59840][Iteration 368][Wall Clock 141.571571544s] Trained 320.0 records in 0.387095954 seconds. Throughput is 826.6684 records/second. Loss is 0.076376334. \n",
            "2020-12-29 07:31:52 INFO  DistriOptimizer$:427 - [Epoch 2 58240/59840][Iteration 369][Wall Clock 141.927237215s] Trained 320.0 records in 0.355665671 seconds. Throughput is 899.7213 records/second. Loss is 0.05099191. \n",
            "2020-12-29 07:31:52 INFO  DistriOptimizer$:427 - [Epoch 2 58560/59840][Iteration 370][Wall Clock 142.270485427s] Trained 320.0 records in 0.343248212 seconds. Throughput is 932.26996 records/second. Loss is 0.06982171. \n",
            "2020-12-29 07:31:53 INFO  DistriOptimizer$:427 - [Epoch 2 58880/59840][Iteration 371][Wall Clock 142.632592998s] Trained 320.0 records in 0.362107571 seconds. Throughput is 883.7153 records/second. Loss is 0.05659895. \n",
            "2020-12-29 07:31:53 INFO  DistriOptimizer$:427 - [Epoch 2 59200/59840][Iteration 372][Wall Clock 142.964619657s] Trained 320.0 records in 0.332026659 seconds. Throughput is 963.778 records/second. Loss is 0.023891088. \n",
            "2020-12-29 07:31:53 INFO  DistriOptimizer$:427 - [Epoch 2 59520/59840][Iteration 373][Wall Clock 143.260701852s] Trained 320.0 records in 0.296082195 seconds. Throughput is 1080.781 records/second. Loss is 0.06771719. \n",
            "2020-12-29 07:31:53 INFO  DistriOptimizer$:427 - [Epoch 2 59840/59840][Iteration 374][Wall Clock 143.548985886s] Trained 320.0 records in 0.288284034 seconds. Throughput is 1110.0164 records/second. Loss is 0.077297. \n",
            "2020-12-29 07:31:53 INFO  DistriOptimizer$:472 - [Epoch 2 59840/59840][Iteration 374][Wall Clock 143.548985886s] Epoch finished. Wall clock time is 148393.253535 ms\n",
            "2020-12-29 07:31:53 INFO  DistriOptimizer$:111 - [Epoch 2 59840/59840][Iteration 374][Wall Clock 143.548985886s] Validate model...\n"
          ],
          "name": "stdout"
        },
        {
          "output_type": "stream",
          "text": [
            "\r[Stage 757:>                                                        (0 + 1) / 1]"
          ],
          "name": "stderr"
        },
        {
          "output_type": "stream",
          "text": [
            "2020-12-29 07:31:58 INFO  DistriOptimizer$:177 - [Epoch 2 59840/59840][Iteration 374][Wall Clock 143.548985886s] validate model throughput is 2078.3628 records/second\n",
            "2020-12-29 07:31:58 INFO  DistriOptimizer$:180 - [Epoch 2 59840/59840][Iteration 374][Wall Clock 143.548985886s] acc is (acc: 9857.0, count: 10000, Average acc: 0.9857)\n"
          ],
          "name": "stdout"
        },
        {
          "output_type": "stream",
          "text": [
            "\r                                                                                \r"
          ],
          "name": "stderr"
        },
        {
          "output_type": "stream",
          "text": [
            "2020-12-29 07:31:59 INFO  DistriOptimizer$:427 - [Epoch 3 320/59840][Iteration 375][Wall Clock 148.921317332s] Trained 320.0 records in 0.528063797 seconds. Throughput is 605.9874 records/second. Loss is 0.05059727. \n",
            "2020-12-29 07:31:59 INFO  DistriOptimizer$:427 - [Epoch 3 640/59840][Iteration 376][Wall Clock 149.280424411s] Trained 320.0 records in 0.359107079 seconds. Throughput is 891.0991 records/second. Loss is 0.03667482. \n",
            "2020-12-29 07:32:00 INFO  DistriOptimizer$:427 - [Epoch 3 960/59840][Iteration 377][Wall Clock 149.684692623s] Trained 320.0 records in 0.404268212 seconds. Throughput is 791.5537 records/second. Loss is 0.046462663. \n",
            "2020-12-29 07:32:00 INFO  DistriOptimizer$:427 - [Epoch 3 1280/59840][Iteration 378][Wall Clock 150.035042142s] Trained 320.0 records in 0.350349519 seconds. Throughput is 913.3736 records/second. Loss is 0.009482281. \n",
            "2020-12-29 07:32:00 INFO  DistriOptimizer$:427 - [Epoch 3 1600/59840][Iteration 379][Wall Clock 150.40359839s] Trained 320.0 records in 0.368556248 seconds. Throughput is 868.2528 records/second. Loss is 0.05151924. \n",
            "2020-12-29 07:32:01 INFO  DistriOptimizer$:427 - [Epoch 3 1920/59840][Iteration 380][Wall Clock 150.784525958s] Trained 320.0 records in 0.380927568 seconds. Throughput is 840.05475 records/second. Loss is 0.05530585. \n",
            "2020-12-29 07:32:01 INFO  DistriOptimizer$:427 - [Epoch 3 2240/59840][Iteration 381][Wall Clock 151.155726923s] Trained 320.0 records in 0.371200965 seconds. Throughput is 862.0667 records/second. Loss is 0.046768576. \n",
            "2020-12-29 07:32:01 INFO  DistriOptimizer$:427 - [Epoch 3 2560/59840][Iteration 382][Wall Clock 151.573198534s] Trained 320.0 records in 0.417471611 seconds. Throughput is 766.51917 records/second. Loss is 0.06073235. \n",
            "2020-12-29 07:32:02 INFO  DistriOptimizer$:427 - [Epoch 3 2880/59840][Iteration 383][Wall Clock 151.961914832s] Trained 320.0 records in 0.388716298 seconds. Throughput is 823.2225 records/second. Loss is 0.082105875. \n",
            "2020-12-29 07:32:02 INFO  DistriOptimizer$:427 - [Epoch 3 3200/59840][Iteration 384][Wall Clock 152.343290166s] Trained 320.0 records in 0.381375334 seconds. Throughput is 839.0684 records/second. Loss is 0.062270213. \n",
            "2020-12-29 07:32:03 INFO  DistriOptimizer$:427 - [Epoch 3 3520/59840][Iteration 385][Wall Clock 152.715434303s] Trained 320.0 records in 0.372144137 seconds. Throughput is 859.8819 records/second. Loss is 0.033201102. \n",
            "2020-12-29 07:32:03 INFO  DistriOptimizer$:427 - [Epoch 3 3840/59840][Iteration 386][Wall Clock 153.069919871s] Trained 320.0 records in 0.354485568 seconds. Throughput is 902.71655 records/second. Loss is 0.030850314. \n",
            "2020-12-29 07:32:03 INFO  DistriOptimizer$:427 - [Epoch 3 4160/59840][Iteration 387][Wall Clock 153.481944132s] Trained 320.0 records in 0.412024261 seconds. Throughput is 776.6533 records/second. Loss is 0.054691464. \n",
            "2020-12-29 07:32:04 INFO  DistriOptimizer$:427 - [Epoch 3 4480/59840][Iteration 388][Wall Clock 153.888301772s] Trained 320.0 records in 0.40635764 seconds. Throughput is 787.48364 records/second. Loss is 0.038436066. \n",
            "2020-12-29 07:32:04 INFO  DistriOptimizer$:427 - [Epoch 3 4800/59840][Iteration 389][Wall Clock 154.241288275s] Trained 320.0 records in 0.352986503 seconds. Throughput is 906.55023 records/second. Loss is 0.015166453. \n",
            "2020-12-29 07:32:04 INFO  DistriOptimizer$:427 - [Epoch 3 5120/59840][Iteration 390][Wall Clock 154.599408921s] Trained 320.0 records in 0.358120646 seconds. Throughput is 893.5536 records/second. Loss is 0.044412985. \n",
            "2020-12-29 07:32:05 INFO  DistriOptimizer$:427 - [Epoch 3 5440/59840][Iteration 391][Wall Clock 154.956460218s] Trained 320.0 records in 0.357051297 seconds. Throughput is 896.2298 records/second. Loss is 0.035733305. \n",
            "2020-12-29 07:32:05 INFO  DistriOptimizer$:427 - [Epoch 3 5760/59840][Iteration 392][Wall Clock 155.309258033s] Trained 320.0 records in 0.352797815 seconds. Throughput is 907.0351 records/second. Loss is 0.07887796. \n",
            "2020-12-29 07:32:06 INFO  DistriOptimizer$:427 - [Epoch 3 6080/59840][Iteration 393][Wall Clock 155.672116496s] Trained 320.0 records in 0.362858463 seconds. Throughput is 881.88654 records/second. Loss is 0.019484952. \n",
            "2020-12-29 07:32:06 INFO  DistriOptimizer$:427 - [Epoch 3 6400/59840][Iteration 394][Wall Clock 156.049145469s] Trained 320.0 records in 0.377028973 seconds. Throughput is 848.74115 records/second. Loss is 0.04344849. \n",
            "2020-12-29 07:32:06 INFO  DistriOptimizer$:427 - [Epoch 3 6720/59840][Iteration 395][Wall Clock 156.403385337s] Trained 320.0 records in 0.354239868 seconds. Throughput is 903.34265 records/second. Loss is 0.057226766. \n",
            "2020-12-29 07:32:07 INFO  DistriOptimizer$:427 - [Epoch 3 7040/59840][Iteration 396][Wall Clock 156.774458192s] Trained 320.0 records in 0.371072855 seconds. Throughput is 862.3643 records/second. Loss is 0.032490667. \n",
            "2020-12-29 07:32:07 INFO  DistriOptimizer$:427 - [Epoch 3 7360/59840][Iteration 397][Wall Clock 157.13075671s] Trained 320.0 records in 0.356298518 seconds. Throughput is 898.12335 records/second. Loss is 0.034007486. \n",
            "2020-12-29 07:32:07 INFO  DistriOptimizer$:427 - [Epoch 3 7680/59840][Iteration 398][Wall Clock 157.50335174s] Trained 320.0 records in 0.37259503 seconds. Throughput is 858.84125 records/second. Loss is 0.033272296. \n",
            "2020-12-29 07:32:08 INFO  DistriOptimizer$:427 - [Epoch 3 8000/59840][Iteration 399][Wall Clock 157.860773637s] Trained 320.0 records in 0.357421897 seconds. Throughput is 895.3005 records/second. Loss is 0.059756503. \n",
            "2020-12-29 07:32:08 INFO  DistriOptimizer$:427 - [Epoch 3 8320/59840][Iteration 400][Wall Clock 158.211587698s] Trained 320.0 records in 0.350814061 seconds. Throughput is 912.16406 records/second. Loss is 0.023651347. \n",
            "2020-12-29 07:32:08 INFO  DistriOptimizer$:427 - [Epoch 3 8640/59840][Iteration 401][Wall Clock 158.562907252s] Trained 320.0 records in 0.351319554 seconds. Throughput is 910.8517 records/second. Loss is 0.02594856. \n",
            "2020-12-29 07:32:09 INFO  DistriOptimizer$:427 - [Epoch 3 8960/59840][Iteration 402][Wall Clock 158.920213646s] Trained 320.0 records in 0.357306394 seconds. Throughput is 895.5899 records/second. Loss is 0.017265363. \n",
            "2020-12-29 07:32:09 INFO  DistriOptimizer$:427 - [Epoch 3 9280/59840][Iteration 403][Wall Clock 159.266676222s] Trained 320.0 records in 0.346462576 seconds. Throughput is 923.62067 records/second. Loss is 0.026980743. \n",
            "2020-12-29 07:32:10 INFO  DistriOptimizer$:427 - [Epoch 3 9600/59840][Iteration 404][Wall Clock 159.626393873s] Trained 320.0 records in 0.359717651 seconds. Throughput is 889.5866 records/second. Loss is 0.03516344. \n",
            "2020-12-29 07:32:10 INFO  DistriOptimizer$:427 - [Epoch 3 9920/59840][Iteration 405][Wall Clock 160.009315487s] Trained 320.0 records in 0.382921614 seconds. Throughput is 835.6802 records/second. Loss is 0.037571523. \n",
            "2020-12-29 07:32:10 INFO  DistriOptimizer$:427 - [Epoch 3 10240/59840][Iteration 406][Wall Clock 160.365159198s] Trained 320.0 records in 0.355843711 seconds. Throughput is 899.2712 records/second. Loss is 0.023501026. \n",
            "2020-12-29 07:32:11 INFO  DistriOptimizer$:427 - [Epoch 3 10560/59840][Iteration 407][Wall Clock 160.71512789s] Trained 320.0 records in 0.349968692 seconds. Throughput is 914.3675 records/second. Loss is 0.038171913. \n",
            "2020-12-29 07:32:11 INFO  DistriOptimizer$:427 - [Epoch 3 10880/59840][Iteration 408][Wall Clock 161.07451912s] Trained 320.0 records in 0.35939123 seconds. Throughput is 890.39453 records/second. Loss is 0.043826368. \n",
            "2020-12-29 07:32:11 INFO  DistriOptimizer$:427 - [Epoch 3 11200/59840][Iteration 409][Wall Clock 161.428391982s] Trained 320.0 records in 0.353872862 seconds. Throughput is 904.27954 records/second. Loss is 0.035014413. \n",
            "2020-12-29 07:32:12 INFO  DistriOptimizer$:427 - [Epoch 3 11520/59840][Iteration 410][Wall Clock 161.792532921s] Trained 320.0 records in 0.364140939 seconds. Throughput is 878.78064 records/second. Loss is 0.016495088. \n",
            "2020-12-29 07:32:12 INFO  DistriOptimizer$:427 - [Epoch 3 11840/59840][Iteration 411][Wall Clock 162.159233433s] Trained 320.0 records in 0.366700512 seconds. Throughput is 872.6467 records/second. Loss is 0.050220706. \n",
            "2020-12-29 07:32:12 INFO  DistriOptimizer$:427 - [Epoch 3 12160/59840][Iteration 412][Wall Clock 162.517409977s] Trained 320.0 records in 0.358176544 seconds. Throughput is 893.4142 records/second. Loss is 0.07594759. \n",
            "2020-12-29 07:32:13 INFO  DistriOptimizer$:427 - [Epoch 3 12480/59840][Iteration 413][Wall Clock 162.886687051s] Trained 320.0 records in 0.369277074 seconds. Throughput is 866.55804 records/second. Loss is 0.055377685. \n",
            "2020-12-29 07:32:13 INFO  DistriOptimizer$:427 - [Epoch 3 12800/59840][Iteration 414][Wall Clock 163.242144439s] Trained 320.0 records in 0.355457388 seconds. Throughput is 900.24854 records/second. Loss is 0.024869937. \n",
            "2020-12-29 07:32:14 INFO  DistriOptimizer$:427 - [Epoch 3 13120/59840][Iteration 415][Wall Clock 163.664616256s] Trained 320.0 records in 0.422471817 seconds. Throughput is 757.44696 records/second. Loss is 0.033872258. \n",
            "2020-12-29 07:32:14 INFO  DistriOptimizer$:427 - [Epoch 3 13440/59840][Iteration 416][Wall Clock 164.023853966s] Trained 320.0 records in 0.35923771 seconds. Throughput is 890.7751 records/second. Loss is 0.01637741. \n",
            "2020-12-29 07:32:14 INFO  DistriOptimizer$:427 - [Epoch 3 13760/59840][Iteration 417][Wall Clock 164.379951778s] Trained 320.0 records in 0.356097812 seconds. Throughput is 898.6295 records/second. Loss is 0.040120207. \n",
            "2020-12-29 07:32:15 INFO  DistriOptimizer$:427 - [Epoch 3 14080/59840][Iteration 418][Wall Clock 164.743181675s] Trained 320.0 records in 0.363229897 seconds. Throughput is 880.98474 records/second. Loss is 0.048769422. \n",
            "2020-12-29 07:32:15 INFO  DistriOptimizer$:427 - [Epoch 3 14400/59840][Iteration 419][Wall Clock 165.103882228s] Trained 320.0 records in 0.360700553 seconds. Throughput is 887.1625 records/second. Loss is 0.037398137. \n",
            "2020-12-29 07:32:15 INFO  DistriOptimizer$:427 - [Epoch 3 14720/59840][Iteration 420][Wall Clock 165.460831845s] Trained 320.0 records in 0.356949617 seconds. Throughput is 896.48505 records/second. Loss is 0.054504596. \n",
            "2020-12-29 07:32:16 INFO  DistriOptimizer$:427 - [Epoch 3 15040/59840][Iteration 421][Wall Clock 165.818208584s] Trained 320.0 records in 0.357376739 seconds. Throughput is 895.41364 records/second. Loss is 0.017338512. \n",
            "2020-12-29 07:32:16 INFO  DistriOptimizer$:427 - [Epoch 3 15360/59840][Iteration 422][Wall Clock 166.190271257s] Trained 320.0 records in 0.372062673 seconds. Throughput is 860.0701 records/second. Loss is 0.028971143. \n",
            "2020-12-29 07:32:16 INFO  DistriOptimizer$:427 - [Epoch 3 15680/59840][Iteration 423][Wall Clock 166.550495508s] Trained 320.0 records in 0.360224251 seconds. Throughput is 888.3355 records/second. Loss is 0.06284107. \n",
            "2020-12-29 07:32:17 INFO  DistriOptimizer$:427 - [Epoch 3 16000/59840][Iteration 424][Wall Clock 166.909725332s] Trained 320.0 records in 0.359229824 seconds. Throughput is 890.7946 records/second. Loss is 0.03272862. \n",
            "2020-12-29 07:32:17 INFO  DistriOptimizer$:427 - [Epoch 3 16320/59840][Iteration 425][Wall Clock 167.294987507s] Trained 320.0 records in 0.385262175 seconds. Throughput is 830.6033 records/second. Loss is 0.036750607. \n",
            "2020-12-29 07:32:18 INFO  DistriOptimizer$:427 - [Epoch 3 16640/59840][Iteration 426][Wall Clock 167.657566262s] Trained 320.0 records in 0.362578755 seconds. Throughput is 882.5669 records/second. Loss is 0.067963645. \n",
            "2020-12-29 07:32:18 INFO  DistriOptimizer$:427 - [Epoch 3 16960/59840][Iteration 427][Wall Clock 168.024927662s] Trained 320.0 records in 0.3673614 seconds. Throughput is 871.07684 records/second. Loss is 0.033417042. \n",
            "2020-12-29 07:32:18 INFO  DistriOptimizer$:427 - [Epoch 3 17280/59840][Iteration 428][Wall Clock 168.386223076s] Trained 320.0 records in 0.361295414 seconds. Throughput is 885.70184 records/second. Loss is 0.03591392. \n",
            "2020-12-29 07:32:19 INFO  DistriOptimizer$:427 - [Epoch 3 17600/59840][Iteration 429][Wall Clock 168.749232128s] Trained 320.0 records in 0.363009052 seconds. Throughput is 881.5207 records/second. Loss is 0.0446871. \n",
            "2020-12-29 07:32:19 INFO  DistriOptimizer$:427 - [Epoch 3 17920/59840][Iteration 430][Wall Clock 169.161432131s] Trained 320.0 records in 0.412200003 seconds. Throughput is 776.32214 records/second. Loss is 0.034679607. \n",
            "2020-12-29 07:32:20 INFO  DistriOptimizer$:427 - [Epoch 3 18240/59840][Iteration 431][Wall Clock 169.586107168s] Trained 320.0 records in 0.424675037 seconds. Throughput is 753.51733 records/second. Loss is 0.01894191. \n",
            "2020-12-29 07:32:20 INFO  DistriOptimizer$:427 - [Epoch 3 18560/59840][Iteration 432][Wall Clock 170.002995971s] Trained 320.0 records in 0.416888803 seconds. Throughput is 767.59076 records/second. Loss is 0.030529097. \n",
            "2020-12-29 07:32:20 INFO  DistriOptimizer$:427 - [Epoch 3 18880/59840][Iteration 433][Wall Clock 170.431339472s] Trained 320.0 records in 0.428343501 seconds. Throughput is 747.06396 records/second. Loss is 0.023819055. \n",
            "2020-12-29 07:32:21 INFO  DistriOptimizer$:427 - [Epoch 3 19200/59840][Iteration 434][Wall Clock 170.868258125s] Trained 320.0 records in 0.436918653 seconds. Throughput is 732.4018 records/second. Loss is 0.038922444. \n",
            "2020-12-29 07:32:21 INFO  DistriOptimizer$:427 - [Epoch 3 19520/59840][Iteration 435][Wall Clock 171.282970651s] Trained 320.0 records in 0.414712526 seconds. Throughput is 771.61884 records/second. Loss is 0.014173152. \n",
            "2020-12-29 07:32:22 INFO  DistriOptimizer$:427 - [Epoch 3 19840/59840][Iteration 436][Wall Clock 171.698910476s] Trained 320.0 records in 0.415939825 seconds. Throughput is 769.34204 records/second. Loss is 0.015719343. \n",
            "2020-12-29 07:32:22 INFO  DistriOptimizer$:427 - [Epoch 3 20160/59840][Iteration 437][Wall Clock 172.063781545s] Trained 320.0 records in 0.364871069 seconds. Throughput is 877.02216 records/second. Loss is 0.020440679. \n",
            "2020-12-29 07:32:22 INFO  DistriOptimizer$:427 - [Epoch 3 20480/59840][Iteration 438][Wall Clock 172.422629819s] Trained 320.0 records in 0.358848274 seconds. Throughput is 891.74176 records/second. Loss is 0.03617555. \n",
            "2020-12-29 07:32:23 INFO  DistriOptimizer$:427 - [Epoch 3 20800/59840][Iteration 439][Wall Clock 172.78150508s] Trained 320.0 records in 0.358875261 seconds. Throughput is 891.6747 records/second. Loss is 0.032303344. \n",
            "2020-12-29 07:32:23 INFO  DistriOptimizer$:427 - [Epoch 3 21120/59840][Iteration 440][Wall Clock 173.147704035s] Trained 320.0 records in 0.366198955 seconds. Throughput is 873.8419 records/second. Loss is 0.039759953. \n",
            "2020-12-29 07:32:23 INFO  DistriOptimizer$:427 - [Epoch 3 21440/59840][Iteration 441][Wall Clock 173.506150932s] Trained 320.0 records in 0.358446897 seconds. Throughput is 892.74036 records/second. Loss is 0.03637365. \n",
            "2020-12-29 07:32:24 INFO  DistriOptimizer$:427 - [Epoch 3 21760/59840][Iteration 442][Wall Clock 173.867634536s] Trained 320.0 records in 0.361483604 seconds. Throughput is 885.2407 records/second. Loss is 0.028789336. \n",
            "2020-12-29 07:32:24 INFO  DistriOptimizer$:427 - [Epoch 3 22080/59840][Iteration 443][Wall Clock 174.251359358s] Trained 320.0 records in 0.383724822 seconds. Throughput is 833.93097 records/second. Loss is 0.026345829. \n",
            "2020-12-29 07:32:25 INFO  DistriOptimizer$:427 - [Epoch 3 22400/59840][Iteration 444][Wall Clock 174.625615493s] Trained 320.0 records in 0.374256135 seconds. Throughput is 855.0294 records/second. Loss is 0.031780306. \n",
            "2020-12-29 07:32:25 INFO  DistriOptimizer$:427 - [Epoch 3 22720/59840][Iteration 445][Wall Clock 174.987915134s] Trained 320.0 records in 0.362299641 seconds. Throughput is 883.24677 records/second. Loss is 0.046765782. \n",
            "2020-12-29 07:32:25 INFO  DistriOptimizer$:427 - [Epoch 3 23040/59840][Iteration 446][Wall Clock 175.355488686s] Trained 320.0 records in 0.367573552 seconds. Throughput is 870.57404 records/second. Loss is 0.04050475. \n",
            "2020-12-29 07:32:26 INFO  DistriOptimizer$:427 - [Epoch 3 23360/59840][Iteration 447][Wall Clock 175.8075184s] Trained 320.0 records in 0.452029714 seconds. Throughput is 707.9181 records/second. Loss is 0.04278188. \n",
            "2020-12-29 07:32:26 INFO  DistriOptimizer$:427 - [Epoch 3 23680/59840][Iteration 448][Wall Clock 176.170181638s] Trained 320.0 records in 0.362663238 seconds. Throughput is 882.36127 records/second. Loss is 0.009631067. \n",
            "2020-12-29 07:32:26 INFO  DistriOptimizer$:427 - [Epoch 3 24000/59840][Iteration 449][Wall Clock 176.526017849s] Trained 320.0 records in 0.355836211 seconds. Throughput is 899.29016 records/second. Loss is 0.02434593. \n",
            "2020-12-29 07:32:27 INFO  DistriOptimizer$:427 - [Epoch 3 24320/59840][Iteration 450][Wall Clock 176.880718946s] Trained 320.0 records in 0.354701097 seconds. Throughput is 902.168 records/second. Loss is 0.02837043. \n",
            "2020-12-29 07:32:27 INFO  DistriOptimizer$:427 - [Epoch 3 24640/59840][Iteration 451][Wall Clock 177.254187993s] Trained 320.0 records in 0.373469047 seconds. Throughput is 856.83136 records/second. Loss is 0.0674318. \n",
            "2020-12-29 07:32:28 INFO  DistriOptimizer$:427 - [Epoch 3 24960/59840][Iteration 452][Wall Clock 177.621359115s] Trained 320.0 records in 0.367171122 seconds. Throughput is 871.52826 records/second. Loss is 0.038059477. \n",
            "2020-12-29 07:32:28 INFO  DistriOptimizer$:427 - [Epoch 3 25280/59840][Iteration 453][Wall Clock 177.972867075s] Trained 320.0 records in 0.35150796 seconds. Throughput is 910.36346 records/second. Loss is 0.016779045. \n",
            "2020-12-29 07:32:28 INFO  DistriOptimizer$:427 - [Epoch 3 25600/59840][Iteration 454][Wall Clock 178.339497922s] Trained 320.0 records in 0.366630847 seconds. Throughput is 872.8125 records/second. Loss is 0.042053662. \n",
            "2020-12-29 07:32:29 INFO  DistriOptimizer$:427 - [Epoch 3 25920/59840][Iteration 455][Wall Clock 178.701139361s] Trained 320.0 records in 0.361641439 seconds. Throughput is 884.8544 records/second. Loss is 0.0378059. \n",
            "2020-12-29 07:32:29 INFO  DistriOptimizer$:427 - [Epoch 3 26240/59840][Iteration 456][Wall Clock 179.067386185s] Trained 320.0 records in 0.366246824 seconds. Throughput is 873.7277 records/second. Loss is 0.018539943. \n",
            "2020-12-29 07:32:29 INFO  DistriOptimizer$:427 - [Epoch 3 26560/59840][Iteration 457][Wall Clock 179.442884858s] Trained 320.0 records in 0.375498673 seconds. Throughput is 852.2001 records/second. Loss is 0.026679436. \n",
            "2020-12-29 07:32:30 INFO  DistriOptimizer$:427 - [Epoch 3 26880/59840][Iteration 458][Wall Clock 179.849102409s] Trained 320.0 records in 0.406217551 seconds. Throughput is 787.75525 records/second. Loss is 0.03856621. \n",
            "2020-12-29 07:32:30 INFO  DistriOptimizer$:427 - [Epoch 3 27200/59840][Iteration 459][Wall Clock 180.27094362s] Trained 320.0 records in 0.421841211 seconds. Throughput is 758.5793 records/second. Loss is 0.026971688. \n",
            "2020-12-29 07:32:31 INFO  DistriOptimizer$:427 - [Epoch 3 27520/59840][Iteration 460][Wall Clock 180.636552802s] Trained 320.0 records in 0.365609182 seconds. Throughput is 875.2516 records/second. Loss is 0.056091335. \n",
            "2020-12-29 07:32:31 INFO  DistriOptimizer$:427 - [Epoch 3 27840/59840][Iteration 461][Wall Clock 181.00772849s] Trained 320.0 records in 0.371175688 seconds. Throughput is 862.1254 records/second. Loss is 0.021259222. \n",
            "2020-12-29 07:32:31 INFO  DistriOptimizer$:427 - [Epoch 3 28160/59840][Iteration 462][Wall Clock 181.377676208s] Trained 320.0 records in 0.369947718 seconds. Throughput is 864.98706 records/second. Loss is 0.018648673. \n",
            "2020-12-29 07:32:32 INFO  DistriOptimizer$:427 - [Epoch 3 28480/59840][Iteration 463][Wall Clock 181.737158995s] Trained 320.0 records in 0.359482787 seconds. Throughput is 890.1678 records/second. Loss is 0.037450105. \n",
            "2020-12-29 07:32:32 INFO  DistriOptimizer$:427 - [Epoch 3 28800/59840][Iteration 464][Wall Clock 182.119405738s] Trained 320.0 records in 0.382246743 seconds. Throughput is 837.15564 records/second. Loss is 0.025832985. \n",
            "2020-12-29 07:32:32 INFO  DistriOptimizer$:427 - [Epoch 3 29120/59840][Iteration 465][Wall Clock 182.478845089s] Trained 320.0 records in 0.359439351 seconds. Throughput is 890.2754 records/second. Loss is 0.029763097. \n",
            "2020-12-29 07:32:33 INFO  DistriOptimizer$:427 - [Epoch 3 29440/59840][Iteration 466][Wall Clock 182.891235694s] Trained 320.0 records in 0.412390605 seconds. Throughput is 775.9633 records/second. Loss is 0.031145658. \n",
            "2020-12-29 07:32:33 INFO  DistriOptimizer$:427 - [Epoch 3 29760/59840][Iteration 467][Wall Clock 183.248230536s] Trained 320.0 records in 0.356994842 seconds. Throughput is 896.3715 records/second. Loss is 0.0096499715. \n",
            "2020-12-29 07:32:34 INFO  DistriOptimizer$:427 - [Epoch 3 30080/59840][Iteration 468][Wall Clock 183.608877247s] Trained 320.0 records in 0.360646711 seconds. Throughput is 887.2949 records/second. Loss is 0.06854672. \n",
            "2020-12-29 07:32:34 INFO  DistriOptimizer$:427 - [Epoch 3 30400/59840][Iteration 469][Wall Clock 183.960149896s] Trained 320.0 records in 0.351272649 seconds. Throughput is 910.9733 records/second. Loss is 0.040183574. \n",
            "2020-12-29 07:32:34 INFO  DistriOptimizer$:427 - [Epoch 3 30720/59840][Iteration 470][Wall Clock 184.331779719s] Trained 320.0 records in 0.371629823 seconds. Throughput is 861.0719 records/second. Loss is 0.015266968. \n",
            "2020-12-29 07:32:35 INFO  DistriOptimizer$:427 - [Epoch 3 31040/59840][Iteration 471][Wall Clock 184.695376982s] Trained 320.0 records in 0.363597263 seconds. Throughput is 880.0946 records/second. Loss is 0.028800404. \n",
            "2020-12-29 07:32:35 INFO  DistriOptimizer$:427 - [Epoch 3 31360/59840][Iteration 472][Wall Clock 185.049845573s] Trained 320.0 records in 0.354468591 seconds. Throughput is 902.7598 records/second. Loss is 0.05497638. \n",
            "2020-12-29 07:32:35 INFO  DistriOptimizer$:427 - [Epoch 3 31680/59840][Iteration 473][Wall Clock 185.421903817s] Trained 320.0 records in 0.372058244 seconds. Throughput is 860.0804 records/second. Loss is 0.012645036. \n",
            "2020-12-29 07:32:36 INFO  DistriOptimizer$:427 - [Epoch 3 32000/59840][Iteration 474][Wall Clock 185.781568061s] Trained 320.0 records in 0.359664244 seconds. Throughput is 889.71875 records/second. Loss is 0.06042066. \n",
            "2020-12-29 07:32:36 INFO  DistriOptimizer$:427 - [Epoch 3 32320/59840][Iteration 475][Wall Clock 186.139003188s] Trained 320.0 records in 0.357435127 seconds. Throughput is 895.26733 records/second. Loss is 0.025569653. \n",
            "2020-12-29 07:32:36 INFO  DistriOptimizer$:427 - [Epoch 3 32640/59840][Iteration 476][Wall Clock 186.502478156s] Trained 320.0 records in 0.363474968 seconds. Throughput is 880.39075 records/second. Loss is 0.014059373. \n",
            "2020-12-29 07:32:37 INFO  DistriOptimizer$:427 - [Epoch 3 32960/59840][Iteration 477][Wall Clock 186.892904258s] Trained 320.0 records in 0.390426102 seconds. Throughput is 819.6173 records/second. Loss is 0.03363089. \n",
            "2020-12-29 07:32:37 INFO  DistriOptimizer$:427 - [Epoch 3 33280/59840][Iteration 478][Wall Clock 187.252246098s] Trained 320.0 records in 0.35934184 seconds. Throughput is 890.51697 records/second. Loss is 0.016047217. \n",
            "2020-12-29 07:32:38 INFO  DistriOptimizer$:427 - [Epoch 3 33600/59840][Iteration 479][Wall Clock 187.687317465s] Trained 320.0 records in 0.435071367 seconds. Throughput is 735.5115 records/second. Loss is 0.07499675. \n",
            "2020-12-29 07:32:38 INFO  DistriOptimizer$:427 - [Epoch 3 33920/59840][Iteration 480][Wall Clock 188.058034232s] Trained 320.0 records in 0.370716767 seconds. Throughput is 863.1926 records/second. Loss is 0.055274084. \n",
            "2020-12-29 07:32:38 INFO  DistriOptimizer$:427 - [Epoch 3 34240/59840][Iteration 481][Wall Clock 188.444795754s] Trained 320.0 records in 0.386761522 seconds. Throughput is 827.38324 records/second. Loss is 0.01856049. \n",
            "2020-12-29 07:32:39 INFO  DistriOptimizer$:427 - [Epoch 3 34560/59840][Iteration 482][Wall Clock 188.805363293s] Trained 320.0 records in 0.360567539 seconds. Throughput is 887.48975 records/second. Loss is 0.026892982. \n",
            "2020-12-29 07:32:39 INFO  DistriOptimizer$:427 - [Epoch 3 34880/59840][Iteration 483][Wall Clock 189.166536381s] Trained 320.0 records in 0.361173088 seconds. Throughput is 886.0018 records/second. Loss is 0.03164777. \n",
            "2020-12-29 07:32:39 INFO  DistriOptimizer$:427 - [Epoch 3 35200/59840][Iteration 484][Wall Clock 189.529287236s] Trained 320.0 records in 0.362750855 seconds. Throughput is 882.14813 records/second. Loss is 0.02269964. \n",
            "2020-12-29 07:32:40 INFO  DistriOptimizer$:427 - [Epoch 3 35520/59840][Iteration 485][Wall Clock 189.884667556s] Trained 320.0 records in 0.35538032 seconds. Throughput is 900.4438 records/second. Loss is 0.025998287. \n",
            "2020-12-29 07:32:40 INFO  DistriOptimizer$:427 - [Epoch 3 35840/59840][Iteration 486][Wall Clock 190.243266811s] Trained 320.0 records in 0.358599255 seconds. Throughput is 892.361 records/second. Loss is 0.027982615. \n",
            "2020-12-29 07:32:41 INFO  DistriOptimizer$:427 - [Epoch 3 36160/59840][Iteration 487][Wall Clock 190.59542805s] Trained 320.0 records in 0.352161239 seconds. Throughput is 908.6747 records/second. Loss is 0.02610803. \n",
            "2020-12-29 07:32:41 INFO  DistriOptimizer$:427 - [Epoch 3 36480/59840][Iteration 488][Wall Clock 190.968154212s] Trained 320.0 records in 0.372726162 seconds. Throughput is 858.5391 records/second. Loss is 0.04261403. \n",
            "2020-12-29 07:32:41 INFO  DistriOptimizer$:427 - [Epoch 3 36800/59840][Iteration 489][Wall Clock 191.31833772s] Trained 320.0 records in 0.350183508 seconds. Throughput is 913.8066 records/second. Loss is 0.028868178. \n",
            "2020-12-29 07:32:42 INFO  DistriOptimizer$:427 - [Epoch 3 37120/59840][Iteration 490][Wall Clock 191.705846345s] Trained 320.0 records in 0.387508625 seconds. Throughput is 825.7881 records/second. Loss is 0.030242635. \n",
            "2020-12-29 07:32:42 INFO  DistriOptimizer$:427 - [Epoch 3 37440/59840][Iteration 491][Wall Clock 192.071739897s] Trained 320.0 records in 0.365893552 seconds. Throughput is 874.57135 records/second. Loss is 0.0287905. \n",
            "2020-12-29 07:32:42 INFO  DistriOptimizer$:427 - [Epoch 3 37760/59840][Iteration 492][Wall Clock 192.435082s] Trained 320.0 records in 0.363342103 seconds. Throughput is 880.7127 records/second. Loss is 0.032062754. \n",
            "2020-12-29 07:32:43 INFO  DistriOptimizer$:427 - [Epoch 3 38080/59840][Iteration 493][Wall Clock 192.793794785s] Trained 320.0 records in 0.358712785 seconds. Throughput is 892.0786 records/second. Loss is 0.050563548. \n",
            "2020-12-29 07:32:43 INFO  DistriOptimizer$:427 - [Epoch 3 38400/59840][Iteration 494][Wall Clock 193.153611428s] Trained 320.0 records in 0.359816643 seconds. Throughput is 889.34186 records/second. Loss is 0.031988174. \n",
            "2020-12-29 07:32:43 INFO  DistriOptimizer$:427 - [Epoch 3 38720/59840][Iteration 495][Wall Clock 193.520731754s] Trained 320.0 records in 0.367120326 seconds. Throughput is 871.6488 records/second. Loss is 0.026515683. \n",
            "2020-12-29 07:32:44 INFO  DistriOptimizer$:427 - [Epoch 3 39040/59840][Iteration 496][Wall Clock 194.021465162s] Trained 320.0 records in 0.500733408 seconds. Throughput is 639.06256 records/second. Loss is 0.029854998. \n",
            "2020-12-29 07:32:45 INFO  DistriOptimizer$:427 - [Epoch 3 39360/59840][Iteration 497][Wall Clock 194.538192418s] Trained 320.0 records in 0.516727256 seconds. Throughput is 619.2822 records/second. Loss is 0.04970687. \n",
            "2020-12-29 07:32:45 INFO  DistriOptimizer$:427 - [Epoch 3 39680/59840][Iteration 498][Wall Clock 195.042922893s] Trained 320.0 records in 0.504730475 seconds. Throughput is 634.0018 records/second. Loss is 0.049464807. \n",
            "2020-12-29 07:32:45 INFO  DistriOptimizer$:427 - [Epoch 3 40000/59840][Iteration 499][Wall Clock 195.406520285s] Trained 320.0 records in 0.363597392 seconds. Throughput is 880.0943 records/second. Loss is 0.026043005. \n",
            "2020-12-29 07:32:46 INFO  DistriOptimizer$:427 - [Epoch 3 40320/59840][Iteration 500][Wall Clock 195.780804388s] Trained 320.0 records in 0.374284103 seconds. Throughput is 854.9655 records/second. Loss is 0.039450902. \n",
            "2020-12-29 07:32:46 INFO  DistriOptimizer$:427 - [Epoch 3 40640/59840][Iteration 501][Wall Clock 196.140723902s] Trained 320.0 records in 0.359919514 seconds. Throughput is 889.08765 records/second. Loss is 0.021705365. \n",
            "2020-12-29 07:32:47 INFO  DistriOptimizer$:427 - [Epoch 3 40960/59840][Iteration 502][Wall Clock 196.56602253s] Trained 320.0 records in 0.425298628 seconds. Throughput is 752.4125 records/second. Loss is 0.023077931. \n",
            "2020-12-29 07:32:47 INFO  DistriOptimizer$:427 - [Epoch 3 41280/59840][Iteration 503][Wall Clock 197.013066686s] Trained 320.0 records in 0.447044156 seconds. Throughput is 715.8129 records/second. Loss is 0.038853724. \n",
            "2020-12-29 07:32:47 INFO  DistriOptimizer$:427 - [Epoch 3 41600/59840][Iteration 504][Wall Clock 197.385627359s] Trained 320.0 records in 0.372560673 seconds. Throughput is 858.9205 records/second. Loss is 0.016946772. \n",
            "2020-12-29 07:32:48 INFO  DistriOptimizer$:427 - [Epoch 3 41920/59840][Iteration 505][Wall Clock 197.760761135s] Trained 320.0 records in 0.375133776 seconds. Throughput is 853.029 records/second. Loss is 0.021428466. \n",
            "2020-12-29 07:32:48 INFO  DistriOptimizer$:427 - [Epoch 3 42240/59840][Iteration 506][Wall Clock 198.107903743s] Trained 320.0 records in 0.347142608 seconds. Throughput is 921.81134 records/second. Loss is 0.031379748. \n",
            "2020-12-29 07:32:48 INFO  DistriOptimizer$:427 - [Epoch 3 42560/59840][Iteration 507][Wall Clock 198.482653844s] Trained 320.0 records in 0.374750101 seconds. Throughput is 853.90234 records/second. Loss is 0.037068274. \n",
            "2020-12-29 07:32:49 INFO  DistriOptimizer$:427 - [Epoch 3 42880/59840][Iteration 508][Wall Clock 198.866661844s] Trained 320.0 records in 0.384008 seconds. Throughput is 833.316 records/second. Loss is 0.038682528. \n",
            "2020-12-29 07:32:49 INFO  DistriOptimizer$:427 - [Epoch 3 43200/59840][Iteration 509][Wall Clock 199.22071764s] Trained 320.0 records in 0.354055796 seconds. Throughput is 903.8124 records/second. Loss is 0.030193683. \n",
            "2020-12-29 07:32:50 INFO  DistriOptimizer$:427 - [Epoch 3 43520/59840][Iteration 510][Wall Clock 199.605898958s] Trained 320.0 records in 0.385181318 seconds. Throughput is 830.7776 records/second. Loss is 0.028122133. \n",
            "2020-12-29 07:32:50 INFO  DistriOptimizer$:427 - [Epoch 3 43840/59840][Iteration 511][Wall Clock 199.962780011s] Trained 320.0 records in 0.356881053 seconds. Throughput is 896.6573 records/second. Loss is 0.0157262. \n",
            "2020-12-29 07:32:50 INFO  DistriOptimizer$:427 - [Epoch 3 44160/59840][Iteration 512][Wall Clock 200.333601077s] Trained 320.0 records in 0.370821066 seconds. Throughput is 862.9499 records/second. Loss is 0.020781908. \n",
            "2020-12-29 07:32:51 INFO  DistriOptimizer$:427 - [Epoch 3 44480/59840][Iteration 513][Wall Clock 200.702284521s] Trained 320.0 records in 0.368683444 seconds. Throughput is 867.95325 records/second. Loss is 0.029979263. \n",
            "2020-12-29 07:32:51 INFO  DistriOptimizer$:427 - [Epoch 3 44800/59840][Iteration 514][Wall Clock 201.053590276s] Trained 320.0 records in 0.351305755 seconds. Throughput is 910.88745 records/second. Loss is 0.019050678. \n",
            "2020-12-29 07:32:51 INFO  DistriOptimizer$:427 - [Epoch 3 45120/59840][Iteration 515][Wall Clock 201.430561296s] Trained 320.0 records in 0.37697102 seconds. Throughput is 848.87164 records/second. Loss is 0.046709564. \n",
            "2020-12-29 07:32:52 INFO  DistriOptimizer$:427 - [Epoch 3 45440/59840][Iteration 516][Wall Clock 201.791371131s] Trained 320.0 records in 0.360809835 seconds. Throughput is 886.8938 records/second. Loss is 0.027656632. \n",
            "2020-12-29 07:32:52 INFO  DistriOptimizer$:427 - [Epoch 3 45760/59840][Iteration 517][Wall Clock 202.151873016s] Trained 320.0 records in 0.360501885 seconds. Throughput is 887.65137 records/second. Loss is 0.030934967. \n",
            "2020-12-29 07:32:53 INFO  DistriOptimizer$:427 - [Epoch 3 46080/59840][Iteration 518][Wall Clock 202.517331926s] Trained 320.0 records in 0.36545891 seconds. Throughput is 875.61145 records/second. Loss is 0.017320713. \n",
            "2020-12-29 07:32:53 INFO  DistriOptimizer$:427 - [Epoch 3 46400/59840][Iteration 519][Wall Clock 202.908857021s] Trained 320.0 records in 0.391525095 seconds. Throughput is 817.3167 records/second. Loss is 0.035702243. \n",
            "2020-12-29 07:32:53 INFO  DistriOptimizer$:427 - [Epoch 3 46720/59840][Iteration 520][Wall Clock 203.262614135s] Trained 320.0 records in 0.353757114 seconds. Throughput is 904.57544 records/second. Loss is 0.030642241. \n",
            "2020-12-29 07:32:54 INFO  DistriOptimizer$:427 - [Epoch 3 47040/59840][Iteration 521][Wall Clock 203.632168467s] Trained 320.0 records in 0.369554332 seconds. Throughput is 865.90784 records/second. Loss is 0.020663328. \n",
            "2020-12-29 07:32:54 INFO  DistriOptimizer$:427 - [Epoch 3 47360/59840][Iteration 522][Wall Clock 203.993890555s] Trained 320.0 records in 0.361722088 seconds. Throughput is 884.6571 records/second. Loss is 0.05253955. \n",
            "2020-12-29 07:32:54 INFO  DistriOptimizer$:427 - [Epoch 3 47680/59840][Iteration 523][Wall Clock 204.347685353s] Trained 320.0 records in 0.353794798 seconds. Throughput is 904.4791 records/second. Loss is 0.030694963. \n",
            "2020-12-29 07:32:55 INFO  DistriOptimizer$:427 - [Epoch 3 48000/59840][Iteration 524][Wall Clock 204.710160907s] Trained 320.0 records in 0.362475554 seconds. Throughput is 882.8182 records/second. Loss is 0.028872386. \n",
            "2020-12-29 07:32:55 INFO  DistriOptimizer$:427 - [Epoch 3 48320/59840][Iteration 525][Wall Clock 205.064788321s] Trained 320.0 records in 0.354627414 seconds. Throughput is 902.3555 records/second. Loss is 0.023396125. \n",
            "2020-12-29 07:32:55 INFO  DistriOptimizer$:427 - [Epoch 3 48640/59840][Iteration 526][Wall Clock 205.422381141s] Trained 320.0 records in 0.35759282 seconds. Throughput is 894.87256 records/second. Loss is 0.035108816. \n",
            "2020-12-29 07:32:56 INFO  DistriOptimizer$:427 - [Epoch 3 48960/59840][Iteration 527][Wall Clock 205.783430835s] Trained 320.0 records in 0.361049694 seconds. Throughput is 886.3046 records/second. Loss is 0.0195616. \n",
            "2020-12-29 07:32:56 INFO  DistriOptimizer$:427 - [Epoch 3 49280/59840][Iteration 528][Wall Clock 206.137444224s] Trained 320.0 records in 0.354013389 seconds. Throughput is 903.92065 records/second. Loss is 0.01645797. \n",
            "2020-12-29 07:32:56 INFO  DistriOptimizer$:427 - [Epoch 3 49600/59840][Iteration 529][Wall Clock 206.487896264s] Trained 320.0 records in 0.35045204 seconds. Throughput is 913.1064 records/second. Loss is 0.026877528. \n",
            "2020-12-29 07:32:57 INFO  DistriOptimizer$:427 - [Epoch 3 49920/59840][Iteration 530][Wall Clock 206.859832532s] Trained 320.0 records in 0.371936268 seconds. Throughput is 860.3625 records/second. Loss is 0.013160503. \n",
            "2020-12-29 07:32:57 INFO  DistriOptimizer$:427 - [Epoch 3 50240/59840][Iteration 531][Wall Clock 207.275310671s] Trained 320.0 records in 0.415478139 seconds. Throughput is 770.19696 records/second. Loss is 0.01989612. \n",
            "2020-12-29 07:32:58 INFO  DistriOptimizer$:427 - [Epoch 3 50560/59840][Iteration 532][Wall Clock 207.678815105s] Trained 320.0 records in 0.403504434 seconds. Throughput is 793.052 records/second. Loss is 0.008912158. \n",
            "2020-12-29 07:32:58 INFO  DistriOptimizer$:427 - [Epoch 3 50880/59840][Iteration 533][Wall Clock 208.036042923s] Trained 320.0 records in 0.357227818 seconds. Throughput is 895.78687 records/second. Loss is 0.038456295. \n",
            "2020-12-29 07:32:58 INFO  DistriOptimizer$:427 - [Epoch 3 51200/59840][Iteration 534][Wall Clock 208.462314808s] Trained 320.0 records in 0.426271885 seconds. Throughput is 750.6946 records/second. Loss is 0.026812982. \n",
            "2020-12-29 07:32:59 INFO  DistriOptimizer$:427 - [Epoch 3 51520/59840][Iteration 535][Wall Clock 208.925946575s] Trained 320.0 records in 0.463631767 seconds. Throughput is 690.2029 records/second. Loss is 0.061158795. \n",
            "2020-12-29 07:32:59 INFO  DistriOptimizer$:427 - [Epoch 3 51840/59840][Iteration 536][Wall Clock 209.348672223s] Trained 320.0 records in 0.422725648 seconds. Throughput is 756.9922 records/second. Loss is 0.0558924. \n",
            "2020-12-29 07:33:00 INFO  DistriOptimizer$:427 - [Epoch 3 52160/59840][Iteration 537][Wall Clock 209.714439721s] Trained 320.0 records in 0.365767498 seconds. Throughput is 874.8727 records/second. Loss is 0.016119406. \n",
            "2020-12-29 07:33:00 INFO  DistriOptimizer$:427 - [Epoch 3 52480/59840][Iteration 538][Wall Clock 210.071023014s] Trained 320.0 records in 0.356583293 seconds. Throughput is 897.406 records/second. Loss is 0.025695119. \n",
            "2020-12-29 07:33:00 INFO  DistriOptimizer$:427 - [Epoch 3 52800/59840][Iteration 539][Wall Clock 210.423840807s] Trained 320.0 records in 0.352817793 seconds. Throughput is 906.9837 records/second. Loss is 0.046465658. \n",
            "2020-12-29 07:33:01 INFO  DistriOptimizer$:427 - [Epoch 3 53120/59840][Iteration 540][Wall Clock 210.786861605s] Trained 320.0 records in 0.363020798 seconds. Throughput is 881.4922 records/second. Loss is 0.04571683. \n",
            "2020-12-29 07:33:01 INFO  DistriOptimizer$:427 - [Epoch 3 53440/59840][Iteration 541][Wall Clock 211.144097965s] Trained 320.0 records in 0.35723636 seconds. Throughput is 895.7655 records/second. Loss is 0.018556152. \n",
            "2020-12-29 07:33:02 INFO  DistriOptimizer$:427 - [Epoch 3 53760/59840][Iteration 542][Wall Clock 211.512861743s] Trained 320.0 records in 0.368763778 seconds. Throughput is 867.7642 records/second. Loss is 0.030315967. \n",
            "2020-12-29 07:33:02 INFO  DistriOptimizer$:427 - [Epoch 3 54080/59840][Iteration 543][Wall Clock 211.90744132s] Trained 320.0 records in 0.394579577 seconds. Throughput is 810.98975 records/second. Loss is 0.022516795. \n",
            "2020-12-29 07:33:02 INFO  DistriOptimizer$:427 - [Epoch 3 54400/59840][Iteration 544][Wall Clock 212.280311487s] Trained 320.0 records in 0.372870167 seconds. Throughput is 858.2075 records/second. Loss is 0.009748009. \n",
            "2020-12-29 07:33:03 INFO  DistriOptimizer$:427 - [Epoch 3 54720/59840][Iteration 545][Wall Clock 212.642990062s] Trained 320.0 records in 0.362678575 seconds. Throughput is 882.3239 records/second. Loss is 0.05171133. \n",
            "2020-12-29 07:33:03 INFO  DistriOptimizer$:427 - [Epoch 3 55040/59840][Iteration 546][Wall Clock 213.143395598s] Trained 320.0 records in 0.500405536 seconds. Throughput is 639.4813 records/second. Loss is 0.038646493. \n",
            "2020-12-29 07:33:04 INFO  DistriOptimizer$:427 - [Epoch 3 55360/59840][Iteration 547][Wall Clock 213.528597327s] Trained 320.0 records in 0.385201729 seconds. Throughput is 830.7336 records/second. Loss is 0.037580863. \n",
            "2020-12-29 07:33:04 INFO  DistriOptimizer$:427 - [Epoch 3 55680/59840][Iteration 548][Wall Clock 213.888726609s] Trained 320.0 records in 0.360129282 seconds. Throughput is 888.56976 records/second. Loss is 0.021224901. \n",
            "2020-12-29 07:33:04 INFO  DistriOptimizer$:427 - [Epoch 3 56000/59840][Iteration 549][Wall Clock 214.246062917s] Trained 320.0 records in 0.357336308 seconds. Throughput is 895.5149 records/second. Loss is 0.03093696. \n",
            "2020-12-29 07:33:05 INFO  DistriOptimizer$:427 - [Epoch 3 56320/59840][Iteration 550][Wall Clock 214.603274687s] Trained 320.0 records in 0.35721177 seconds. Throughput is 895.82715 records/second. Loss is 0.027083416. \n",
            "2020-12-29 07:33:05 INFO  DistriOptimizer$:427 - [Epoch 3 56640/59840][Iteration 551][Wall Clock 214.970489355s] Trained 320.0 records in 0.367214668 seconds. Throughput is 871.42487 records/second. Loss is 0.027492892. \n",
            "2020-12-29 07:33:05 INFO  DistriOptimizer$:427 - [Epoch 3 56960/59840][Iteration 552][Wall Clock 215.324272705s] Trained 320.0 records in 0.35378335 seconds. Throughput is 904.5084 records/second. Loss is 0.032820158. \n",
            "2020-12-29 07:33:06 INFO  DistriOptimizer$:427 - [Epoch 3 57280/59840][Iteration 553][Wall Clock 215.681385509s] Trained 320.0 records in 0.357112804 seconds. Throughput is 896.07544 records/second. Loss is 0.016421342. \n",
            "2020-12-29 07:33:06 INFO  DistriOptimizer$:427 - [Epoch 3 57600/59840][Iteration 554][Wall Clock 216.037454426s] Trained 320.0 records in 0.356068917 seconds. Throughput is 898.70245 records/second. Loss is 0.026256194. \n",
            "2020-12-29 07:33:06 INFO  DistriOptimizer$:427 - [Epoch 3 57920/59840][Iteration 555][Wall Clock 216.397144243s] Trained 320.0 records in 0.359689817 seconds. Throughput is 889.6554 records/second. Loss is 0.05219153. \n",
            "2020-12-29 07:33:07 INFO  DistriOptimizer$:427 - [Epoch 3 58240/59840][Iteration 556][Wall Clock 216.750933573s] Trained 320.0 records in 0.35378933 seconds. Throughput is 904.4931 records/second. Loss is 0.033377714. \n",
            "2020-12-29 07:33:07 INFO  DistriOptimizer$:427 - [Epoch 3 58560/59840][Iteration 557][Wall Clock 217.09928522s] Trained 320.0 records in 0.348351647 seconds. Throughput is 918.61194 records/second. Loss is 0.04968718. \n",
            "2020-12-29 07:33:07 INFO  DistriOptimizer$:427 - [Epoch 3 58880/59840][Iteration 558][Wall Clock 217.45740906s] Trained 320.0 records in 0.35812384 seconds. Throughput is 893.54565 records/second. Loss is 0.034538534. \n",
            "2020-12-29 07:33:08 INFO  DistriOptimizer$:427 - [Epoch 3 59200/59840][Iteration 559][Wall Clock 217.83290481s] Trained 320.0 records in 0.37549575 seconds. Throughput is 852.20667 records/second. Loss is 0.0144708045. \n",
            "2020-12-29 07:33:08 INFO  DistriOptimizer$:427 - [Epoch 3 59520/59840][Iteration 560][Wall Clock 218.201740891s] Trained 320.0 records in 0.368836081 seconds. Throughput is 867.5941 records/second. Loss is 0.03486138. \n",
            "2020-12-29 07:33:09 INFO  DistriOptimizer$:427 - [Epoch 3 59840/59840][Iteration 561][Wall Clock 218.499994152s] Trained 320.0 records in 0.298253261 seconds. Throughput is 1072.9137 records/second. Loss is 0.040367972. \n",
            "2020-12-29 07:33:09 INFO  DistriOptimizer$:472 - [Epoch 3 59840/59840][Iteration 561][Wall Clock 218.499994152s] Epoch finished. Wall clock time is 223467.424117 ms\n",
            "2020-12-29 07:33:09 INFO  DistriOptimizer$:111 - [Epoch 3 59840/59840][Iteration 561][Wall Clock 218.499994152s] Validate model...\n"
          ],
          "name": "stdout"
        },
        {
          "output_type": "stream",
          "text": [
            "\r[Stage 1132:>                                                       (0 + 1) / 1]"
          ],
          "name": "stderr"
        },
        {
          "output_type": "stream",
          "text": [
            "2020-12-29 07:33:13 INFO  DistriOptimizer$:177 - [Epoch 3 59840/59840][Iteration 561][Wall Clock 218.499994152s] validate model throughput is 2309.1934 records/second\n",
            "2020-12-29 07:33:13 INFO  DistriOptimizer$:180 - [Epoch 3 59840/59840][Iteration 561][Wall Clock 218.499994152s] acc is (acc: 9889.0, count: 10000, Average acc: 0.9889)\n"
          ],
          "name": "stdout"
        },
        {
          "output_type": "stream",
          "text": [
            "\r                                                                                \r"
          ],
          "name": "stderr"
        },
        {
          "output_type": "stream",
          "text": [
            "2020-12-29 07:33:13 INFO  DistriOptimizer$:427 - [Epoch 4 320/59840][Iteration 562][Wall Clock 224.058424389s] Trained 320.0 records in 0.591000272 seconds. Throughput is 541.4549 records/second. Loss is 0.04419345. \n",
            "2020-12-29 07:33:14 INFO  DistriOptimizer$:427 - [Epoch 4 640/59840][Iteration 563][Wall Clock 224.440842197s] Trained 320.0 records in 0.382417808 seconds. Throughput is 836.7811 records/second. Loss is 0.030642722. \n",
            "2020-12-29 07:33:14 INFO  DistriOptimizer$:427 - [Epoch 4 960/59840][Iteration 564][Wall Clock 224.805199087s] Trained 320.0 records in 0.36435689 seconds. Throughput is 878.2598 records/second. Loss is 0.037778005. \n",
            "2020-12-29 07:33:15 INFO  DistriOptimizer$:427 - [Epoch 4 1280/59840][Iteration 565][Wall Clock 225.175225197s] Trained 320.0 records in 0.37002611 seconds. Throughput is 864.80383 records/second. Loss is 0.0066617103. \n",
            "2020-12-29 07:33:15 INFO  DistriOptimizer$:427 - [Epoch 4 1600/59840][Iteration 566][Wall Clock 225.545276103s] Trained 320.0 records in 0.370050906 seconds. Throughput is 864.7459 records/second. Loss is 0.026747702. \n",
            "2020-12-29 07:33:15 INFO  DistriOptimizer$:427 - [Epoch 4 1920/59840][Iteration 567][Wall Clock 225.942080789s] Trained 320.0 records in 0.396804686 seconds. Throughput is 806.4421 records/second. Loss is 0.017769188. \n",
            "2020-12-29 07:33:16 INFO  DistriOptimizer$:427 - [Epoch 4 2240/59840][Iteration 568][Wall Clock 226.294500627s] Trained 320.0 records in 0.352419838 seconds. Throughput is 908.00793 records/second. Loss is 0.025138281. \n",
            "2020-12-29 07:33:16 INFO  DistriOptimizer$:427 - [Epoch 4 2560/59840][Iteration 569][Wall Clock 226.653944287s] Trained 320.0 records in 0.35944366 seconds. Throughput is 890.2647 records/second. Loss is 0.03402803. \n",
            "2020-12-29 07:33:16 INFO  DistriOptimizer$:427 - [Epoch 4 2880/59840][Iteration 570][Wall Clock 227.013342768s] Trained 320.0 records in 0.359398481 seconds. Throughput is 890.3766 records/second. Loss is 0.06804991. \n",
            "2020-12-29 07:33:17 INFO  DistriOptimizer$:427 - [Epoch 4 3200/59840][Iteration 571][Wall Clock 227.379687215s] Trained 320.0 records in 0.366344447 seconds. Throughput is 873.4949 records/second. Loss is 0.032033995. \n",
            "2020-12-29 07:33:17 INFO  DistriOptimizer$:427 - [Epoch 4 3520/59840][Iteration 572][Wall Clock 227.735060578s] Trained 320.0 records in 0.355373363 seconds. Throughput is 900.4614 records/second. Loss is 0.027026767. \n",
            "2020-12-29 07:33:17 INFO  DistriOptimizer$:427 - [Epoch 4 3840/59840][Iteration 573][Wall Clock 228.09794053s] Trained 320.0 records in 0.362879952 seconds. Throughput is 881.8343 records/second. Loss is 0.012451095. \n",
            "2020-12-29 07:33:18 INFO  DistriOptimizer$:427 - [Epoch 4 4160/59840][Iteration 574][Wall Clock 228.519053924s] Trained 320.0 records in 0.421113394 seconds. Throughput is 759.8903 records/second. Loss is 0.046619114. \n",
            "2020-12-29 07:33:18 INFO  DistriOptimizer$:427 - [Epoch 4 4480/59840][Iteration 575][Wall Clock 228.950201469s] Trained 320.0 records in 0.431147545 seconds. Throughput is 742.2053 records/second. Loss is 0.024239477. \n",
            "2020-12-29 07:33:19 INFO  DistriOptimizer$:427 - [Epoch 4 4800/59840][Iteration 576][Wall Clock 229.359701146s] Trained 320.0 records in 0.409499677 seconds. Throughput is 781.4414 records/second. Loss is 0.012553639. \n",
            "2020-12-29 07:33:19 INFO  DistriOptimizer$:427 - [Epoch 4 5120/59840][Iteration 577][Wall Clock 229.765338254s] Trained 320.0 records in 0.405637108 seconds. Throughput is 788.88245 records/second. Loss is 0.022014644. \n",
            "2020-12-29 07:33:20 INFO  DistriOptimizer$:427 - [Epoch 4 5440/59840][Iteration 578][Wall Clock 230.191932743s] Trained 320.0 records in 0.426594489 seconds. Throughput is 750.1269 records/second. Loss is 0.019386195. \n",
            "2020-12-29 07:33:20 INFO  DistriOptimizer$:427 - [Epoch 4 5760/59840][Iteration 579][Wall Clock 230.537020143s] Trained 320.0 records in 0.3450874 seconds. Throughput is 927.3013 records/second. Loss is 0.075202264. \n",
            "2020-12-29 07:33:20 INFO  DistriOptimizer$:427 - [Epoch 4 6080/59840][Iteration 580][Wall Clock 230.892870514s] Trained 320.0 records in 0.355850371 seconds. Throughput is 899.2544 records/second. Loss is 0.010735687. \n",
            "2020-12-29 07:33:21 INFO  DistriOptimizer$:427 - [Epoch 4 6400/59840][Iteration 581][Wall Clock 231.231148578s] Trained 320.0 records in 0.338278064 seconds. Throughput is 945.96735 records/second. Loss is 0.037592188. \n",
            "2020-12-29 07:33:21 INFO  DistriOptimizer$:427 - [Epoch 4 6720/59840][Iteration 582][Wall Clock 231.569224662s] Trained 320.0 records in 0.338076084 seconds. Throughput is 946.5325 records/second. Loss is 0.059647053. \n",
            "2020-12-29 07:33:21 INFO  DistriOptimizer$:427 - [Epoch 4 7040/59840][Iteration 583][Wall Clock 231.925164283s] Trained 320.0 records in 0.355939621 seconds. Throughput is 899.0289 records/second. Loss is 0.019709993. \n",
            "2020-12-29 07:33:22 INFO  DistriOptimizer$:427 - [Epoch 4 7360/59840][Iteration 584][Wall Clock 232.280254837s] Trained 320.0 records in 0.355090554 seconds. Throughput is 901.1786 records/second. Loss is 0.019634925. \n",
            "2020-12-29 07:33:22 INFO  DistriOptimizer$:427 - [Epoch 4 7680/59840][Iteration 585][Wall Clock 232.638090494s] Trained 320.0 records in 0.357835657 seconds. Throughput is 894.26526 records/second. Loss is 0.019161802. \n",
            "2020-12-29 07:33:22 INFO  DistriOptimizer$:427 - [Epoch 4 8000/59840][Iteration 586][Wall Clock 232.990901666s] Trained 320.0 records in 0.352811172 seconds. Throughput is 907.0008 records/second. Loss is 0.0493329. \n",
            "2020-12-29 07:33:23 INFO  DistriOptimizer$:427 - [Epoch 4 8320/59840][Iteration 587][Wall Clock 233.34204488s] Trained 320.0 records in 0.351143214 seconds. Throughput is 911.3091 records/second. Loss is 0.012531478. \n",
            "2020-12-29 07:33:23 INFO  DistriOptimizer$:427 - [Epoch 4 8640/59840][Iteration 588][Wall Clock 233.690815065s] Trained 320.0 records in 0.348770185 seconds. Throughput is 917.50964 records/second. Loss is 0.016498659. \n",
            "2020-12-29 07:33:23 INFO  DistriOptimizer$:427 - [Epoch 4 8960/59840][Iteration 589][Wall Clock 234.04432171s] Trained 320.0 records in 0.353506645 seconds. Throughput is 905.2164 records/second. Loss is 0.009555008. \n",
            "2020-12-29 07:33:24 INFO  DistriOptimizer$:427 - [Epoch 4 9280/59840][Iteration 590][Wall Clock 234.399072509s] Trained 320.0 records in 0.354750799 seconds. Throughput is 902.0416 records/second. Loss is 0.021840611. \n",
            "2020-12-29 07:33:24 INFO  DistriOptimizer$:427 - [Epoch 4 9600/59840][Iteration 591][Wall Clock 234.835400801s] Trained 320.0 records in 0.436328292 seconds. Throughput is 733.39276 records/second. Loss is 0.026895603. \n",
            "2020-12-29 07:33:25 INFO  DistriOptimizer$:427 - [Epoch 4 9920/59840][Iteration 592][Wall Clock 235.196874112s] Trained 320.0 records in 0.361473311 seconds. Throughput is 885.26587 records/second. Loss is 0.029000985. \n",
            "2020-12-29 07:33:25 INFO  DistriOptimizer$:427 - [Epoch 4 10240/59840][Iteration 593][Wall Clock 235.540144172s] Trained 320.0 records in 0.34327006 seconds. Throughput is 932.21063 records/second. Loss is 0.020001505. \n",
            "2020-12-29 07:33:25 INFO  DistriOptimizer$:427 - [Epoch 4 10560/59840][Iteration 594][Wall Clock 235.888454303s] Trained 320.0 records in 0.348310131 seconds. Throughput is 918.72144 records/second. Loss is 0.021126982. \n",
            "2020-12-29 07:33:26 INFO  DistriOptimizer$:427 - [Epoch 4 10880/59840][Iteration 595][Wall Clock 236.248823918s] Trained 320.0 records in 0.360369615 seconds. Throughput is 887.9772 records/second. Loss is 0.03317622. \n",
            "2020-12-29 07:33:26 INFO  DistriOptimizer$:427 - [Epoch 4 11200/59840][Iteration 596][Wall Clock 236.686781666s] Trained 320.0 records in 0.437957748 seconds. Throughput is 730.6641 records/second. Loss is 0.015705608. \n",
            "2020-12-29 07:33:27 INFO  DistriOptimizer$:427 - [Epoch 4 11520/59840][Iteration 597][Wall Clock 237.105282014s] Trained 320.0 records in 0.418500348 seconds. Throughput is 764.635 records/second. Loss is 0.013631514. \n",
            "2020-12-29 07:33:27 INFO  DistriOptimizer$:427 - [Epoch 4 11840/59840][Iteration 598][Wall Clock 237.459037291s] Trained 320.0 records in 0.353755277 seconds. Throughput is 904.5802 records/second. Loss is 0.04580242. \n",
            "2020-12-29 07:33:27 INFO  DistriOptimizer$:427 - [Epoch 4 12160/59840][Iteration 599][Wall Clock 237.841705831s] Trained 320.0 records in 0.38266854 seconds. Throughput is 836.2328 records/second. Loss is 0.05298468. \n",
            "2020-12-29 07:33:28 INFO  DistriOptimizer$:427 - [Epoch 4 12480/59840][Iteration 600][Wall Clock 238.191809707s] Trained 320.0 records in 0.350103876 seconds. Throughput is 914.0144 records/second. Loss is 0.039940108. \n",
            "2020-12-29 07:33:28 INFO  DistriOptimizer$:427 - [Epoch 4 12800/59840][Iteration 601][Wall Clock 238.542342068s] Trained 320.0 records in 0.350532361 seconds. Throughput is 912.8972 records/second. Loss is 0.013437177. \n",
            "2020-12-29 07:33:28 INFO  DistriOptimizer$:427 - [Epoch 4 13120/59840][Iteration 602][Wall Clock 238.887728825s] Trained 320.0 records in 0.345386757 seconds. Throughput is 926.4976 records/second. Loss is 0.022422418. \n",
            "2020-12-29 07:33:29 INFO  DistriOptimizer$:427 - [Epoch 4 13440/59840][Iteration 603][Wall Clock 239.240392842s] Trained 320.0 records in 0.352664017 seconds. Throughput is 907.3792 records/second. Loss is 0.011779135. \n",
            "2020-12-29 07:33:29 INFO  DistriOptimizer$:427 - [Epoch 4 13760/59840][Iteration 604][Wall Clock 239.59062075s] Trained 320.0 records in 0.350227908 seconds. Throughput is 913.69073 records/second. Loss is 0.024381656. \n",
            "2020-12-29 07:33:29 INFO  DistriOptimizer$:427 - [Epoch 4 14080/59840][Iteration 605][Wall Clock 239.967169656s] Trained 320.0 records in 0.376548906 seconds. Throughput is 849.8232 records/second. Loss is 0.040152308. \n",
            "2020-12-29 07:33:30 INFO  DistriOptimizer$:427 - [Epoch 4 14400/59840][Iteration 606][Wall Clock 240.313974715s] Trained 320.0 records in 0.346805059 seconds. Throughput is 922.70856 records/second. Loss is 0.029260695. \n",
            "2020-12-29 07:33:30 INFO  DistriOptimizer$:427 - [Epoch 4 14720/59840][Iteration 607][Wall Clock 240.660429039s] Trained 320.0 records in 0.346454324 seconds. Throughput is 923.6427 records/second. Loss is 0.0459632. \n",
            "2020-12-29 07:33:30 INFO  DistriOptimizer$:427 - [Epoch 4 15040/59840][Iteration 608][Wall Clock 241.019313433s] Trained 320.0 records in 0.358884394 seconds. Throughput is 891.65204 records/second. Loss is 0.008541778. \n",
            "2020-12-29 07:33:31 INFO  DistriOptimizer$:427 - [Epoch 4 15360/59840][Iteration 609][Wall Clock 241.35986019s] Trained 320.0 records in 0.340546757 seconds. Throughput is 939.6654 records/second. Loss is 0.01789894. \n",
            "2020-12-29 07:33:31 INFO  DistriOptimizer$:427 - [Epoch 4 15680/59840][Iteration 610][Wall Clock 241.703296973s] Trained 320.0 records in 0.343436783 seconds. Throughput is 931.7581 records/second. Loss is 0.0488109. \n",
            "2020-12-29 07:33:31 INFO  DistriOptimizer$:427 - [Epoch 4 16000/59840][Iteration 611][Wall Clock 242.055430963s] Trained 320.0 records in 0.35213399 seconds. Throughput is 908.745 records/second. Loss is 0.029947223. \n",
            "2020-12-29 07:33:32 INFO  DistriOptimizer$:427 - [Epoch 4 16320/59840][Iteration 612][Wall Clock 242.407468887s] Trained 320.0 records in 0.352037924 seconds. Throughput is 908.9929 records/second. Loss is 0.026143324. \n",
            "2020-12-29 07:33:32 INFO  DistriOptimizer$:427 - [Epoch 4 16640/59840][Iteration 613][Wall Clock 242.760357717s] Trained 320.0 records in 0.35288883 seconds. Throughput is 906.8012 records/second. Loss is 0.03165706. \n",
            "2020-12-29 07:33:33 INFO  DistriOptimizer$:427 - [Epoch 4 16960/59840][Iteration 614][Wall Clock 243.113848911s] Trained 320.0 records in 0.353491194 seconds. Throughput is 905.2559 records/second. Loss is 0.02464492. \n",
            "2020-12-29 07:33:33 INFO  DistriOptimizer$:427 - [Epoch 4 17280/59840][Iteration 615][Wall Clock 243.47437444s] Trained 320.0 records in 0.360525529 seconds. Throughput is 887.5932 records/second. Loss is 0.023622088. \n",
            "2020-12-29 07:33:33 INFO  DistriOptimizer$:427 - [Epoch 4 17600/59840][Iteration 616][Wall Clock 243.865190664s] Trained 320.0 records in 0.390816224 seconds. Throughput is 818.7992 records/second. Loss is 0.029682552. \n",
            "2020-12-29 07:33:34 INFO  DistriOptimizer$:427 - [Epoch 4 17920/59840][Iteration 617][Wall Clock 244.225479549s] Trained 320.0 records in 0.360288885 seconds. Throughput is 888.17615 records/second. Loss is 0.02154169. \n",
            "2020-12-29 07:33:34 INFO  DistriOptimizer$:427 - [Epoch 4 18240/59840][Iteration 618][Wall Clock 244.572212045s] Trained 320.0 records in 0.346732496 seconds. Throughput is 922.9017 records/second. Loss is 0.014415715. \n",
            "2020-12-29 07:33:34 INFO  DistriOptimizer$:427 - [Epoch 4 18560/59840][Iteration 619][Wall Clock 244.917779255s] Trained 320.0 records in 0.34556721 seconds. Throughput is 926.0138 records/second. Loss is 0.01727914. \n",
            "2020-12-29 07:33:35 INFO  DistriOptimizer$:427 - [Epoch 4 18880/59840][Iteration 620][Wall Clock 245.318967071s] Trained 320.0 records in 0.401187816 seconds. Throughput is 797.6314 records/second. Loss is 0.013240188. \n",
            "2020-12-29 07:33:35 INFO  DistriOptimizer$:427 - [Epoch 4 19200/59840][Iteration 621][Wall Clock 245.676472627s] Trained 320.0 records in 0.357505556 seconds. Throughput is 895.091 records/second. Loss is 0.029798295. \n",
            "2020-12-29 07:33:35 INFO  DistriOptimizer$:427 - [Epoch 4 19520/59840][Iteration 622][Wall Clock 246.027653312s] Trained 320.0 records in 0.351180685 seconds. Throughput is 911.21185 records/second. Loss is 0.011163063. \n",
            "2020-12-29 07:33:36 INFO  DistriOptimizer$:427 - [Epoch 4 19840/59840][Iteration 623][Wall Clock 246.376694612s] Trained 320.0 records in 0.3490413 seconds. Throughput is 916.79694 records/second. Loss is 0.011614733. \n",
            "2020-12-29 07:33:36 INFO  DistriOptimizer$:427 - [Epoch 4 20160/59840][Iteration 624][Wall Clock 246.724733157s] Trained 320.0 records in 0.348038545 seconds. Throughput is 919.43835 records/second. Loss is 0.012960086. \n",
            "2020-12-29 07:33:37 INFO  DistriOptimizer$:427 - [Epoch 4 20480/59840][Iteration 625][Wall Clock 247.084567354s] Trained 320.0 records in 0.359834197 seconds. Throughput is 889.29846 records/second. Loss is 0.028884385. \n",
            "2020-12-29 07:33:37 INFO  DistriOptimizer$:427 - [Epoch 4 20800/59840][Iteration 626][Wall Clock 247.430604727s] Trained 320.0 records in 0.346037373 seconds. Throughput is 924.75555 records/second. Loss is 0.03166111. \n",
            "2020-12-29 07:33:37 INFO  DistriOptimizer$:427 - [Epoch 4 21120/59840][Iteration 627][Wall Clock 247.778310965s] Trained 320.0 records in 0.347706238 seconds. Throughput is 920.31714 records/second. Loss is 0.037313305. \n",
            "2020-12-29 07:33:38 INFO  DistriOptimizer$:427 - [Epoch 4 21440/59840][Iteration 628][Wall Clock 248.14044468s] Trained 320.0 records in 0.362133715 seconds. Throughput is 883.6515 records/second. Loss is 0.029165704. \n",
            "2020-12-29 07:33:38 INFO  DistriOptimizer$:427 - [Epoch 4 21760/59840][Iteration 629][Wall Clock 248.477569676s] Trained 320.0 records in 0.337124996 seconds. Throughput is 949.2028 records/second. Loss is 0.021482987. \n",
            "2020-12-29 07:33:38 INFO  DistriOptimizer$:427 - [Epoch 4 22080/59840][Iteration 630][Wall Clock 248.836492487s] Trained 320.0 records in 0.358922811 seconds. Throughput is 891.5566 records/second. Loss is 0.014964176. \n",
            "2020-12-29 07:33:39 INFO  DistriOptimizer$:427 - [Epoch 4 22400/59840][Iteration 631][Wall Clock 249.202391644s] Trained 320.0 records in 0.365899157 seconds. Throughput is 874.5579 records/second. Loss is 0.02821004. \n",
            "2020-12-29 07:33:39 INFO  DistriOptimizer$:427 - [Epoch 4 22720/59840][Iteration 632][Wall Clock 249.556594729s] Trained 320.0 records in 0.354203085 seconds. Throughput is 903.4365 records/second. Loss is 0.035414737. \n",
            "2020-12-29 07:33:39 INFO  DistriOptimizer$:427 - [Epoch 4 23040/59840][Iteration 633][Wall Clock 249.90798148s] Trained 320.0 records in 0.351386751 seconds. Throughput is 910.6775 records/second. Loss is 0.034649573. \n",
            "2020-12-29 07:33:40 INFO  DistriOptimizer$:427 - [Epoch 4 23360/59840][Iteration 634][Wall Clock 250.267130061s] Trained 320.0 records in 0.359148581 seconds. Throughput is 890.9961 records/second. Loss is 0.036851242. \n",
            "2020-12-29 07:33:40 INFO  DistriOptimizer$:427 - [Epoch 4 23680/59840][Iteration 635][Wall Clock 250.621567548s] Trained 320.0 records in 0.354437487 seconds. Throughput is 902.839 records/second. Loss is 0.0049895225. \n",
            "2020-12-29 07:33:40 INFO  DistriOptimizer$:427 - [Epoch 4 24000/59840][Iteration 636][Wall Clock 250.972292772s] Trained 320.0 records in 0.350725224 seconds. Throughput is 912.39514 records/second. Loss is 0.016526103. \n",
            "2020-12-29 07:33:41 INFO  DistriOptimizer$:427 - [Epoch 4 24320/59840][Iteration 637][Wall Clock 251.347885132s] Trained 320.0 records in 0.37559236 seconds. Throughput is 851.98755 records/second. Loss is 0.015131838. \n",
            "2020-12-29 07:33:41 INFO  DistriOptimizer$:427 - [Epoch 4 24640/59840][Iteration 638][Wall Clock 251.694710511s] Trained 320.0 records in 0.346825379 seconds. Throughput is 922.6545 records/second. Loss is 0.056116834. \n",
            "2020-12-29 07:33:41 INFO  DistriOptimizer$:427 - [Epoch 4 24960/59840][Iteration 639][Wall Clock 252.048620345s] Trained 320.0 records in 0.353909834 seconds. Throughput is 904.1851 records/second. Loss is 0.027320495. \n",
            "2020-12-29 07:33:42 INFO  DistriOptimizer$:427 - [Epoch 4 25280/59840][Iteration 640][Wall Clock 252.478362469s] Trained 320.0 records in 0.429742124 seconds. Throughput is 744.6326 records/second. Loss is 0.010845056. \n",
            "2020-12-29 07:33:42 INFO  DistriOptimizer$:427 - [Epoch 4 25600/59840][Iteration 641][Wall Clock 252.837148647s] Trained 320.0 records in 0.358786178 seconds. Throughput is 891.8962 records/second. Loss is 0.028374586. \n",
            "2020-12-29 07:33:43 INFO  DistriOptimizer$:427 - [Epoch 4 25920/59840][Iteration 642][Wall Clock 253.18562495s] Trained 320.0 records in 0.348476303 seconds. Throughput is 918.28345 records/second. Loss is 0.036994427. \n",
            "2020-12-29 07:33:43 INFO  DistriOptimizer$:427 - [Epoch 4 26240/59840][Iteration 643][Wall Clock 253.526377164s] Trained 320.0 records in 0.340752214 seconds. Throughput is 939.0988 records/second. Loss is 0.009773703. \n",
            "2020-12-29 07:33:43 INFO  DistriOptimizer$:427 - [Epoch 4 26560/59840][Iteration 644][Wall Clock 253.88427479s] Trained 320.0 records in 0.357897626 seconds. Throughput is 894.1104 records/second. Loss is 0.018992275. \n",
            "2020-12-29 07:33:44 INFO  DistriOptimizer$:427 - [Epoch 4 26880/59840][Iteration 645][Wall Clock 254.239618729s] Trained 320.0 records in 0.355343939 seconds. Throughput is 900.53595 records/second. Loss is 0.03304359. \n",
            "2020-12-29 07:33:44 INFO  DistriOptimizer$:427 - [Epoch 4 27200/59840][Iteration 646][Wall Clock 254.683517699s] Trained 320.0 records in 0.44389897 seconds. Throughput is 720.88477 records/second. Loss is 0.020632012. \n",
            "2020-12-29 07:33:45 INFO  DistriOptimizer$:427 - [Epoch 4 27520/59840][Iteration 647][Wall Clock 255.075189795s] Trained 320.0 records in 0.391672096 seconds. Throughput is 817.00995 records/second. Loss is 0.03776488. \n",
            "2020-12-29 07:33:45 INFO  DistriOptimizer$:427 - [Epoch 4 27840/59840][Iteration 648][Wall Clock 255.470678192s] Trained 320.0 records in 0.395488397 seconds. Throughput is 809.1261 records/second. Loss is 0.014710586. \n",
            "2020-12-29 07:33:45 INFO  DistriOptimizer$:427 - [Epoch 4 28160/59840][Iteration 649][Wall Clock 255.838668663s] Trained 320.0 records in 0.367990471 seconds. Throughput is 869.58777 records/second. Loss is 0.00974287. \n",
            "2020-12-29 07:33:46 INFO  DistriOptimizer$:427 - [Epoch 4 28480/59840][Iteration 650][Wall Clock 256.192203712s] Trained 320.0 records in 0.353535049 seconds. Throughput is 905.1436 records/second. Loss is 0.030042252. \n",
            "2020-12-29 07:33:46 INFO  DistriOptimizer$:427 - [Epoch 4 28800/59840][Iteration 651][Wall Clock 256.531845887s] Trained 320.0 records in 0.339642175 seconds. Throughput is 942.168 records/second. Loss is 0.025860041. \n",
            "2020-12-29 07:33:46 INFO  DistriOptimizer$:427 - [Epoch 4 29120/59840][Iteration 652][Wall Clock 256.869559678s] Trained 320.0 records in 0.337713791 seconds. Throughput is 947.548 records/second. Loss is 0.016607886. \n",
            "2020-12-29 07:33:47 INFO  DistriOptimizer$:427 - [Epoch 4 29440/59840][Iteration 653][Wall Clock 257.20973063s] Trained 320.0 records in 0.340170952 seconds. Throughput is 940.7035 records/second. Loss is 0.021243488. \n",
            "2020-12-29 07:33:47 INFO  DistriOptimizer$:427 - [Epoch 4 29760/59840][Iteration 654][Wall Clock 257.550753683s] Trained 320.0 records in 0.341023053 seconds. Throughput is 938.35297 records/second. Loss is 0.00755287. \n",
            "2020-12-29 07:33:47 INFO  DistriOptimizer$:427 - [Epoch 4 30080/59840][Iteration 655][Wall Clock 257.885116124s] Trained 320.0 records in 0.334362441 seconds. Throughput is 957.0453 records/second. Loss is 0.064149715. \n",
            "2020-12-29 07:33:48 INFO  DistriOptimizer$:427 - [Epoch 4 30400/59840][Iteration 656][Wall Clock 258.254973856s] Trained 320.0 records in 0.369857732 seconds. Throughput is 865.1976 records/second. Loss is 0.031291492. \n",
            "2020-12-29 07:33:48 INFO  DistriOptimizer$:427 - [Epoch 4 30720/59840][Iteration 657][Wall Clock 258.590663612s] Trained 320.0 records in 0.335689756 seconds. Throughput is 953.26117 records/second. Loss is 0.01202292. \n",
            "2020-12-29 07:33:48 INFO  DistriOptimizer$:427 - [Epoch 4 31040/59840][Iteration 658][Wall Clock 258.936786108s] Trained 320.0 records in 0.346122496 seconds. Throughput is 924.52814 records/second. Loss is 0.013641219. \n",
            "2020-12-29 07:33:49 INFO  DistriOptimizer$:427 - [Epoch 4 31360/59840][Iteration 659][Wall Clock 259.317024614s] Trained 320.0 records in 0.380238506 seconds. Throughput is 841.577 records/second. Loss is 0.034529798. \n",
            "2020-12-29 07:33:49 INFO  DistriOptimizer$:427 - [Epoch 4 31680/59840][Iteration 660][Wall Clock 259.657086709s] Trained 320.0 records in 0.340062095 seconds. Throughput is 941.00464 records/second. Loss is 0.008387686. \n",
            "2020-12-29 07:33:49 INFO  DistriOptimizer$:427 - [Epoch 4 32000/59840][Iteration 661][Wall Clock 260.008392795s] Trained 320.0 records in 0.351306086 seconds. Throughput is 910.8866 records/second. Loss is 0.04351823. \n",
            "2020-12-29 07:33:50 INFO  DistriOptimizer$:427 - [Epoch 4 32320/59840][Iteration 662][Wall Clock 260.361858205s] Trained 320.0 records in 0.35346541 seconds. Throughput is 905.32196 records/second. Loss is 0.019193236. \n",
            "2020-12-29 07:33:50 INFO  DistriOptimizer$:427 - [Epoch 4 32640/59840][Iteration 663][Wall Clock 260.712351301s] Trained 320.0 records in 0.350493096 seconds. Throughput is 912.9994 records/second. Loss is 0.01558202. \n",
            "2020-12-29 07:33:51 INFO  DistriOptimizer$:427 - [Epoch 4 32960/59840][Iteration 664][Wall Clock 261.058247165s] Trained 320.0 records in 0.345895864 seconds. Throughput is 925.134 records/second. Loss is 0.026872365. \n",
            "2020-12-29 07:33:51 INFO  DistriOptimizer$:427 - [Epoch 4 33280/59840][Iteration 665][Wall Clock 261.417403794s] Trained 320.0 records in 0.359156629 seconds. Throughput is 890.97614 records/second. Loss is 0.022044862. \n",
            "2020-12-29 07:33:51 INFO  DistriOptimizer$:427 - [Epoch 4 33600/59840][Iteration 666][Wall Clock 261.763160599s] Trained 320.0 records in 0.345756805 seconds. Throughput is 925.50604 records/second. Loss is 0.05971783. \n",
            "2020-12-29 07:33:52 INFO  DistriOptimizer$:427 - [Epoch 4 33920/59840][Iteration 667][Wall Clock 262.146855025s] Trained 320.0 records in 0.383694426 seconds. Throughput is 833.99695 records/second. Loss is 0.038501613. \n",
            "2020-12-29 07:33:52 INFO  DistriOptimizer$:427 - [Epoch 4 34240/59840][Iteration 668][Wall Clock 262.55905308s] Trained 320.0 records in 0.412198055 seconds. Throughput is 776.3258 records/second. Loss is 0.017338432. \n",
            "2020-12-29 07:33:52 INFO  DistriOptimizer$:427 - [Epoch 4 34560/59840][Iteration 669][Wall Clock 262.905357301s] Trained 320.0 records in 0.346304221 seconds. Throughput is 924.043 records/second. Loss is 0.014762457. \n",
            "2020-12-29 07:33:53 INFO  DistriOptimizer$:427 - [Epoch 4 34880/59840][Iteration 670][Wall Clock 263.256217408s] Trained 320.0 records in 0.350860107 seconds. Throughput is 912.0444 records/second. Loss is 0.028751923. \n",
            "2020-12-29 07:33:53 INFO  DistriOptimizer$:427 - [Epoch 4 35200/59840][Iteration 671][Wall Clock 263.60426851s] Trained 320.0 records in 0.348051102 seconds. Throughput is 919.4052 records/second. Loss is 0.016593779. \n",
            "2020-12-29 07:33:53 INFO  DistriOptimizer$:427 - [Epoch 4 35520/59840][Iteration 672][Wall Clock 263.961117036s] Trained 320.0 records in 0.356848526 seconds. Throughput is 896.739 records/second. Loss is 0.0114274435. \n",
            "2020-12-29 07:33:54 INFO  DistriOptimizer$:427 - [Epoch 4 35840/59840][Iteration 673][Wall Clock 264.319792314s] Trained 320.0 records in 0.358675278 seconds. Throughput is 892.1719 records/second. Loss is 0.018876687. \n",
            "2020-12-29 07:33:54 INFO  DistriOptimizer$:427 - [Epoch 4 36160/59840][Iteration 674][Wall Clock 264.698216267s] Trained 320.0 records in 0.378423953 seconds. Throughput is 845.6124 records/second. Loss is 0.016086813. \n",
            "2020-12-29 07:33:55 INFO  DistriOptimizer$:427 - [Epoch 4 36480/59840][Iteration 675][Wall Clock 265.050081122s] Trained 320.0 records in 0.351864855 seconds. Throughput is 909.4401 records/second. Loss is 0.03727101. \n",
            "2020-12-29 07:33:55 INFO  DistriOptimizer$:427 - [Epoch 4 36800/59840][Iteration 676][Wall Clock 265.402619692s] Trained 320.0 records in 0.35253857 seconds. Throughput is 907.70215 records/second. Loss is 0.028824486. \n",
            "2020-12-29 07:33:55 INFO  DistriOptimizer$:427 - [Epoch 4 37120/59840][Iteration 677][Wall Clock 265.738165445s] Trained 320.0 records in 0.335545753 seconds. Throughput is 953.6702 records/second. Loss is 0.0134466905. \n",
            "2020-12-29 07:33:56 INFO  DistriOptimizer$:427 - [Epoch 4 37440/59840][Iteration 678][Wall Clock 266.079511362s] Trained 320.0 records in 0.341345917 seconds. Throughput is 937.46545 records/second. Loss is 0.017648935. \n",
            "2020-12-29 07:33:56 INFO  DistriOptimizer$:427 - [Epoch 4 37760/59840][Iteration 679][Wall Clock 266.445368905s] Trained 320.0 records in 0.365857543 seconds. Throughput is 874.6574 records/second. Loss is 0.018180488. \n",
            "2020-12-29 07:33:56 INFO  DistriOptimizer$:427 - [Epoch 4 38080/59840][Iteration 680][Wall Clock 266.790590417s] Trained 320.0 records in 0.345221512 seconds. Throughput is 926.94104 records/second. Loss is 0.034474097. \n",
            "2020-12-29 07:33:57 INFO  DistriOptimizer$:427 - [Epoch 4 38400/59840][Iteration 681][Wall Clock 267.177004267s] Trained 320.0 records in 0.38641385 seconds. Throughput is 828.1277 records/second. Loss is 0.023200287. \n",
            "2020-12-29 07:33:57 INFO  DistriOptimizer$:427 - [Epoch 4 38720/59840][Iteration 682][Wall Clock 267.601232142s] Trained 320.0 records in 0.424227875 seconds. Throughput is 754.3116 records/second. Loss is 0.015720796. \n",
            "2020-12-29 07:33:57 INFO  DistriOptimizer$:427 - [Epoch 4 39040/59840][Iteration 683][Wall Clock 268.020834618s] Trained 320.0 records in 0.419602476 seconds. Throughput is 762.6266 records/second. Loss is 0.018851735. \n",
            "2020-12-29 07:33:58 INFO  DistriOptimizer$:427 - [Epoch 4 39360/59840][Iteration 684][Wall Clock 268.441003603s] Trained 320.0 records in 0.420168985 seconds. Throughput is 761.5983 records/second. Loss is 0.036416076. \n",
            "2020-12-29 07:33:58 INFO  DistriOptimizer$:427 - [Epoch 4 39680/59840][Iteration 685][Wall Clock 268.837942107s] Trained 320.0 records in 0.396938504 seconds. Throughput is 806.1702 records/second. Loss is 0.042295687. \n",
            "2020-12-29 07:33:59 INFO  DistriOptimizer$:427 - [Epoch 4 40000/59840][Iteration 686][Wall Clock 269.211947955s] Trained 320.0 records in 0.374005848 seconds. Throughput is 855.60156 records/second. Loss is 0.022469196. \n",
            "2020-12-29 07:33:59 INFO  DistriOptimizer$:427 - [Epoch 4 40320/59840][Iteration 687][Wall Clock 269.564742545s] Trained 320.0 records in 0.35279459 seconds. Throughput is 907.0434 records/second. Loss is 0.018579768. \n",
            "2020-12-29 07:33:59 INFO  DistriOptimizer$:427 - [Epoch 4 40640/59840][Iteration 688][Wall Clock 269.902487666s] Trained 320.0 records in 0.337745121 seconds. Throughput is 947.46 records/second. Loss is 0.008379132. \n",
            "2020-12-29 07:34:00 INFO  DistriOptimizer$:427 - [Epoch 4 40960/59840][Iteration 689][Wall Clock 270.250322337s] Trained 320.0 records in 0.347834671 seconds. Throughput is 919.9773 records/second. Loss is 0.00925847. \n",
            "2020-12-29 07:34:00 INFO  DistriOptimizer$:427 - [Epoch 4 41280/59840][Iteration 690][Wall Clock 270.605255584s] Trained 320.0 records in 0.354933247 seconds. Throughput is 901.57794 records/second. Loss is 0.025731677. \n",
            "2020-12-29 07:34:00 INFO  DistriOptimizer$:427 - [Epoch 4 41600/59840][Iteration 691][Wall Clock 270.951795358s] Trained 320.0 records in 0.346539774 seconds. Throughput is 923.415 records/second. Loss is 0.010912479. \n",
            "2020-12-29 07:34:01 INFO  DistriOptimizer$:427 - [Epoch 4 41920/59840][Iteration 692][Wall Clock 271.290471554s] Trained 320.0 records in 0.338676196 seconds. Throughput is 944.85535 records/second. Loss is 0.016381305. \n",
            "2020-12-29 07:34:01 INFO  DistriOptimizer$:427 - [Epoch 4 42240/59840][Iteration 693][Wall Clock 271.639591179s] Trained 320.0 records in 0.349119625 seconds. Throughput is 916.59125 records/second. Loss is 0.02421616. \n",
            "2020-12-29 07:34:01 INFO  DistriOptimizer$:427 - [Epoch 4 42560/59840][Iteration 694][Wall Clock 271.987009222s] Trained 320.0 records in 0.347418043 seconds. Throughput is 921.08057 records/second. Loss is 0.040924557. \n",
            "2020-12-29 07:34:02 INFO  DistriOptimizer$:427 - [Epoch 4 42880/59840][Iteration 695][Wall Clock 272.335735214s] Trained 320.0 records in 0.348725992 seconds. Throughput is 917.62585 records/second. Loss is 0.02595538. \n",
            "2020-12-29 07:34:02 INFO  DistriOptimizer$:427 - [Epoch 4 43200/59840][Iteration 696][Wall Clock 272.759483426s] Trained 320.0 records in 0.423748212 seconds. Throughput is 755.1654 records/second. Loss is 0.023488475. \n",
            "2020-12-29 07:34:03 INFO  DistriOptimizer$:427 - [Epoch 4 43520/59840][Iteration 697][Wall Clock 273.11695432s] Trained 320.0 records in 0.357470894 seconds. Throughput is 895.17773 records/second. Loss is 0.023143956. \n",
            "2020-12-29 07:34:03 INFO  DistriOptimizer$:427 - [Epoch 4 43840/59840][Iteration 698][Wall Clock 273.479824378s] Trained 320.0 records in 0.362870058 seconds. Throughput is 881.85834 records/second. Loss is 0.009725986. \n",
            "2020-12-29 07:34:03 INFO  DistriOptimizer$:427 - [Epoch 4 44160/59840][Iteration 699][Wall Clock 273.874429549s] Trained 320.0 records in 0.394605171 seconds. Throughput is 810.9372 records/second. Loss is 0.011395548. \n",
            "2020-12-29 07:34:04 INFO  DistriOptimizer$:427 - [Epoch 4 44480/59840][Iteration 700][Wall Clock 274.243637482s] Trained 320.0 records in 0.369207933 seconds. Throughput is 866.7203 records/second. Loss is 0.033424016. \n",
            "2020-12-29 07:34:04 INFO  DistriOptimizer$:427 - [Epoch 4 44800/59840][Iteration 701][Wall Clock 274.597553365s] Trained 320.0 records in 0.353915883 seconds. Throughput is 904.1697 records/second. Loss is 0.017425569. \n",
            "2020-12-29 07:34:04 INFO  DistriOptimizer$:427 - [Epoch 4 45120/59840][Iteration 702][Wall Clock 274.935617339s] Trained 320.0 records in 0.338063974 seconds. Throughput is 946.56635 records/second. Loss is 0.03137175. \n",
            "2020-12-29 07:34:05 INFO  DistriOptimizer$:427 - [Epoch 4 45440/59840][Iteration 703][Wall Clock 275.276161027s] Trained 320.0 records in 0.340543688 seconds. Throughput is 939.6738 records/second. Loss is 0.02136282. \n",
            "2020-12-29 07:34:05 INFO  DistriOptimizer$:427 - [Epoch 4 45760/59840][Iteration 704][Wall Clock 275.635463209s] Trained 320.0 records in 0.359302182 seconds. Throughput is 890.61523 records/second. Loss is 0.023698494. \n",
            "2020-12-29 07:34:05 INFO  DistriOptimizer$:427 - [Epoch 4 46080/59840][Iteration 705][Wall Clock 275.983857816s] Trained 320.0 records in 0.348394607 seconds. Throughput is 918.4987 records/second. Loss is 0.011150304. \n",
            "2020-12-29 07:34:06 INFO  DistriOptimizer$:427 - [Epoch 4 46400/59840][Iteration 706][Wall Clock 276.34301882s] Trained 320.0 records in 0.359161004 seconds. Throughput is 890.96533 records/second. Loss is 0.023160182. \n",
            "2020-12-29 07:34:06 INFO  DistriOptimizer$:427 - [Epoch 4 46720/59840][Iteration 707][Wall Clock 276.694411086s] Trained 320.0 records in 0.351392266 seconds. Throughput is 910.66315 records/second. Loss is 0.018803494. \n",
            "2020-12-29 07:34:07 INFO  DistriOptimizer$:427 - [Epoch 4 47040/59840][Iteration 708][Wall Clock 277.0666227s] Trained 320.0 records in 0.372211614 seconds. Throughput is 859.726 records/second. Loss is 0.01397717. \n",
            "2020-12-29 07:34:07 INFO  DistriOptimizer$:427 - [Epoch 4 47360/59840][Iteration 709][Wall Clock 277.409205881s] Trained 320.0 records in 0.342583181 seconds. Throughput is 934.0797 records/second. Loss is 0.034334216. \n",
            "2020-12-29 07:34:07 INFO  DistriOptimizer$:427 - [Epoch 4 47680/59840][Iteration 710][Wall Clock 277.754682447s] Trained 320.0 records in 0.345476566 seconds. Throughput is 926.2567 records/second. Loss is 0.019792523. \n",
            "2020-12-29 07:34:08 INFO  DistriOptimizer$:427 - [Epoch 4 48000/59840][Iteration 711][Wall Clock 278.101451963s] Trained 320.0 records in 0.346769516 seconds. Throughput is 922.80316 records/second. Loss is 0.015875734. \n",
            "2020-12-29 07:34:08 INFO  DistriOptimizer$:427 - [Epoch 4 48320/59840][Iteration 712][Wall Clock 278.444549687s] Trained 320.0 records in 0.343097724 seconds. Throughput is 932.6789 records/second. Loss is 0.014879159. \n",
            "2020-12-29 07:34:08 INFO  DistriOptimizer$:427 - [Epoch 4 48640/59840][Iteration 713][Wall Clock 278.801269858s] Trained 320.0 records in 0.356720171 seconds. Throughput is 897.06165 records/second. Loss is 0.026465213. \n",
            "2020-12-29 07:34:09 INFO  DistriOptimizer$:427 - [Epoch 4 48960/59840][Iteration 714][Wall Clock 279.146758551s] Trained 320.0 records in 0.345488693 seconds. Throughput is 926.22424 records/second. Loss is 0.019753532. \n",
            "2020-12-29 07:34:09 INFO  DistriOptimizer$:427 - [Epoch 4 49280/59840][Iteration 715][Wall Clock 279.48409161s] Trained 320.0 records in 0.337333059 seconds. Throughput is 948.6174 records/second. Loss is 0.015224789. \n",
            "2020-12-29 07:34:09 INFO  DistriOptimizer$:427 - [Epoch 4 49600/59840][Iteration 716][Wall Clock 279.830032095s] Trained 320.0 records in 0.345940485 seconds. Throughput is 925.01465 records/second. Loss is 0.022470905. \n",
            "2020-12-29 07:34:10 INFO  DistriOptimizer$:427 - [Epoch 4 49920/59840][Iteration 717][Wall Clock 280.164669487s] Trained 320.0 records in 0.334637392 seconds. Throughput is 956.2589 records/second. Loss is 0.0068399785. \n",
            "2020-12-29 07:34:10 INFO  DistriOptimizer$:427 - [Epoch 4 50240/59840][Iteration 718][Wall Clock 280.512746606s] Trained 320.0 records in 0.348077119 seconds. Throughput is 919.3365 records/second. Loss is 0.012764435. \n",
            "2020-12-29 07:34:10 INFO  DistriOptimizer$:427 - [Epoch 4 50560/59840][Iteration 719][Wall Clock 280.865668812s] Trained 320.0 records in 0.352922206 seconds. Throughput is 906.7154 records/second. Loss is 0.0059127114. \n",
            "2020-12-29 07:34:11 INFO  DistriOptimizer$:427 - [Epoch 4 50880/59840][Iteration 720][Wall Clock 281.205141138s] Trained 320.0 records in 0.339472326 seconds. Throughput is 942.63947 records/second. Loss is 0.016461177. \n",
            "2020-12-29 07:34:11 INFO  DistriOptimizer$:427 - [Epoch 4 51200/59840][Iteration 721][Wall Clock 281.555443563s] Trained 320.0 records in 0.350302425 seconds. Throughput is 913.4964 records/second. Loss is 0.02143867. \n",
            "2020-12-29 07:34:11 INFO  DistriOptimizer$:427 - [Epoch 4 51520/59840][Iteration 722][Wall Clock 281.910667313s] Trained 320.0 records in 0.35522375 seconds. Throughput is 900.8407 records/second. Loss is 0.039345484. \n",
            "2020-12-29 07:34:12 INFO  DistriOptimizer$:427 - [Epoch 4 51840/59840][Iteration 723][Wall Clock 282.262725171s] Trained 320.0 records in 0.352057858 seconds. Throughput is 908.9415 records/second. Loss is 0.029141508. \n",
            "2020-12-29 07:34:12 INFO  DistriOptimizer$:427 - [Epoch 4 52160/59840][Iteration 724][Wall Clock 282.612634875s] Trained 320.0 records in 0.349909704 seconds. Throughput is 914.52167 records/second. Loss is 0.014073641. \n",
            "2020-12-29 07:34:12 INFO  DistriOptimizer$:427 - [Epoch 4 52480/59840][Iteration 725][Wall Clock 282.963332079s] Trained 320.0 records in 0.350697204 seconds. Throughput is 912.4681 records/second. Loss is 0.015560998. \n",
            "2020-12-29 07:34:13 INFO  DistriOptimizer$:427 - [Epoch 4 52800/59840][Iteration 726][Wall Clock 283.311281173s] Trained 320.0 records in 0.347949094 seconds. Throughput is 919.6748 records/second. Loss is 0.022720613. \n",
            "2020-12-29 07:34:13 INFO  DistriOptimizer$:427 - [Epoch 4 53120/59840][Iteration 727][Wall Clock 283.642929588s] Trained 320.0 records in 0.331648415 seconds. Throughput is 964.87726 records/second. Loss is 0.032260478. \n",
            "2020-12-29 07:34:14 INFO  DistriOptimizer$:427 - [Epoch 4 53440/59840][Iteration 728][Wall Clock 283.992639874s] Trained 320.0 records in 0.349710286 seconds. Throughput is 915.04315 records/second. Loss is 0.00994818. \n",
            "2020-12-29 07:34:14 INFO  DistriOptimizer$:427 - [Epoch 4 53760/59840][Iteration 729][Wall Clock 284.33584054s] Trained 320.0 records in 0.343200666 seconds. Throughput is 932.3992 records/second. Loss is 0.021792956. \n",
            "2020-12-29 07:34:14 INFO  DistriOptimizer$:427 - [Epoch 4 54080/59840][Iteration 730][Wall Clock 284.740603971s] Trained 320.0 records in 0.404763431 seconds. Throughput is 790.58527 records/second. Loss is 0.016282732. \n",
            "2020-12-29 07:34:15 INFO  DistriOptimizer$:427 - [Epoch 4 54400/59840][Iteration 731][Wall Clock 285.166842616s] Trained 320.0 records in 0.426238645 seconds. Throughput is 750.7531 records/second. Loss is 0.006264753. \n",
            "2020-12-29 07:34:15 INFO  DistriOptimizer$:427 - [Epoch 4 54720/59840][Iteration 732][Wall Clock 285.568516915s] Trained 320.0 records in 0.401674299 seconds. Throughput is 796.66534 records/second. Loss is 0.0460635. \n",
            "2020-12-29 07:34:16 INFO  DistriOptimizer$:427 - [Epoch 4 55040/59840][Iteration 733][Wall Clock 286.04478355s] Trained 320.0 records in 0.476266635 seconds. Throughput is 671.8926 records/second. Loss is 0.017422091. \n",
            "2020-12-29 07:34:16 INFO  DistriOptimizer$:427 - [Epoch 4 55360/59840][Iteration 734][Wall Clock 286.464887539s] Trained 320.0 records in 0.420103989 seconds. Throughput is 761.7161 records/second. Loss is 0.027291965. \n",
            "2020-12-29 07:34:16 INFO  DistriOptimizer$:427 - [Epoch 4 55680/59840][Iteration 735][Wall Clock 286.930420557s] Trained 320.0 records in 0.465533018 seconds. Throughput is 687.3841 records/second. Loss is 0.01801376. \n",
            "2020-12-29 07:34:17 INFO  DistriOptimizer$:427 - [Epoch 4 56000/59840][Iteration 736][Wall Clock 287.39502634s] Trained 320.0 records in 0.464605783 seconds. Throughput is 688.756 records/second. Loss is 0.022512134. \n",
            "2020-12-29 07:34:17 INFO  DistriOptimizer$:427 - [Epoch 4 56320/59840][Iteration 737][Wall Clock 287.876440893s] Trained 320.0 records in 0.481414553 seconds. Throughput is 664.70776 records/second. Loss is 0.015198477. \n"
          ],
          "name": "stdout"
        },
        {
          "output_type": "stream",
          "text": [
            "\r[Stage 1485:>                                                       (0 + 1) / 1]\r                                                                                \r"
          ],
          "name": "stderr"
        },
        {
          "output_type": "stream",
          "text": [
            "2020-12-29 07:34:18 INFO  DistriOptimizer$:427 - [Epoch 4 56640/59840][Iteration 738][Wall Clock 288.588893741s] Trained 320.0 records in 0.712452848 seconds. Throughput is 449.15256 records/second. Loss is 0.01975906. \n"
          ],
          "name": "stdout"
        },
        {
          "output_type": "stream",
          "text": [
            ""
          ],
          "name": "stderr"
        },
        {
          "output_type": "stream",
          "text": [
            "2020-12-29 07:34:19 INFO  DistriOptimizer$:427 - [Epoch 4 56960/59840][Iteration 739][Wall Clock 289.534517014s] Trained 320.0 records in 0.945623273 seconds. Throughput is 338.40115 records/second. Loss is 0.02990478. \n",
            "2020-12-29 07:34:20 INFO  DistriOptimizer$:427 - [Epoch 4 57280/59840][Iteration 740][Wall Clock 290.0425324s] Trained 320.0 records in 0.508015386 seconds. Throughput is 629.90216 records/second. Loss is 0.016405443. \n",
            "2020-12-29 07:34:20 INFO  DistriOptimizer$:427 - [Epoch 4 57600/59840][Iteration 741][Wall Clock 290.445522465s] Trained 320.0 records in 0.402990065 seconds. Throughput is 794.0642 records/second. Loss is 0.022687938. \n",
            "2020-12-29 07:34:20 INFO  DistriOptimizer$:427 - [Epoch 4 57920/59840][Iteration 742][Wall Clock 290.843467691s] Trained 320.0 records in 0.397945226 seconds. Throughput is 804.1308 records/second. Loss is 0.034638748. \n",
            "2020-12-29 07:34:21 INFO  DistriOptimizer$:427 - [Epoch 4 58240/59840][Iteration 743][Wall Clock 291.25262812s] Trained 320.0 records in 0.409160429 seconds. Throughput is 782.0893 records/second. Loss is 0.02970278. \n",
            "2020-12-29 07:34:21 INFO  DistriOptimizer$:427 - [Epoch 4 58560/59840][Iteration 744][Wall Clock 291.649075203s] Trained 320.0 records in 0.396447083 seconds. Throughput is 807.1695 records/second. Loss is 0.031850457. \n",
            "2020-12-29 07:34:22 INFO  DistriOptimizer$:427 - [Epoch 4 58880/59840][Iteration 745][Wall Clock 292.057852311s] Trained 320.0 records in 0.408777108 seconds. Throughput is 782.8227 records/second. Loss is 0.01977683. \n",
            "2020-12-29 07:34:22 INFO  DistriOptimizer$:427 - [Epoch 4 59200/59840][Iteration 746][Wall Clock 292.583679718s] Trained 320.0 records in 0.525827407 seconds. Throughput is 608.5647 records/second. Loss is 0.0110814385. \n",
            "2020-12-29 07:34:23 INFO  DistriOptimizer$:427 - [Epoch 4 59520/59840][Iteration 747][Wall Clock 293.00936359s] Trained 320.0 records in 0.425683872 seconds. Throughput is 751.7315 records/second. Loss is 0.037217364. \n",
            "2020-12-29 07:34:23 INFO  DistriOptimizer$:427 - [Epoch 4 59840/59840][Iteration 748][Wall Clock 293.356650005s] Trained 320.0 records in 0.347286415 seconds. Throughput is 921.4297 records/second. Loss is 0.022405807. \n",
            "2020-12-29 07:34:23 INFO  DistriOptimizer$:472 - [Epoch 4 59840/59840][Iteration 748][Wall Clock 293.356650005s] Epoch finished. Wall clock time is 297829.582758 ms\n",
            "2020-12-29 07:34:23 INFO  DistriOptimizer$:111 - [Epoch 4 59840/59840][Iteration 748][Wall Clock 293.356650005s] Validate model...\n"
          ],
          "name": "stdout"
        },
        {
          "output_type": "stream",
          "text": [
            "\r[Stage 1507:>                                                       (0 + 1) / 1]"
          ],
          "name": "stderr"
        },
        {
          "output_type": "stream",
          "text": [
            "2020-12-29 07:34:29 INFO  DistriOptimizer$:177 - [Epoch 4 59840/59840][Iteration 748][Wall Clock 293.356650005s] validate model throughput is 1637.2275 records/second\n",
            "2020-12-29 07:34:29 INFO  DistriOptimizer$:180 - [Epoch 4 59840/59840][Iteration 748][Wall Clock 293.356650005s] acc is (acc: 9892.0, count: 10000, Average acc: 0.9892)\n"
          ],
          "name": "stdout"
        },
        {
          "output_type": "stream",
          "text": [
            ""
          ],
          "name": "stderr"
        },
        {
          "output_type": "stream",
          "text": [
            "2020-12-29 07:34:30 INFO  DistriOptimizer$:427 - [Epoch 5 320/59840][Iteration 749][Wall Clock 298.534589765s] Trained 320.0 records in 0.705007007 seconds. Throughput is 453.89618 records/second. Loss is 0.043641694. \n",
            "2020-12-29 07:34:30 INFO  DistriOptimizer$:427 - [Epoch 5 640/59840][Iteration 750][Wall Clock 298.987075674s] Trained 320.0 records in 0.452485909 seconds. Throughput is 707.20435 records/second. Loss is 0.02760448. \n",
            "2020-12-29 07:34:31 INFO  DistriOptimizer$:427 - [Epoch 5 960/59840][Iteration 751][Wall Clock 299.456891084s] Trained 320.0 records in 0.46981541 seconds. Throughput is 681.1186 records/second. Loss is 0.023161503. \n",
            "2020-12-29 07:34:31 INFO  DistriOptimizer$:427 - [Epoch 5 1280/59840][Iteration 752][Wall Clock 299.917248447s] Trained 320.0 records in 0.460357363 seconds. Throughput is 695.1121 records/second. Loss is 0.008025239. \n",
            "2020-12-29 07:34:32 INFO  DistriOptimizer$:427 - [Epoch 5 1600/59840][Iteration 753][Wall Clock 300.352204557s] Trained 320.0 records in 0.43495611 seconds. Throughput is 735.7064 records/second. Loss is 0.022038355. \n",
            "2020-12-29 07:34:32 INFO  DistriOptimizer$:427 - [Epoch 5 1920/59840][Iteration 754][Wall Clock 300.758582407s] Trained 320.0 records in 0.40637785 seconds. Throughput is 787.4445 records/second. Loss is 0.012926604. \n",
            "2020-12-29 07:34:32 INFO  DistriOptimizer$:427 - [Epoch 5 2240/59840][Iteration 755][Wall Clock 301.193834775s] Trained 320.0 records in 0.435252368 seconds. Throughput is 735.2056 records/second. Loss is 0.017166164. \n",
            "2020-12-29 07:34:33 INFO  DistriOptimizer$:427 - [Epoch 5 2560/59840][Iteration 756][Wall Clock 301.614820379s] Trained 320.0 records in 0.420985604 seconds. Throughput is 760.121 records/second. Loss is 0.01445942. \n",
            "2020-12-29 07:34:33 INFO  DistriOptimizer$:427 - [Epoch 5 2880/59840][Iteration 757][Wall Clock 301.982218656s] Trained 320.0 records in 0.367398277 seconds. Throughput is 870.9894 records/second. Loss is 0.049586948. \n",
            "2020-12-29 07:34:34 INFO  DistriOptimizer$:427 - [Epoch 5 3200/59840][Iteration 758][Wall Clock 302.338415099s] Trained 320.0 records in 0.356196443 seconds. Throughput is 898.3807 records/second. Loss is 0.023755673. \n",
            "2020-12-29 07:34:34 INFO  DistriOptimizer$:427 - [Epoch 5 3520/59840][Iteration 759][Wall Clock 302.70326053s] Trained 320.0 records in 0.364845431 seconds. Throughput is 877.08374 records/second. Loss is 0.034079064. \n",
            "2020-12-29 07:34:34 INFO  DistriOptimizer$:427 - [Epoch 5 3840/59840][Iteration 760][Wall Clock 303.064574712s] Trained 320.0 records in 0.361314182 seconds. Throughput is 885.6558 records/second. Loss is 0.019373946. \n",
            "2020-12-29 07:34:35 INFO  DistriOptimizer$:427 - [Epoch 5 4160/59840][Iteration 761][Wall Clock 303.437550503s] Trained 320.0 records in 0.372975791 seconds. Throughput is 857.96454 records/second. Loss is 0.03965031. \n",
            "2020-12-29 07:34:35 INFO  DistriOptimizer$:427 - [Epoch 5 4480/59840][Iteration 762][Wall Clock 303.844867155s] Trained 320.0 records in 0.407316652 seconds. Throughput is 785.6296 records/second. Loss is 0.026099954. \n",
            "2020-12-29 07:34:35 INFO  DistriOptimizer$:427 - [Epoch 5 4800/59840][Iteration 763][Wall Clock 304.213414095s] Trained 320.0 records in 0.36854694 seconds. Throughput is 868.2748 records/second. Loss is 0.010494962. \n",
            "2020-12-29 07:34:36 INFO  DistriOptimizer$:427 - [Epoch 5 5120/59840][Iteration 764][Wall Clock 304.575744404s] Trained 320.0 records in 0.362330309 seconds. Throughput is 883.172 records/second. Loss is 0.016479256. \n",
            "2020-12-29 07:34:36 INFO  DistriOptimizer$:427 - [Epoch 5 5440/59840][Iteration 765][Wall Clock 304.971784655s] Trained 320.0 records in 0.396040251 seconds. Throughput is 807.99866 records/second. Loss is 0.0121602155. \n",
            "2020-12-29 07:34:37 INFO  DistriOptimizer$:427 - [Epoch 5 5760/59840][Iteration 766][Wall Clock 305.342631768s] Trained 320.0 records in 0.370847113 seconds. Throughput is 862.8893 records/second. Loss is 0.065800905. \n",
            "2020-12-29 07:34:37 INFO  DistriOptimizer$:427 - [Epoch 5 6080/59840][Iteration 767][Wall Clock 305.713172521s] Trained 320.0 records in 0.370540753 seconds. Throughput is 863.6027 records/second. Loss is 0.0065625636. \n",
            "2020-12-29 07:34:37 INFO  DistriOptimizer$:427 - [Epoch 5 6400/59840][Iteration 768][Wall Clock 306.078949815s] Trained 320.0 records in 0.365777294 seconds. Throughput is 874.8493 records/second. Loss is 0.040601917. \n",
            "2020-12-29 07:34:38 INFO  DistriOptimizer$:427 - [Epoch 5 6720/59840][Iteration 769][Wall Clock 306.445069184s] Trained 320.0 records in 0.366119369 seconds. Throughput is 874.0319 records/second. Loss is 0.0531281. \n",
            "2020-12-29 07:34:38 INFO  DistriOptimizer$:427 - [Epoch 5 7040/59840][Iteration 770][Wall Clock 306.843447897s] Trained 320.0 records in 0.398378713 seconds. Throughput is 803.2558 records/second. Loss is 0.013188563. \n",
            "2020-12-29 07:34:38 INFO  DistriOptimizer$:427 - [Epoch 5 7360/59840][Iteration 771][Wall Clock 307.211102395s] Trained 320.0 records in 0.367654498 seconds. Throughput is 870.3824 records/second. Loss is 0.013507663. \n",
            "2020-12-29 07:34:39 INFO  DistriOptimizer$:427 - [Epoch 5 7680/59840][Iteration 772][Wall Clock 307.565452355s] Trained 320.0 records in 0.35434996 seconds. Throughput is 903.062 records/second. Loss is 0.016923878. \n",
            "2020-12-29 07:34:39 INFO  DistriOptimizer$:427 - [Epoch 5 8000/59840][Iteration 773][Wall Clock 307.935230348s] Trained 320.0 records in 0.369777993 seconds. Throughput is 865.3841 records/second. Loss is 0.03304366. \n",
            "2020-12-29 07:34:39 INFO  DistriOptimizer$:427 - [Epoch 5 8320/59840][Iteration 774][Wall Clock 308.288708668s] Trained 320.0 records in 0.35347832 seconds. Throughput is 905.28894 records/second. Loss is 0.010813345. \n",
            "2020-12-29 07:34:40 INFO  DistriOptimizer$:427 - [Epoch 5 8640/59840][Iteration 775][Wall Clock 308.643853166s] Trained 320.0 records in 0.355144498 seconds. Throughput is 901.0417 records/second. Loss is 0.014183102. \n",
            "2020-12-29 07:34:40 INFO  DistriOptimizer$:427 - [Epoch 5 8960/59840][Iteration 776][Wall Clock 309.014497048s] Trained 320.0 records in 0.370643882 seconds. Throughput is 863.3624 records/second. Loss is 0.005282425. \n",
            "2020-12-29 07:34:41 INFO  DistriOptimizer$:427 - [Epoch 5 9280/59840][Iteration 777][Wall Clock 309.378284358s] Trained 320.0 records in 0.36378731 seconds. Throughput is 879.6348 records/second. Loss is 0.015553437. \n",
            "2020-12-29 07:34:41 INFO  DistriOptimizer$:427 - [Epoch 5 9600/59840][Iteration 778][Wall Clock 309.742353228s] Trained 320.0 records in 0.36406887 seconds. Throughput is 878.9546 records/second. Loss is 0.02498729. \n",
            "2020-12-29 07:34:41 INFO  DistriOptimizer$:427 - [Epoch 5 9920/59840][Iteration 779][Wall Clock 310.092793757s] Trained 320.0 records in 0.350440529 seconds. Throughput is 913.1364 records/second. Loss is 0.025978416. \n",
            "2020-12-29 07:34:42 INFO  DistriOptimizer$:427 - [Epoch 5 10240/59840][Iteration 780][Wall Clock 310.524281541s] Trained 320.0 records in 0.431487784 seconds. Throughput is 741.62006 records/second. Loss is 0.020337708. \n",
            "2020-12-29 07:34:42 INFO  DistriOptimizer$:427 - [Epoch 5 10560/59840][Iteration 781][Wall Clock 310.915393038s] Trained 320.0 records in 0.391111497 seconds. Throughput is 818.181 records/second. Loss is 0.017454868. \n",
            "2020-12-29 07:34:42 INFO  DistriOptimizer$:427 - [Epoch 5 10880/59840][Iteration 782][Wall Clock 311.27214832s] Trained 320.0 records in 0.356755282 seconds. Throughput is 896.9734 records/second. Loss is 0.030509643. \n",
            "2020-12-29 07:34:43 INFO  DistriOptimizer$:427 - [Epoch 5 11200/59840][Iteration 783][Wall Clock 311.62293638s] Trained 320.0 records in 0.35078806 seconds. Throughput is 912.23175 records/second. Loss is 0.013462846. \n",
            "2020-12-29 07:34:43 INFO  DistriOptimizer$:427 - [Epoch 5 11520/59840][Iteration 784][Wall Clock 311.991516176s] Trained 320.0 records in 0.368579796 seconds. Throughput is 868.1973 records/second. Loss is 0.01368226. \n",
            "2020-12-29 07:34:44 INFO  DistriOptimizer$:427 - [Epoch 5 11840/59840][Iteration 785][Wall Clock 312.350657641s] Trained 320.0 records in 0.359141465 seconds. Throughput is 891.0138 records/second. Loss is 0.03600637. \n",
            "2020-12-29 07:34:44 INFO  DistriOptimizer$:427 - [Epoch 5 12160/59840][Iteration 786][Wall Clock 312.716831614s] Trained 320.0 records in 0.366173973 seconds. Throughput is 873.90155 records/second. Loss is 0.0347057. \n",
            "2020-12-29 07:34:44 INFO  DistriOptimizer$:427 - [Epoch 5 12480/59840][Iteration 787][Wall Clock 313.089809692s] Trained 320.0 records in 0.372978078 seconds. Throughput is 857.9592 records/second. Loss is 0.029115086. \n",
            "2020-12-29 07:34:45 INFO  DistriOptimizer$:427 - [Epoch 5 12800/59840][Iteration 788][Wall Clock 313.458699863s] Trained 320.0 records in 0.368890171 seconds. Throughput is 867.46686 records/second. Loss is 0.0136168. \n",
            "2020-12-29 07:34:45 INFO  DistriOptimizer$:427 - [Epoch 5 13120/59840][Iteration 789][Wall Clock 313.82870466s] Trained 320.0 records in 0.370004797 seconds. Throughput is 864.85364 records/second. Loss is 0.016823923. \n",
            "2020-12-29 07:34:45 INFO  DistriOptimizer$:427 - [Epoch 5 13440/59840][Iteration 790][Wall Clock 314.236562567s] Trained 320.0 records in 0.407857907 seconds. Throughput is 784.587 records/second. Loss is 0.0061370423. \n",
            "2020-12-29 07:34:46 INFO  DistriOptimizer$:427 - [Epoch 5 13760/59840][Iteration 791][Wall Clock 314.613159892s] Trained 320.0 records in 0.376597325 seconds. Throughput is 849.714 records/second. Loss is 0.010236019. \n",
            "2020-12-29 07:34:46 INFO  DistriOptimizer$:427 - [Epoch 5 14080/59840][Iteration 792][Wall Clock 314.984559812s] Trained 320.0 records in 0.37139992 seconds. Throughput is 861.6049 records/second. Loss is 0.029446263. \n",
            "2020-12-29 07:34:47 INFO  DistriOptimizer$:427 - [Epoch 5 14400/59840][Iteration 793][Wall Clock 315.331713522s] Trained 320.0 records in 0.34715371 seconds. Throughput is 921.78186 records/second. Loss is 0.023936711. \n",
            "2020-12-29 07:34:47 INFO  DistriOptimizer$:427 - [Epoch 5 14720/59840][Iteration 794][Wall Clock 315.692085824s] Trained 320.0 records in 0.360372302 seconds. Throughput is 887.9706 records/second. Loss is 0.034287132. \n",
            "2020-12-29 07:34:47 INFO  DistriOptimizer$:427 - [Epoch 5 15040/59840][Iteration 795][Wall Clock 316.110207192s] Trained 320.0 records in 0.418121368 seconds. Throughput is 765.328 records/second. Loss is 0.008633004. \n",
            "2020-12-29 07:34:48 INFO  DistriOptimizer$:427 - [Epoch 5 15360/59840][Iteration 796][Wall Clock 316.561837524s] Trained 320.0 records in 0.451630332 seconds. Throughput is 708.54407 records/second. Loss is 0.019590193. \n",
            "2020-12-29 07:34:48 INFO  DistriOptimizer$:427 - [Epoch 5 15680/59840][Iteration 797][Wall Clock 316.932754177s] Trained 320.0 records in 0.370916653 seconds. Throughput is 862.7275 records/second. Loss is 0.032712366. \n",
            "2020-12-29 07:34:49 INFO  DistriOptimizer$:427 - [Epoch 5 16000/59840][Iteration 798][Wall Clock 317.305710213s] Trained 320.0 records in 0.372956036 seconds. Throughput is 858.00995 records/second. Loss is 0.01867668. \n",
            "2020-12-29 07:34:49 INFO  DistriOptimizer$:427 - [Epoch 5 16320/59840][Iteration 799][Wall Clock 317.703012011s] Trained 320.0 records in 0.397301798 seconds. Throughput is 805.43304 records/second. Loss is 0.02278519. \n",
            "2020-12-29 07:34:49 INFO  DistriOptimizer$:427 - [Epoch 5 16640/59840][Iteration 800][Wall Clock 318.065385038s] Trained 320.0 records in 0.362373027 seconds. Throughput is 883.06793 records/second. Loss is 0.02708755. \n",
            "2020-12-29 07:34:50 INFO  DistriOptimizer$:427 - [Epoch 5 16960/59840][Iteration 801][Wall Clock 318.418892476s] Trained 320.0 records in 0.353507438 seconds. Throughput is 905.21436 records/second. Loss is 0.018983511. \n",
            "2020-12-29 07:34:50 INFO  DistriOptimizer$:427 - [Epoch 5 17280/59840][Iteration 802][Wall Clock 318.775399005s] Trained 320.0 records in 0.356506529 seconds. Throughput is 897.5993 records/second. Loss is 0.019039894. \n",
            "2020-12-29 07:34:50 INFO  DistriOptimizer$:427 - [Epoch 5 17600/59840][Iteration 803][Wall Clock 319.149830196s] Trained 320.0 records in 0.374431191 seconds. Throughput is 854.62964 records/second. Loss is 0.022667168. \n",
            "2020-12-29 07:34:51 INFO  DistriOptimizer$:427 - [Epoch 5 17920/59840][Iteration 804][Wall Clock 319.499726913s] Trained 320.0 records in 0.349896717 seconds. Throughput is 914.55554 records/second. Loss is 0.019469589. \n",
            "2020-12-29 07:34:51 INFO  DistriOptimizer$:427 - [Epoch 5 18240/59840][Iteration 805][Wall Clock 319.85386893s] Trained 320.0 records in 0.354142017 seconds. Throughput is 903.59235 records/second. Loss is 0.01340218. \n",
            "2020-12-29 07:34:51 INFO  DistriOptimizer$:427 - [Epoch 5 18560/59840][Iteration 806][Wall Clock 320.221174186s] Trained 320.0 records in 0.367305256 seconds. Throughput is 871.20996 records/second. Loss is 0.011742158. \n",
            "2020-12-29 07:34:52 INFO  DistriOptimizer$:427 - [Epoch 5 18880/59840][Iteration 807][Wall Clock 320.57978024s] Trained 320.0 records in 0.358606054 seconds. Throughput is 892.3441 records/second. Loss is 0.010347487. \n",
            "2020-12-29 07:34:52 INFO  DistriOptimizer$:427 - [Epoch 5 19200/59840][Iteration 808][Wall Clock 320.942184884s] Trained 320.0 records in 0.362404644 seconds. Throughput is 882.9909 records/second. Loss is 0.016226089. \n",
            "2020-12-29 07:34:53 INFO  DistriOptimizer$:427 - [Epoch 5 19520/59840][Iteration 809][Wall Clock 321.301820388s] Trained 320.0 records in 0.359635504 seconds. Throughput is 889.7898 records/second. Loss is 0.0073074545. \n",
            "2020-12-29 07:34:53 INFO  DistriOptimizer$:427 - [Epoch 5 19840/59840][Iteration 810][Wall Clock 321.6591705s] Trained 320.0 records in 0.357350112 seconds. Throughput is 895.48035 records/second. Loss is 0.009329335. \n",
            "2020-12-29 07:34:53 INFO  DistriOptimizer$:427 - [Epoch 5 20160/59840][Iteration 811][Wall Clock 322.030003435s] Trained 320.0 records in 0.370832935 seconds. Throughput is 862.92224 records/second. Loss is 0.011257353. \n",
            "2020-12-29 07:34:54 INFO  DistriOptimizer$:427 - [Epoch 5 20480/59840][Iteration 812][Wall Clock 322.40707557s] Trained 320.0 records in 0.377072135 seconds. Throughput is 848.644 records/second. Loss is 0.024871042. \n",
            "2020-12-29 07:34:54 INFO  DistriOptimizer$:427 - [Epoch 5 20800/59840][Iteration 813][Wall Clock 322.764963513s] Trained 320.0 records in 0.357887943 seconds. Throughput is 894.1346 records/second. Loss is 0.030710218. \n",
            "2020-12-29 07:34:54 INFO  DistriOptimizer$:427 - [Epoch 5 21120/59840][Iteration 814][Wall Clock 323.124320291s] Trained 320.0 records in 0.359356778 seconds. Throughput is 890.4799 records/second. Loss is 0.034343172. \n",
            "2020-12-29 07:34:55 INFO  DistriOptimizer$:427 - [Epoch 5 21440/59840][Iteration 815][Wall Clock 323.485085873s] Trained 320.0 records in 0.360765582 seconds. Throughput is 887.00256 records/second. Loss is 0.020334613. \n",
            "2020-12-29 07:34:55 INFO  DistriOptimizer$:427 - [Epoch 5 21760/59840][Iteration 816][Wall Clock 323.886295653s] Trained 320.0 records in 0.40120978 seconds. Throughput is 797.58777 records/second. Loss is 0.01533602. \n",
            "2020-12-29 07:34:55 INFO  DistriOptimizer$:427 - [Epoch 5 22080/59840][Iteration 817][Wall Clock 324.253965702s] Trained 320.0 records in 0.367670049 seconds. Throughput is 870.3455 records/second. Loss is 0.00888872. \n",
            "2020-12-29 07:34:56 INFO  DistriOptimizer$:427 - [Epoch 5 22400/59840][Iteration 818][Wall Clock 324.617781439s] Trained 320.0 records in 0.363815737 seconds. Throughput is 879.56616 records/second. Loss is 0.020831756. \n",
            "2020-12-29 07:34:56 INFO  DistriOptimizer$:427 - [Epoch 5 22720/59840][Iteration 819][Wall Clock 324.971461418s] Trained 320.0 records in 0.353679979 seconds. Throughput is 904.7727 records/second. Loss is 0.017091423. \n",
            "2020-12-29 07:34:57 INFO  DistriOptimizer$:427 - [Epoch 5 23040/59840][Iteration 820][Wall Clock 325.327720157s] Trained 320.0 records in 0.356258739 seconds. Throughput is 898.2236 records/second. Loss is 0.030522127. \n",
            "2020-12-29 07:34:57 INFO  DistriOptimizer$:427 - [Epoch 5 23360/59840][Iteration 821][Wall Clock 325.682345605s] Trained 320.0 records in 0.354625448 seconds. Throughput is 902.36053 records/second. Loss is 0.02895252. \n",
            "2020-12-29 07:34:57 INFO  DistriOptimizer$:427 - [Epoch 5 23680/59840][Iteration 822][Wall Clock 326.044246692s] Trained 320.0 records in 0.361901087 seconds. Throughput is 884.21954 records/second. Loss is 0.0039083213. \n",
            "2020-12-29 07:34:58 INFO  DistriOptimizer$:427 - [Epoch 5 24000/59840][Iteration 823][Wall Clock 326.396748539s] Trained 320.0 records in 0.352501847 seconds. Throughput is 907.7967 records/second. Loss is 0.017495122. \n",
            "2020-12-29 07:34:58 INFO  DistriOptimizer$:427 - [Epoch 5 24320/59840][Iteration 824][Wall Clock 326.760413037s] Trained 320.0 records in 0.363664498 seconds. Throughput is 879.9319 records/second. Loss is 0.010918379. \n",
            "2020-12-29 07:34:58 INFO  DistriOptimizer$:427 - [Epoch 5 24640/59840][Iteration 825][Wall Clock 327.127532768s] Trained 320.0 records in 0.367119731 seconds. Throughput is 871.65027 records/second. Loss is 0.047418814. \n",
            "2020-12-29 07:34:59 INFO  DistriOptimizer$:427 - [Epoch 5 24960/59840][Iteration 826][Wall Clock 327.490203451s] Trained 320.0 records in 0.362670683 seconds. Throughput is 882.34314 records/second. Loss is 0.018115584. \n",
            "2020-12-29 07:34:59 INFO  DistriOptimizer$:427 - [Epoch 5 25280/59840][Iteration 827][Wall Clock 327.855649818s] Trained 320.0 records in 0.365446367 seconds. Throughput is 875.6415 records/second. Loss is 0.0060121473. \n",
            "2020-12-29 07:34:59 INFO  DistriOptimizer$:427 - [Epoch 5 25600/59840][Iteration 828][Wall Clock 328.216505925s] Trained 320.0 records in 0.360856107 seconds. Throughput is 886.78 records/second. Loss is 0.022485778. \n",
            "2020-12-29 07:35:00 INFO  DistriOptimizer$:427 - [Epoch 5 25920/59840][Iteration 829][Wall Clock 328.573559549s] Trained 320.0 records in 0.357053624 seconds. Throughput is 896.2239 records/second. Loss is 0.038338. \n",
            "2020-12-29 07:35:00 INFO  DistriOptimizer$:427 - [Epoch 5 26240/59840][Iteration 830][Wall Clock 328.923242188s] Trained 320.0 records in 0.349682639 seconds. Throughput is 915.11554 records/second. Loss is 0.0062979967. \n",
            "2020-12-29 07:35:01 INFO  DistriOptimizer$:427 - [Epoch 5 26560/59840][Iteration 831][Wall Clock 329.288780113s] Trained 320.0 records in 0.365537925 seconds. Throughput is 875.4222 records/second. Loss is 0.012651485. \n",
            "2020-12-29 07:35:01 INFO  DistriOptimizer$:427 - [Epoch 5 26880/59840][Iteration 832][Wall Clock 329.654914598s] Trained 320.0 records in 0.366134485 seconds. Throughput is 873.9958 records/second. Loss is 0.023130316. \n",
            "2020-12-29 07:35:01 INFO  DistriOptimizer$:427 - [Epoch 5 27200/59840][Iteration 833][Wall Clock 330.018313987s] Trained 320.0 records in 0.363399389 seconds. Throughput is 880.57385 records/second. Loss is 0.017277513. \n",
            "2020-12-29 07:35:02 INFO  DistriOptimizer$:427 - [Epoch 5 27520/59840][Iteration 834][Wall Clock 330.383655086s] Trained 320.0 records in 0.365341099 seconds. Throughput is 875.8938 records/second. Loss is 0.024921075. \n",
            "2020-12-29 07:35:02 INFO  DistriOptimizer$:427 - [Epoch 5 27840/59840][Iteration 835][Wall Clock 330.755912864s] Trained 320.0 records in 0.372257778 seconds. Throughput is 859.6194 records/second. Loss is 0.008698018. \n",
            "2020-12-29 07:35:02 INFO  DistriOptimizer$:427 - [Epoch 5 28160/59840][Iteration 836][Wall Clock 331.116955825s] Trained 320.0 records in 0.361042961 seconds. Throughput is 886.32117 records/second. Loss is 0.007323405. \n",
            "2020-12-29 07:35:03 INFO  DistriOptimizer$:427 - [Epoch 5 28480/59840][Iteration 837][Wall Clock 331.480893455s] Trained 320.0 records in 0.36393763 seconds. Throughput is 879.27155 records/second. Loss is 0.027999844. \n",
            "2020-12-29 07:35:03 INFO  DistriOptimizer$:427 - [Epoch 5 28800/59840][Iteration 838][Wall Clock 331.882506544s] Trained 320.0 records in 0.401613089 seconds. Throughput is 796.7868 records/second. Loss is 0.03261784. \n",
            "2020-12-29 07:35:03 INFO  DistriOptimizer$:427 - [Epoch 5 29120/59840][Iteration 839][Wall Clock 332.247467689s] Trained 320.0 records in 0.364961145 seconds. Throughput is 876.80566 records/second. Loss is 0.009556763. \n",
            "2020-12-29 07:35:04 INFO  DistriOptimizer$:427 - [Epoch 5 29440/59840][Iteration 840][Wall Clock 332.608534312s] Trained 320.0 records in 0.361066623 seconds. Throughput is 886.26306 records/second. Loss is 0.014856274. \n",
            "2020-12-29 07:35:04 INFO  DistriOptimizer$:427 - [Epoch 5 29760/59840][Iteration 841][Wall Clock 332.973118987s] Trained 320.0 records in 0.364584675 seconds. Throughput is 877.71106 records/second. Loss is 0.00602803. \n",
            "2020-12-29 07:35:05 INFO  DistriOptimizer$:427 - [Epoch 5 30080/59840][Iteration 842][Wall Clock 333.345155643s] Trained 320.0 records in 0.372036656 seconds. Throughput is 860.13025 records/second. Loss is 0.049015008. \n",
            "2020-12-29 07:35:05 INFO  DistriOptimizer$:427 - [Epoch 5 30400/59840][Iteration 843][Wall Clock 333.708051202s] Trained 320.0 records in 0.362895559 seconds. Throughput is 881.79645 records/second. Loss is 0.02866605. \n",
            "2020-12-29 07:35:05 INFO  DistriOptimizer$:427 - [Epoch 5 30720/59840][Iteration 844][Wall Clock 334.068505315s] Trained 320.0 records in 0.360454113 seconds. Throughput is 887.76904 records/second. Loss is 0.009416386. \n",
            "2020-12-29 07:35:06 INFO  DistriOptimizer$:427 - [Epoch 5 31040/59840][Iteration 845][Wall Clock 334.526092004s] Trained 320.0 records in 0.457586689 seconds. Throughput is 699.32104 records/second. Loss is 0.0115223145. \n",
            "2020-12-29 07:35:06 INFO  DistriOptimizer$:427 - [Epoch 5 31360/59840][Iteration 846][Wall Clock 334.901791658s] Trained 320.0 records in 0.375699654 seconds. Throughput is 851.7442 records/second. Loss is 0.025246575. \n",
            "2020-12-29 07:35:07 INFO  DistriOptimizer$:427 - [Epoch 5 31680/59840][Iteration 847][Wall Clock 335.280621647s] Trained 320.0 records in 0.378829989 seconds. Throughput is 844.7061 records/second. Loss is 0.0046853554. \n",
            "2020-12-29 07:35:07 INFO  DistriOptimizer$:427 - [Epoch 5 32000/59840][Iteration 848][Wall Clock 335.638275725s] Trained 320.0 records in 0.357654078 seconds. Throughput is 894.7193 records/second. Loss is 0.034255568. \n",
            "2020-12-29 07:35:07 INFO  DistriOptimizer$:427 - [Epoch 5 32320/59840][Iteration 849][Wall Clock 336.000184417s] Trained 320.0 records in 0.361908692 seconds. Throughput is 884.20087 records/second. Loss is 0.01440027. \n",
            "2020-12-29 07:35:08 INFO  DistriOptimizer$:427 - [Epoch 5 32640/59840][Iteration 850][Wall Clock 336.430524289s] Trained 320.0 records in 0.430339872 seconds. Throughput is 743.5983 records/second. Loss is 0.014161383. \n",
            "2020-12-29 07:35:08 INFO  DistriOptimizer$:427 - [Epoch 5 32960/59840][Iteration 851][Wall Clock 336.818722107s] Trained 320.0 records in 0.388197818 seconds. Throughput is 824.322 records/second. Loss is 0.019715287. \n",
            "2020-12-29 07:35:08 INFO  DistriOptimizer$:427 - [Epoch 5 33280/59840][Iteration 852][Wall Clock 337.197850779s] Trained 320.0 records in 0.379128672 seconds. Throughput is 844.04065 records/second. Loss is 0.025810152. \n",
            "2020-12-29 07:35:09 INFO  DistriOptimizer$:427 - [Epoch 5 33600/59840][Iteration 853][Wall Clock 337.562414861s] Trained 320.0 records in 0.364564082 seconds. Throughput is 877.7606 records/second. Loss is 0.043434106. \n",
            "2020-12-29 07:35:09 INFO  DistriOptimizer$:427 - [Epoch 5 33920/59840][Iteration 854][Wall Clock 337.916781147s] Trained 320.0 records in 0.354366286 seconds. Throughput is 903.02045 records/second. Loss is 0.02639824. \n",
            "2020-12-29 07:35:10 INFO  DistriOptimizer$:427 - [Epoch 5 34240/59840][Iteration 855][Wall Clock 338.294467244s] Trained 320.0 records in 0.377686097 seconds. Throughput is 847.26447 records/second. Loss is 0.015741441. \n",
            "2020-12-29 07:35:10 INFO  DistriOptimizer$:427 - [Epoch 5 34560/59840][Iteration 856][Wall Clock 338.68999997s] Trained 320.0 records in 0.395532726 seconds. Throughput is 809.03546 records/second. Loss is 0.0076069636. \n",
            "2020-12-29 07:35:10 INFO  DistriOptimizer$:427 - [Epoch 5 34880/59840][Iteration 857][Wall Clock 339.041461339s] Trained 320.0 records in 0.351461369 seconds. Throughput is 910.48413 records/second. Loss is 0.026910253. \n",
            "2020-12-29 07:35:11 INFO  DistriOptimizer$:427 - [Epoch 5 35200/59840][Iteration 858][Wall Clock 339.406351772s] Trained 320.0 records in 0.364890433 seconds. Throughput is 876.9756 records/second. Loss is 0.016996037. \n",
            "2020-12-29 07:35:11 INFO  DistriOptimizer$:427 - [Epoch 5 35520/59840][Iteration 859][Wall Clock 339.758659879s] Trained 320.0 records in 0.352308107 seconds. Throughput is 908.2959 records/second. Loss is 0.006034233. \n",
            "2020-12-29 07:35:11 INFO  DistriOptimizer$:427 - [Epoch 5 35840/59840][Iteration 860][Wall Clock 340.125630829s] Trained 320.0 records in 0.36697095 seconds. Throughput is 872.0036 records/second. Loss is 0.011052697. \n",
            "2020-12-29 07:35:12 INFO  DistriOptimizer$:427 - [Epoch 5 36160/59840][Iteration 861][Wall Clock 340.495593271s] Trained 320.0 records in 0.369962442 seconds. Throughput is 864.95264 records/second. Loss is 0.01204085. \n",
            "2020-12-29 07:35:12 INFO  DistriOptimizer$:427 - [Epoch 5 36480/59840][Iteration 862][Wall Clock 340.85520658s] Trained 320.0 records in 0.359613309 seconds. Throughput is 889.8447 records/second. Loss is 0.0312295. \n",
            "2020-12-29 07:35:12 INFO  DistriOptimizer$:427 - [Epoch 5 36800/59840][Iteration 863][Wall Clock 341.228003022s] Trained 320.0 records in 0.372796442 seconds. Throughput is 858.37726 records/second. Loss is 0.026272465. \n",
            "2020-12-29 07:35:13 INFO  DistriOptimizer$:427 - [Epoch 5 37120/59840][Iteration 864][Wall Clock 341.610266717s] Trained 320.0 records in 0.382263695 seconds. Throughput is 837.11847 records/second. Loss is 0.008416191. \n",
            "2020-12-29 07:35:13 INFO  DistriOptimizer$:427 - [Epoch 5 37440/59840][Iteration 865][Wall Clock 341.970878806s] Trained 320.0 records in 0.360612089 seconds. Throughput is 887.3801 records/second. Loss is 0.01219275. \n",
            "2020-12-29 07:35:14 INFO  DistriOptimizer$:427 - [Epoch 5 37760/59840][Iteration 866][Wall Clock 342.352953682s] Trained 320.0 records in 0.382074876 seconds. Throughput is 837.5322 records/second. Loss is 0.02520955. \n",
            "2020-12-29 07:35:14 INFO  DistriOptimizer$:427 - [Epoch 5 38080/59840][Iteration 867][Wall Clock 342.711392031s] Trained 320.0 records in 0.358438349 seconds. Throughput is 892.76166 records/second. Loss is 0.023970254. \n",
            "2020-12-29 07:35:14 INFO  DistriOptimizer$:427 - [Epoch 5 38400/59840][Iteration 868][Wall Clock 343.060791895s] Trained 320.0 records in 0.349399864 seconds. Throughput is 915.8561 records/second. Loss is 0.01986085. \n",
            "2020-12-29 07:35:15 INFO  DistriOptimizer$:427 - [Epoch 5 38720/59840][Iteration 869][Wall Clock 343.426905057s] Trained 320.0 records in 0.366113162 seconds. Throughput is 874.0467 records/second. Loss is 0.008617405. \n",
            "2020-12-29 07:35:15 INFO  DistriOptimizer$:427 - [Epoch 5 39040/59840][Iteration 870][Wall Clock 343.786456218s] Trained 320.0 records in 0.359551161 seconds. Throughput is 889.99854 records/second. Loss is 0.01845824. \n",
            "2020-12-29 07:35:15 INFO  DistriOptimizer$:427 - [Epoch 5 39360/59840][Iteration 871][Wall Clock 344.145321389s] Trained 320.0 records in 0.358865171 seconds. Throughput is 891.69977 records/second. Loss is 0.027802464. \n",
            "2020-12-29 07:35:16 INFO  DistriOptimizer$:427 - [Epoch 5 39680/59840][Iteration 872][Wall Clock 344.51870684s] Trained 320.0 records in 0.373385451 seconds. Throughput is 857.0232 records/second. Loss is 0.037126906. \n",
            "2020-12-29 07:35:16 INFO  DistriOptimizer$:427 - [Epoch 5 40000/59840][Iteration 873][Wall Clock 344.882149632s] Trained 320.0 records in 0.363442792 seconds. Throughput is 880.46875 records/second. Loss is 0.022892334. \n",
            "2020-12-29 07:35:17 INFO  DistriOptimizer$:427 - [Epoch 5 40320/59840][Iteration 874][Wall Clock 345.247703465s] Trained 320.0 records in 0.365553833 seconds. Throughput is 875.3841 records/second. Loss is 0.015415292. \n",
            "2020-12-29 07:35:17 INFO  DistriOptimizer$:427 - [Epoch 5 40640/59840][Iteration 875][Wall Clock 345.641078583s] Trained 320.0 records in 0.393375118 seconds. Throughput is 813.4729 records/second. Loss is 0.007048119. \n",
            "2020-12-29 07:35:17 INFO  DistriOptimizer$:427 - [Epoch 5 40960/59840][Iteration 876][Wall Clock 346.036828974s] Trained 320.0 records in 0.395750391 seconds. Throughput is 808.59045 records/second. Loss is 0.0069263233. \n",
            "2020-12-29 07:35:18 INFO  DistriOptimizer$:427 - [Epoch 5 41280/59840][Iteration 877][Wall Clock 346.410704321s] Trained 320.0 records in 0.373875347 seconds. Throughput is 855.9002 records/second. Loss is 0.006721869. \n",
            "2020-12-29 07:35:18 INFO  DistriOptimizer$:427 - [Epoch 5 41600/59840][Iteration 878][Wall Clock 346.7737533s] Trained 320.0 records in 0.363048979 seconds. Throughput is 881.42377 records/second. Loss is 0.008813551. \n",
            "2020-12-29 07:35:18 INFO  DistriOptimizer$:427 - [Epoch 5 41920/59840][Iteration 879][Wall Clock 347.130334719s] Trained 320.0 records in 0.356581419 seconds. Throughput is 897.41077 records/second. Loss is 0.008940696. \n",
            "2020-12-29 07:35:19 INFO  DistriOptimizer$:427 - [Epoch 5 42240/59840][Iteration 880][Wall Clock 347.50571756s] Trained 320.0 records in 0.375382841 seconds. Throughput is 852.4631 records/second. Loss is 0.018893402. \n",
            "2020-12-29 07:35:19 INFO  DistriOptimizer$:427 - [Epoch 5 42560/59840][Iteration 881][Wall Clock 347.866072028s] Trained 320.0 records in 0.360354468 seconds. Throughput is 888.0145 records/second. Loss is 0.044730503. \n",
            "2020-12-29 07:35:19 INFO  DistriOptimizer$:427 - [Epoch 5 42880/59840][Iteration 882][Wall Clock 348.223763245s] Trained 320.0 records in 0.357691217 seconds. Throughput is 894.62634 records/second. Loss is 0.018887138. \n",
            "2020-12-29 07:35:20 INFO  DistriOptimizer$:427 - [Epoch 5 43200/59840][Iteration 883][Wall Clock 348.598661196s] Trained 320.0 records in 0.374897951 seconds. Throughput is 853.5656 records/second. Loss is 0.023538144. \n",
            "2020-12-29 07:35:20 INFO  DistriOptimizer$:427 - [Epoch 5 43520/59840][Iteration 884][Wall Clock 348.987747886s] Trained 320.0 records in 0.38908669 seconds. Throughput is 822.43884 records/second. Loss is 0.014787738. \n",
            "2020-12-29 07:35:21 INFO  DistriOptimizer$:427 - [Epoch 5 43840/59840][Iteration 885][Wall Clock 349.409929423s] Trained 320.0 records in 0.422181537 seconds. Throughput is 757.9678 records/second. Loss is 0.005744891. \n",
            "2020-12-29 07:35:21 INFO  DistriOptimizer$:427 - [Epoch 5 44160/59840][Iteration 886][Wall Clock 349.787226423s] Trained 320.0 records in 0.377297 seconds. Throughput is 848.1382 records/second. Loss is 0.0048589967. \n",
            "2020-12-29 07:35:21 INFO  DistriOptimizer$:427 - [Epoch 5 44480/59840][Iteration 887][Wall Clock 350.16907075s] Trained 320.0 records in 0.381844327 seconds. Throughput is 838.03784 records/second. Loss is 0.01256842. \n",
            "2020-12-29 07:35:22 INFO  DistriOptimizer$:427 - [Epoch 5 44800/59840][Iteration 888][Wall Clock 350.54324669s] Trained 320.0 records in 0.37417594 seconds. Throughput is 855.21265 records/second. Loss is 0.0138811655. \n",
            "2020-12-29 07:35:22 INFO  DistriOptimizer$:427 - [Epoch 5 45120/59840][Iteration 889][Wall Clock 350.921488824s] Trained 320.0 records in 0.378242134 seconds. Throughput is 846.0189 records/second. Loss is 0.029221952. \n",
            "2020-12-29 07:35:23 INFO  DistriOptimizer$:427 - [Epoch 5 45440/59840][Iteration 890][Wall Clock 351.298831495s] Trained 320.0 records in 0.377342671 seconds. Throughput is 848.0355 records/second. Loss is 0.009196818. \n",
            "2020-12-29 07:35:23 INFO  DistriOptimizer$:427 - [Epoch 5 45760/59840][Iteration 891][Wall Clock 351.710293078s] Trained 320.0 records in 0.411461583 seconds. Throughput is 777.71533 records/second. Loss is 0.008233752. \n",
            "2020-12-29 07:35:23 INFO  DistriOptimizer$:427 - [Epoch 5 46080/59840][Iteration 892][Wall Clock 352.078908638s] Trained 320.0 records in 0.36861556 seconds. Throughput is 868.1131 records/second. Loss is 0.005684659. \n",
            "2020-12-29 07:35:24 INFO  DistriOptimizer$:427 - [Epoch 5 46400/59840][Iteration 893][Wall Clock 352.438862205s] Trained 320.0 records in 0.359953567 seconds. Throughput is 889.0036 records/second. Loss is 0.02779333. \n",
            "2020-12-29 07:35:24 INFO  DistriOptimizer$:427 - [Epoch 5 46720/59840][Iteration 894][Wall Clock 352.818172369s] Trained 320.0 records in 0.379310164 seconds. Throughput is 843.6368 records/second. Loss is 0.012728764. \n",
            "2020-12-29 07:35:25 INFO  DistriOptimizer$:427 - [Epoch 5 47040/59840][Iteration 895][Wall Clock 353.264462763s] Trained 320.0 records in 0.446290394 seconds. Throughput is 717.0219 records/second. Loss is 0.015046083. \n",
            "2020-12-29 07:35:25 INFO  DistriOptimizer$:427 - [Epoch 5 47360/59840][Iteration 896][Wall Clock 353.637146818s] Trained 320.0 records in 0.372684055 seconds. Throughput is 858.6361 records/second. Loss is 0.027548073. \n",
            "2020-12-29 07:35:25 INFO  DistriOptimizer$:427 - [Epoch 5 47680/59840][Iteration 897][Wall Clock 354.000151746s] Trained 320.0 records in 0.363004928 seconds. Throughput is 881.53076 records/second. Loss is 0.018784467. \n",
            "2020-12-29 07:35:26 INFO  DistriOptimizer$:427 - [Epoch 5 48000/59840][Iteration 898][Wall Clock 354.346685729s] Trained 320.0 records in 0.346533983 seconds. Throughput is 923.43036 records/second. Loss is 0.008231151. \n",
            "2020-12-29 07:35:26 INFO  DistriOptimizer$:427 - [Epoch 5 48320/59840][Iteration 899][Wall Clock 354.716405322s] Trained 320.0 records in 0.369719593 seconds. Throughput is 865.5208 records/second. Loss is 0.008685321. \n",
            "2020-12-29 07:35:26 INFO  DistriOptimizer$:427 - [Epoch 5 48640/59840][Iteration 900][Wall Clock 355.085523179s] Trained 320.0 records in 0.369117857 seconds. Throughput is 866.93176 records/second. Loss is 0.025938908. \n",
            "2020-12-29 07:35:27 INFO  DistriOptimizer$:427 - [Epoch 5 48960/59840][Iteration 901][Wall Clock 355.480099552s] Trained 320.0 records in 0.394576373 seconds. Throughput is 810.99634 records/second. Loss is 0.02360348. \n",
            "2020-12-29 07:35:27 INFO  DistriOptimizer$:427 - [Epoch 5 49280/59840][Iteration 902][Wall Clock 355.914492323s] Trained 320.0 records in 0.434392771 seconds. Throughput is 736.6605 records/second. Loss is 0.022689806. \n",
            "2020-12-29 07:35:28 INFO  DistriOptimizer$:427 - [Epoch 5 49600/59840][Iteration 903][Wall Clock 356.330684037s] Trained 320.0 records in 0.416191714 seconds. Throughput is 768.8764 records/second. Loss is 0.02389628. \n",
            "2020-12-29 07:35:28 INFO  DistriOptimizer$:427 - [Epoch 5 49920/59840][Iteration 904][Wall Clock 356.754550897s] Trained 320.0 records in 0.42386686 seconds. Throughput is 754.95404 records/second. Loss is 0.010068134. \n",
            "2020-12-29 07:35:28 INFO  DistriOptimizer$:427 - [Epoch 5 50240/59840][Iteration 905][Wall Clock 357.175177397s] Trained 320.0 records in 0.4206265 seconds. Throughput is 760.76996 records/second. Loss is 0.0049863285. \n",
            "2020-12-29 07:35:29 INFO  DistriOptimizer$:427 - [Epoch 5 50560/59840][Iteration 906][Wall Clock 357.61706247s] Trained 320.0 records in 0.441885073 seconds. Throughput is 724.17017 records/second. Loss is 0.003939092. \n",
            "2020-12-29 07:35:29 INFO  DistriOptimizer$:427 - [Epoch 5 50880/59840][Iteration 907][Wall Clock 358.038198175s] Trained 320.0 records in 0.421135705 seconds. Throughput is 759.8501 records/second. Loss is 0.015094296. \n",
            "2020-12-29 07:35:30 INFO  DistriOptimizer$:427 - [Epoch 5 51200/59840][Iteration 908][Wall Clock 358.479070078s] Trained 320.0 records in 0.440871903 seconds. Throughput is 725.8344 records/second. Loss is 0.017307952. \n",
            "2020-12-29 07:35:30 INFO  DistriOptimizer$:427 - [Epoch 5 51520/59840][Iteration 909][Wall Clock 358.905068726s] Trained 320.0 records in 0.425998648 seconds. Throughput is 751.1761 records/second. Loss is 0.034049384. \n",
            "2020-12-29 07:35:31 INFO  DistriOptimizer$:427 - [Epoch 5 51840/59840][Iteration 910][Wall Clock 359.315376717s] Trained 320.0 records in 0.410307991 seconds. Throughput is 779.9019 records/second. Loss is 0.01644609. \n",
            "2020-12-29 07:35:31 INFO  DistriOptimizer$:427 - [Epoch 5 52160/59840][Iteration 911][Wall Clock 359.72114845s] Trained 320.0 records in 0.405771733 seconds. Throughput is 788.6207 records/second. Loss is 0.01321342. \n",
            "2020-12-29 07:35:31 INFO  DistriOptimizer$:427 - [Epoch 5 52480/59840][Iteration 912][Wall Clock 360.091275853s] Trained 320.0 records in 0.370127403 seconds. Throughput is 864.56714 records/second. Loss is 0.011608024. \n",
            "2020-12-29 07:35:32 INFO  DistriOptimizer$:427 - [Epoch 5 52800/59840][Iteration 913][Wall Clock 360.481434289s] Trained 320.0 records in 0.390158436 seconds. Throughput is 820.1796 records/second. Loss is 0.016590096. \n",
            "2020-12-29 07:35:32 INFO  DistriOptimizer$:427 - [Epoch 5 53120/59840][Iteration 914][Wall Clock 360.857968019s] Trained 320.0 records in 0.37653373 seconds. Throughput is 849.8575 records/second. Loss is 0.036435694. \n",
            "2020-12-29 07:35:33 INFO  DistriOptimizer$:427 - [Epoch 5 53440/59840][Iteration 915][Wall Clock 361.232051582s] Trained 320.0 records in 0.374083563 seconds. Throughput is 855.4239 records/second. Loss is 0.0103655495. \n",
            "2020-12-29 07:35:33 INFO  DistriOptimizer$:427 - [Epoch 5 53760/59840][Iteration 916][Wall Clock 361.591598368s] Trained 320.0 records in 0.359546786 seconds. Throughput is 890.00934 records/second. Loss is 0.016372265. \n",
            "2020-12-29 07:35:33 INFO  DistriOptimizer$:427 - [Epoch 5 54080/59840][Iteration 917][Wall Clock 361.963695572s] Trained 320.0 records in 0.372097204 seconds. Throughput is 859.99036 records/second. Loss is 0.012579301. \n",
            "2020-12-29 07:35:34 INFO  DistriOptimizer$:427 - [Epoch 5 54400/59840][Iteration 918][Wall Clock 362.318777749s] Trained 320.0 records in 0.355082177 seconds. Throughput is 901.1998 records/second. Loss is 0.0070338026. \n",
            "2020-12-29 07:35:34 INFO  DistriOptimizer$:427 - [Epoch 5 54720/59840][Iteration 919][Wall Clock 362.678316851s] Trained 320.0 records in 0.359539102 seconds. Throughput is 890.0284 records/second. Loss is 0.04289802. \n",
            "2020-12-29 07:35:34 INFO  DistriOptimizer$:427 - [Epoch 5 55040/59840][Iteration 920][Wall Clock 363.046757117s] Trained 320.0 records in 0.368440266 seconds. Throughput is 868.5261 records/second. Loss is 0.014591698. \n",
            "2020-12-29 07:35:35 INFO  DistriOptimizer$:427 - [Epoch 5 55360/59840][Iteration 921][Wall Clock 363.414681683s] Trained 320.0 records in 0.367924566 seconds. Throughput is 869.74347 records/second. Loss is 0.02142312. \n",
            "2020-12-29 07:35:35 INFO  DistriOptimizer$:427 - [Epoch 5 55680/59840][Iteration 922][Wall Clock 363.781956985s] Trained 320.0 records in 0.367275302 seconds. Throughput is 871.281 records/second. Loss is 0.013329019. \n",
            "2020-12-29 07:35:35 INFO  DistriOptimizer$:427 - [Epoch 5 56000/59840][Iteration 923][Wall Clock 364.140293732s] Trained 320.0 records in 0.358336747 seconds. Throughput is 893.0148 records/second. Loss is 0.01121635. \n",
            "2020-12-29 07:35:36 INFO  DistriOptimizer$:427 - [Epoch 5 56320/59840][Iteration 924][Wall Clock 364.560212044s] Trained 320.0 records in 0.419918312 seconds. Throughput is 762.053 records/second. Loss is 0.013836106. \n",
            "2020-12-29 07:35:36 INFO  DistriOptimizer$:427 - [Epoch 5 56640/59840][Iteration 925][Wall Clock 364.937828709s] Trained 320.0 records in 0.377616665 seconds. Throughput is 847.4202 records/second. Loss is 0.016665136. \n",
            "2020-12-29 07:35:37 INFO  DistriOptimizer$:427 - [Epoch 5 56960/59840][Iteration 926][Wall Clock 365.311362685s] Trained 320.0 records in 0.373533976 seconds. Throughput is 856.6825 records/second. Loss is 0.02988085. \n",
            "2020-12-29 07:35:37 INFO  DistriOptimizer$:427 - [Epoch 5 57280/59840][Iteration 927][Wall Clock 365.674388497s] Trained 320.0 records in 0.363025812 seconds. Throughput is 881.48004 records/second. Loss is 0.015812019. \n",
            "2020-12-29 07:35:37 INFO  DistriOptimizer$:427 - [Epoch 5 57600/59840][Iteration 928][Wall Clock 366.045474913s] Trained 320.0 records in 0.371086416 seconds. Throughput is 862.3328 records/second. Loss is 0.020048542. \n",
            "2020-12-29 07:35:38 INFO  DistriOptimizer$:427 - [Epoch 5 57920/59840][Iteration 929][Wall Clock 366.412410456s] Trained 320.0 records in 0.366935543 seconds. Throughput is 872.08777 records/second. Loss is 0.027425066. \n",
            "2020-12-29 07:35:38 INFO  DistriOptimizer$:427 - [Epoch 5 58240/59840][Iteration 930][Wall Clock 366.775878037s] Trained 320.0 records in 0.363467581 seconds. Throughput is 880.4086 records/second. Loss is 0.025153136. \n",
            "2020-12-29 07:35:38 INFO  DistriOptimizer$:427 - [Epoch 5 58560/59840][Iteration 931][Wall Clock 367.156341354s] Trained 320.0 records in 0.380463317 seconds. Throughput is 841.07983 records/second. Loss is 0.025862841. \n",
            "2020-12-29 07:35:39 INFO  DistriOptimizer$:427 - [Epoch 5 58880/59840][Iteration 932][Wall Clock 367.553145863s] Trained 320.0 records in 0.396804509 seconds. Throughput is 806.44244 records/second. Loss is 0.00766588. \n",
            "2020-12-29 07:35:39 INFO  DistriOptimizer$:427 - [Epoch 5 59200/59840][Iteration 933][Wall Clock 367.920356147s] Trained 320.0 records in 0.367210284 seconds. Throughput is 871.43524 records/second. Loss is 0.009374079. \n",
            "2020-12-29 07:35:40 INFO  DistriOptimizer$:427 - [Epoch 5 59520/59840][Iteration 934][Wall Clock 368.216770572s] Trained 320.0 records in 0.296414425 seconds. Throughput is 1079.5696 records/second. Loss is 0.033176817. \n",
            "2020-12-29 07:35:40 INFO  DistriOptimizer$:427 - [Epoch 5 59840/59840][Iteration 935][Wall Clock 368.502467977s] Trained 320.0 records in 0.285697405 seconds. Throughput is 1120.0662 records/second. Loss is 0.015232663. \n",
            "2020-12-29 07:35:40 INFO  DistriOptimizer$:472 - [Epoch 5 59840/59840][Iteration 935][Wall Clock 368.502467977s] Epoch finished. Wall clock time is 374755.782364 ms\n",
            "2020-12-29 07:35:40 INFO  DistriOptimizer$:111 - [Epoch 5 59840/59840][Iteration 935][Wall Clock 368.502467977s] Validate model...\n"
          ],
          "name": "stdout"
        },
        {
          "output_type": "stream",
          "text": [
            ""
          ],
          "name": "stderr"
        },
        {
          "output_type": "stream",
          "text": [
            "2020-12-29 07:35:46 INFO  DistriOptimizer$:177 - [Epoch 5 59840/59840][Iteration 935][Wall Clock 368.502467977s] validate model throughput is 1517.8936 records/second\n",
            "2020-12-29 07:35:46 INFO  DistriOptimizer$:180 - [Epoch 5 59840/59840][Iteration 935][Wall Clock 368.502467977s] acc is (acc: 9911.0, count: 10000, Average acc: 0.9911)\n",
            "INFO:tensorflow:Restoring parameters from /tmp/tmp5m9wfi_c/model\n"
          ],
          "name": "stdout"
        },
        {
          "output_type": "stream",
          "text": [
            "INFO:tensorflow:Restoring parameters from /tmp/tmp5m9wfi_c/model\n"
          ],
          "name": "stderr"
        },
        {
          "output_type": "stream",
          "text": [
            "creating: createStatelessMetric\n",
            "WARNING:tensorflow:From /usr/local/lib/python3.6/dist-packages/zoo/tfpark/tfnet.py:275: simple_save (from tensorflow.python.saved_model.simple_save) is deprecated and will be removed in a future version.\n",
            "Instructions for updating:\n",
            "This function will only be available through the v1 compatibility library as tf.compat.v1.saved_model.simple_save.\n"
          ],
          "name": "stdout"
        },
        {
          "output_type": "stream",
          "text": [
            "WARNING:tensorflow:From /usr/local/lib/python3.6/dist-packages/zoo/tfpark/tfnet.py:275: simple_save (from tensorflow.python.saved_model.simple_save) is deprecated and will be removed in a future version.\n",
            "Instructions for updating:\n",
            "This function will only be available through the v1 compatibility library as tf.compat.v1.saved_model.simple_save.\n"
          ],
          "name": "stderr"
        },
        {
          "output_type": "stream",
          "text": [
            "WARNING:tensorflow:From /usr/local/lib/python3.6/dist-packages/tensorflow_core/python/saved_model/signature_def_utils_impl.py:201: build_tensor_info (from tensorflow.python.saved_model.utils_impl) is deprecated and will be removed in a future version.\n",
            "Instructions for updating:\n",
            "This function will only be available through the v1 compatibility library as tf.compat.v1.saved_model.utils.build_tensor_info or tf.compat.v1.saved_model.build_tensor_info.\n"
          ],
          "name": "stdout"
        },
        {
          "output_type": "stream",
          "text": [
            "WARNING:tensorflow:From /usr/local/lib/python3.6/dist-packages/tensorflow_core/python/saved_model/signature_def_utils_impl.py:201: build_tensor_info (from tensorflow.python.saved_model.utils_impl) is deprecated and will be removed in a future version.\n",
            "Instructions for updating:\n",
            "This function will only be available through the v1 compatibility library as tf.compat.v1.saved_model.utils.build_tensor_info or tf.compat.v1.saved_model.build_tensor_info.\n"
          ],
          "name": "stderr"
        },
        {
          "output_type": "stream",
          "text": [
            "INFO:tensorflow:Assets added to graph.\n"
          ],
          "name": "stdout"
        },
        {
          "output_type": "stream",
          "text": [
            "INFO:tensorflow:Assets added to graph.\n"
          ],
          "name": "stderr"
        },
        {
          "output_type": "stream",
          "text": [
            "INFO:tensorflow:No assets to write.\n"
          ],
          "name": "stdout"
        },
        {
          "output_type": "stream",
          "text": [
            "INFO:tensorflow:No assets to write.\n"
          ],
          "name": "stderr"
        },
        {
          "output_type": "stream",
          "text": [
            "WARNING:tensorflow:Issue encountered when serializing zoo_input_0:0.\n",
            "Type is unsupported, or the types of the items don't match field type in CollectionDef. Note this is a warning and probably safe to ignore.\n",
            "'TFDataDataset' object has no attribute 'name'\n"
          ],
          "name": "stdout"
        },
        {
          "output_type": "stream",
          "text": [
            "WARNING:tensorflow:Issue encountered when serializing zoo_input_0:0.\n",
            "Type is unsupported, or the types of the items don't match field type in CollectionDef. Note this is a warning and probably safe to ignore.\n",
            "'TFDataDataset' object has no attribute 'name'\n"
          ],
          "name": "stderr"
        },
        {
          "output_type": "stream",
          "text": [
            "WARNING:tensorflow:Issue encountered when serializing zoo_input_1:0.\n",
            "Type is unsupported, or the types of the items don't match field type in CollectionDef. Note this is a warning and probably safe to ignore.\n",
            "'TFDataDataset' object has no attribute 'name'\n"
          ],
          "name": "stdout"
        },
        {
          "output_type": "stream",
          "text": [
            "WARNING:tensorflow:Issue encountered when serializing zoo_input_1:0.\n",
            "Type is unsupported, or the types of the items don't match field type in CollectionDef. Note this is a warning and probably safe to ignore.\n",
            "'TFDataDataset' object has no attribute 'name'\n"
          ],
          "name": "stderr"
        },
        {
          "output_type": "stream",
          "text": [
            "INFO:tensorflow:SavedModel written to: /tmp/tmp7wh_8fn4/saved_model.pb\n"
          ],
          "name": "stdout"
        },
        {
          "output_type": "stream",
          "text": [
            "INFO:tensorflow:SavedModel written to: /tmp/tmp7wh_8fn4/saved_model.pb\n"
          ],
          "name": "stderr"
        },
        {
          "output_type": "stream",
          "text": [
            "2020-12-29 07:35:48 WARN  TFNetForInference$:234 - Loading TensorFlow SavedModel: SavedModel tag is not defined, using <serve>\n"
          ],
          "name": "stdout"
        },
        {
          "output_type": "stream",
          "text": [
            "2020-12-29 07:35:48.556294: I tensorflow/cc/saved_model/reader.cc:31] Reading SavedModel from: /tmp/tmp7wh_8fn4\n",
            "2020-12-29 07:35:48.561259: I tensorflow/cc/saved_model/reader.cc:54] Reading meta graph with tags { serve }\n",
            "2020-12-29 07:35:48.568121: I tensorflow/core/common_runtime/process_util.cc:115] Creating new thread pool with default inter op setting: 2. Tune using inter_op_parallelism_threads for best performance.\n",
            "2020-12-29 07:35:48.586972: I tensorflow/cc/saved_model/loader.cc:202] Restoring SavedModel bundle.\n",
            "2020-12-29 07:35:48.686546: I tensorflow/cc/saved_model/loader.cc:311] SavedModel load for tags { serve }; Status: success. Took 130215 microseconds.\n",
            "[Stage 1904:==========================================>             (3 + 1) / 4]"
          ],
          "name": "stderr"
        },
        {
          "output_type": "stream",
          "text": [
            "{'acc': 0.991100013256073}\n",
            "WARNING:tensorflow:Issue encountered when serializing zoo_input_0:0.\n",
            "Type is unsupported, or the types of the items don't match field type in CollectionDef. Note this is a warning and probably safe to ignore.\n",
            "'TFDataDataset' object has no attribute 'name'\n"
          ],
          "name": "stdout"
        },
        {
          "output_type": "stream",
          "text": [
            "\r                                                                                \rWARNING:tensorflow:Issue encountered when serializing zoo_input_0:0.\n",
            "Type is unsupported, or the types of the items don't match field type in CollectionDef. Note this is a warning and probably safe to ignore.\n",
            "'TFDataDataset' object has no attribute 'name'\n"
          ],
          "name": "stderr"
        },
        {
          "output_type": "stream",
          "text": [
            "WARNING:tensorflow:Issue encountered when serializing zoo_input_1:0.\n",
            "Type is unsupported, or the types of the items don't match field type in CollectionDef. Note this is a warning and probably safe to ignore.\n",
            "'TFDataDataset' object has no attribute 'name'\n"
          ],
          "name": "stdout"
        },
        {
          "output_type": "stream",
          "text": [
            "WARNING:tensorflow:Issue encountered when serializing zoo_input_1:0.\n",
            "Type is unsupported, or the types of the items don't match field type in CollectionDef. Note this is a warning and probably safe to ignore.\n",
            "'TFDataDataset' object has no attribute 'name'\n"
          ],
          "name": "stderr"
        }
      ]
    }
  ]
}